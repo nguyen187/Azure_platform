{
 "cells": [
  {
   "cell_type": "code",
   "execution_count": 0,
   "metadata": {
    "application/vnd.databricks.v1+cell": {
     "cellMetadata": {
      "byteLimit": 2048000,
      "rowLimit": 10000
     },
     "inputWidgets": {},
     "nuid": "4845664c-28d8-435b-bf0c-f56cb6243767",
     "showTitle": false,
     "title": ""
    }
   },
   "outputs": [
    {
     "output_type": "display_data",
     "data": {
      "text/html": [
       "<style scoped>\n",
       "  .ansiout {\n",
       "    display: block;\n",
       "    unicode-bidi: embed;\n",
       "    white-space: pre-wrap;\n",
       "    word-wrap: break-word;\n",
       "    word-break: break-all;\n",
       "    font-family: \"Source Code Pro\", \"Menlo\", monospace;;\n",
       "    font-size: 13px;\n",
       "    color: #555;\n",
       "    margin-left: 4px;\n",
       "    line-height: 19px;\n",
       "  }\n",
       "</style>\n",
       "<div class=\"ansiout\"></div>"
      ]
     },
     "metadata": {
      "application/vnd.databricks.v1+output": {
       "addedWidgets": {},
       "arguments": {},
       "data": "<div class=\"ansiout\"></div>",
       "datasetInfos": [],
       "metadata": {},
       "removedWidgets": [],
       "type": "html"
      }
     },
     "output_type": "display_data"
    }
   ],
   "source": [
    "from pyspark.sql import SparkSession\n",
    "from pyspark.streaming import StreamingContext\n",
    "from pyspark.ml import PipelineModel\n",
    "from pyspark.sql.functions import *\n",
    "from pyspark.sql.types import *"
   ]
  },
  {
   "cell_type": "markdown",
   "metadata": {
    "application/vnd.databricks.v1+cell": {
     "cellMetadata": {
      "byteLimit": 2048000,
      "rowLimit": 10000
     },
     "inputWidgets": {},
     "nuid": "80b0289e-c715-4932-a5c6-196ad8e2610f",
     "showTitle": false,
     "title": ""
    }
   },
   "source": [
    "## Init session for spark stream"
   ]
  },
  {
   "cell_type": "code",
   "execution_count": 0,
   "metadata": {
    "application/vnd.databricks.v1+cell": {
     "cellMetadata": {
      "byteLimit": 2048000,
      "rowLimit": 10000
     },
     "inputWidgets": {},
     "nuid": "793a54fa-0b7c-4b73-b941-3ed2527c37be",
     "showTitle": false,
     "title": ""
    }
   },
   "outputs": [
    {
     "output_type": "display_data",
     "data": {
      "text/html": [
       "<style scoped>\n",
       "  .ansiout {\n",
       "    display: block;\n",
       "    unicode-bidi: embed;\n",
       "    white-space: pre-wrap;\n",
       "    word-wrap: break-word;\n",
       "    word-break: break-all;\n",
       "    font-family: \"Source Code Pro\", \"Menlo\", monospace;;\n",
       "    font-size: 13px;\n",
       "    color: #555;\n",
       "    margin-left: 4px;\n",
       "    line-height: 19px;\n",
       "  }\n",
       "</style>\n",
       "<div class=\"ansiout\"></div>"
      ]
     },
     "metadata": {
      "application/vnd.databricks.v1+output": {
       "addedWidgets": {},
       "arguments": {},
       "data": "<div class=\"ansiout\"></div>",
       "datasetInfos": [],
       "metadata": {},
       "removedWidgets": [],
       "type": "html"
      }
     },
     "output_type": "display_data"
    }
   ],
   "source": [
    "# from pyspark.sql import SparkSession\n",
    "from pyspark.sql import SparkSession\n",
    "\n",
    "spark = SparkSession.builder \\\n",
    "    .appName(\"CassandraConnector\") \\\n",
    "    .getOrCreate()\n",
    "\n",
    "# .config(\"spark.cassandra.connection.host\", \"nguyen1.cassandra.cosmosdb.azure.com\") \\\n",
    "    # .config(\"spark.cassandra.connection.port\", \"10350\") \\\n",
    "    # .config(\"spark.cassandra.connection.ssl.enabled\", \"true\") \\\n",
    "    # .config(\"spark.cassandra.auth.username\", \"nguyen1\") \\\n",
    "    # .config(\"spark.cassandra.auth.password\", \"tFxJTIwdSIw4rteuMOsdQ02xh2mz4VeW6jGCsqRNyYVopwScS5WUZQ0pLAluqDwN1N5epFxnRHvOACDb7j9hpA==\") \\\n",
    "    # .config(\"spark.cassandra.output.batch.size.rows\", \"1\") \\\n",
    "    # .config(\"spark.cassandra.connection.remoteConnectionsPerExecutor\", \"10\")  \\\n",
    "    # .config(\"spark.cassandra.output.concurrent.writes\", \"1000\") \\\n",
    "    # .config(\"spark.cassandra.concurrent.reads\", \"512\") \\\n",
    "    # .config(\"spark.cassandra.output.batch.grouping.buffer.size\", \"1000\") \\\n",
    "    # .config(\"spark.cassandra.connection.keep_alive_ms\", \"600000000\") \\\n",
    "\n",
    "\n",
    "## -------------------------------------------\n",
    "spark = SparkSession.builder.appName(\"EventHubStreaming\").getOrCreate()\n",
    "ssc = StreamingContext(spark.sparkContext, 1)  # Thay `batchDuration` bằng thời gian cách nhau giữa các batch (ví dụ: 5 giây)\n"
   ]
  },
  {
   "cell_type": "markdown",
   "metadata": {
    "application/vnd.databricks.v1+cell": {
     "cellMetadata": {
      "byteLimit": 2048000,
      "rowLimit": 10000
     },
     "inputWidgets": {},
     "nuid": "cfc564ba-72ef-4cdc-96c0-ecad1837023c",
     "showTitle": false,
     "title": ""
    }
   },
   "source": [
    "##Create schema data"
   ]
  },
  {
   "cell_type": "code",
   "execution_count": 0,
   "metadata": {
    "application/vnd.databricks.v1+cell": {
     "cellMetadata": {
      "byteLimit": 2048000,
      "rowLimit": 10000
     },
     "inputWidgets": {},
     "nuid": "374a72cd-b666-4835-adf2-9166c30ac62e",
     "showTitle": false,
     "title": ""
    }
   },
   "outputs": [
    {
     "output_type": "display_data",
     "data": {
      "text/html": [
       "<style scoped>\n",
       "  .ansiout {\n",
       "    display: block;\n",
       "    unicode-bidi: embed;\n",
       "    white-space: pre-wrap;\n",
       "    word-wrap: break-word;\n",
       "    word-break: break-all;\n",
       "    font-family: \"Source Code Pro\", \"Menlo\", monospace;;\n",
       "    font-size: 13px;\n",
       "    color: #555;\n",
       "    margin-left: 4px;\n",
       "    line-height: 19px;\n",
       "  }\n",
       "</style>\n",
       "<div class=\"ansiout\"></div>"
      ]
     },
     "metadata": {
      "application/vnd.databricks.v1+output": {
       "addedWidgets": {},
       "arguments": {},
       "data": "<div class=\"ansiout\"></div>",
       "datasetInfos": [],
       "metadata": {},
       "removedWidgets": [],
       "type": "html"
      }
     },
     "output_type": "display_data"
    }
   ],
   "source": [
    "from pyspark.sql.types import StructType, StructField, StringType, TimestampType,DoubleType\n",
    "Schema = StructType([\n",
    "    StructField(\"Cust\", StringType()),\n",
    "    StructField(\"Project_ID\", StringType()),\n",
    "    StructField(\"BatchID\", StringType()),\n",
    "\n",
    "    StructField(\"Time (h)\", TimestampType()),\n",
    "StructField(\"Aeration rate(Fg:L/h)\", DoubleType()),\n",
    "StructField(\"Agitator RPM(RPM:RPM)\", DoubleType()),\n",
    "StructField(\"Sugar feed rate(Fs:L/h)\", DoubleType()),\n",
    "StructField(\"Acid flow rate(Fa:L/h)\", DoubleType()),\n",
    "StructField(\"Base flow rate(Fb:L/h)\", DoubleType()),\n",
    "StructField(\"Heating/cooling water flow rate(Fc:L/h)\", DoubleType()),\n",
    "StructField(\"Heating water flow rate(Fh:L/h)\", DoubleType()),\n",
    "StructField(\"Water for injection/dilution(Fw:L/h)\", DoubleType()),\n",
    "StructField(\"Air head pressure(pressure:bar)\", DoubleType()),\n",
    "StructField(\"Dumped broth flow(Fremoved:L/h)\", DoubleType()),\n",
    "StructField(\"Substrate concentration(S:g/L)\", DoubleType()),\n",
    "StructField(\"Dissolved oxygen concentration(DO2:mg/L)\", DoubleType()),\n",
    "StructField(\"Vessel Volume(V:L)\", DoubleType()),\n",
    "StructField(\"Vessel Weight(Wt:Kg)\", DoubleType()),\n",
    "StructField(\"pH(pH:pH)\", DoubleType()),\n",
    "StructField(\"Temperature(T:K)\", DoubleType()),\n",
    "StructField(\"Generated heat(Q:kJ)\", DoubleType()),\n",
    "StructField(\"carbon dioxide percent in off-gas(CO2outgas:%)\", DoubleType()),\n",
    "StructField(\"PAA flow(Fpaa:PAA flow (L/h))\", DoubleType()),\n",
    "StructField(\"PAA concentration offline(PAA_offline:PAA (g L^{-1}))\", DoubleType()),\n",
    "StructField(\"Oil flow(Foil:L/hr)\", DoubleType()),\n",
    "StructField(\"NH_3 concentration off-line(NH3_offline:NH3 (g L^{-1}))\", DoubleType()),\n",
    "StructField(\"Oxygen Uptake Rate(OUR:(g min^{-1}))\", DoubleType()),\n",
    "StructField(\"Oxygen in percent in off-gas(O2:O20(%))\", DoubleType()),\n",
    "StructField(\"Offline Penicillin concentration(P_offline:P(g L^{-1}))\", DoubleType()),\n",
    "StructField(\"Offline Biomass concentratio(X_offline:X(g L^{-1}))\", DoubleType()),\n",
    "StructField(\"Carbon evolution rate(CER:g/h)\", DoubleType()),\n",
    "StructField(\"Ammonia shots(NH3_shots:kgs)\", DoubleType()),\n",
    "StructField(\"Viscosity(Viscosity_offline:centPoise)\", DoubleType()),\n",
    "StructField(\"Fault reference(Fault_ref:Fault ref)\", DoubleType()),\n",
    "StructField(\"0 - Recipe driven 1 - Operator controlled(Control_ref:Control ref)\", DoubleType()),\n",
    "StructField(\"1- No Raman spec\", DoubleType()),\n",
    "StructField(\" 1-Raman spec recorded\", DoubleType()),\n",
    "StructField(\"Batch reference(Batch_ref:Batch ref)\", DoubleType()),\n",
    "StructField(\"Fault flag\", DoubleType()),\n",
    "\n",
    "\n",
    "])"
   ]
  },
  {
   "cell_type": "code",
   "execution_count": 0,
   "metadata": {
    "application/vnd.databricks.v1+cell": {
     "cellMetadata": {
      "byteLimit": 2048000,
      "rowLimit": 10000
     },
     "inputWidgets": {},
     "nuid": "d79f9fa8-ec49-4efc-90de-8ac5741d54c1",
     "showTitle": false,
     "title": ""
    }
   },
   "outputs": [
    {
     "output_type": "display_data",
     "data": {
      "text/html": [
       "<style scoped>\n",
       "  .ansiout {\n",
       "    display: block;\n",
       "    unicode-bidi: embed;\n",
       "    white-space: pre-wrap;\n",
       "    word-wrap: break-word;\n",
       "    word-break: break-all;\n",
       "    font-family: \"Source Code Pro\", \"Menlo\", monospace;;\n",
       "    font-size: 13px;\n",
       "    color: #555;\n",
       "    margin-left: 4px;\n",
       "    line-height: 19px;\n",
       "  }\n",
       "</style>\n",
       "<div class=\"ansiout\"></div>"
      ]
     },
     "metadata": {
      "application/vnd.databricks.v1+output": {
       "addedWidgets": {},
       "arguments": {},
       "data": "<div class=\"ansiout\"></div>",
       "datasetInfos": [],
       "metadata": {},
       "removedWidgets": [],
       "type": "html"
      }
     },
     "output_type": "display_data"
    }
   ],
   "source": [
    "Schema_result = StructType([\n",
    "    StructField(\"Time (h)\", TimestampType()),\n",
    "StructField(\"Sugar mass flow\", DoubleType()),\n",
    "StructField(\"Water for injection/dilution(Fw:L/h)\", DoubleType()),\n",
    "StructField(\"pH(pH:pH)\", DoubleType()),\n",
    "StructField(\"Temperature(T:K)\", DoubleType()),\n",
    "StructField(\"Dissolved oxygen concentration(DO2:mg/L)\", DoubleType()),\n",
    "StructField(\"Vessel Volume(V:L)\", DoubleType()),\n",
    "StructField(\"Temp\", DoubleType()),\n",
    "StructField(\"Predict\", DoubleType()),\n",
    "])"
   ]
  },
  {
   "cell_type": "markdown",
   "metadata": {
    "application/vnd.databricks.v1+cell": {
     "cellMetadata": {
      "byteLimit": 2048000,
      "rowLimit": 10000
     },
     "inputWidgets": {},
     "nuid": "3796f060-501b-40c6-950e-8cf4219f4fd0",
     "showTitle": false,
     "title": ""
    }
   },
   "source": [
    "## Connect eventhub"
   ]
  },
  {
   "cell_type": "code",
   "execution_count": 0,
   "metadata": {
    "application/vnd.databricks.v1+cell": {
     "cellMetadata": {
      "byteLimit": 2048000,
      "rowLimit": 10000
     },
     "inputWidgets": {},
     "nuid": "91dfaf09-de1b-4d37-b5f4-544f6bfe4adb",
     "showTitle": false,
     "title": ""
    }
   },
   "outputs": [
    {
     "output_type": "display_data",
     "data": {
      "text/html": [
       "<style scoped>\n",
       "  .ansiout {\n",
       "    display: block;\n",
       "    unicode-bidi: embed;\n",
       "    white-space: pre-wrap;\n",
       "    word-wrap: break-word;\n",
       "    word-break: break-all;\n",
       "    font-family: \"Source Code Pro\", \"Menlo\", monospace;;\n",
       "    font-size: 13px;\n",
       "    color: #555;\n",
       "    margin-left: 4px;\n",
       "    line-height: 19px;\n",
       "  }\n",
       "</style>\n",
       "<div class=\"ansiout\"></div>"
      ]
     },
     "metadata": {
      "application/vnd.databricks.v1+output": {
       "addedWidgets": {},
       "arguments": {},
       "data": "<div class=\"ansiout\"></div>",
       "datasetInfos": [],
       "metadata": {},
       "removedWidgets": [],
       "type": "html"
      }
     },
     "output_type": "display_data"
    }
   ],
   "source": [
    "ehConf = \"\"\"Endpoint=sb://eventhubv1a.servicebus.windows.net/;SharedAccessKeyName=policy_eventhub1;SharedAccessKey=lEfOUGLDSwxECMvjPGX402HIQytZy/Lvx+AEhKmDZ10=;EntityPath=eventhub1\"\"\" # Thay thế bằng connection string \n",
    "eventhubConfig = {}\n",
    "eventhubConfig['eventhubs.connectionString'] = sc._jvm.org.apache.spark.eventhubs.EventHubsUtils.encrypt(ehConf)\n"
   ]
  },
  {
   "cell_type": "code",
   "execution_count": 0,
   "metadata": {
    "application/vnd.databricks.v1+cell": {
     "cellMetadata": {
      "byteLimit": 2048000,
      "rowLimit": 10000
     },
     "inputWidgets": {},
     "nuid": "acd204e4-1dd3-448c-88ba-558159d08e6d",
     "showTitle": false,
     "title": ""
    }
   },
   "outputs": [
    {
     "output_type": "display_data",
     "data": {
      "text/html": [
       "<style scoped>\n",
       "  .ansiout {\n",
       "    display: block;\n",
       "    unicode-bidi: embed;\n",
       "    white-space: pre-wrap;\n",
       "    word-wrap: break-word;\n",
       "    word-break: break-all;\n",
       "    font-family: \"Source Code Pro\", \"Menlo\", monospace;;\n",
       "    font-size: 13px;\n",
       "    color: #555;\n",
       "    margin-left: 4px;\n",
       "    line-height: 19px;\n",
       "  }\n",
       "</style>\n",
       "<div class=\"ansiout\"></div>"
      ]
     },
     "metadata": {
      "application/vnd.databricks.v1+output": {
       "addedWidgets": {},
       "arguments": {},
       "data": "<div class=\"ansiout\"></div>",
       "datasetInfos": [],
       "metadata": {},
       "removedWidgets": [],
       "type": "html"
      }
     },
     "output_type": "display_data"
    }
   ],
   "source": [
    "\n",
    "# stream = spark.readStream \\\n",
    "#   .format(\"eventhubs\") \\\n",
    "#   .options(**eventhubConfig) \\\n",
    "#   .load()\\\n",
    "#   .writeStream\\\n",
    "#   .format(\"parquet\")\\\n",
    "#   .option(\"checkpointLocation\",\"/mnt/raw/data/source=eventhhub1/dataset = test-eventhub-stream-checkpoint/\")\\\n",
    "#   .option(\"path\",\"/mnt/raw/data/source=eventhhub1/dataset = test-eventhub-stream/\")\\\n",
    "#   .start()\n",
    "\n"
   ]
  },
  {
   "cell_type": "code",
   "execution_count": 0,
   "metadata": {
    "application/vnd.databricks.v1+cell": {
     "cellMetadata": {
      "byteLimit": 2048000,
      "rowLimit": 10000
     },
     "inputWidgets": {},
     "nuid": "bcbef18e-2710-4a90-95d3-19790e218c87",
     "showTitle": false,
     "title": ""
    }
   },
   "outputs": [
    {
     "output_type": "display_data",
     "data": {
      "text/html": [
       "<style scoped>\n",
       "  .ansiout {\n",
       "    display: block;\n",
       "    unicode-bidi: embed;\n",
       "    white-space: pre-wrap;\n",
       "    word-wrap: break-word;\n",
       "    word-break: break-all;\n",
       "    font-family: \"Source Code Pro\", \"Menlo\", monospace;;\n",
       "    font-size: 13px;\n",
       "    color: #555;\n",
       "    margin-left: 4px;\n",
       "    line-height: 19px;\n",
       "  }\n",
       "</style>\n",
       "<div class=\"ansiout\"></div>"
      ]
     },
     "metadata": {
      "application/vnd.databricks.v1+output": {
       "addedWidgets": {},
       "arguments": {},
       "data": "<div class=\"ansiout\"></div>",
       "datasetInfos": [],
       "metadata": {},
       "removedWidgets": [],
       "type": "html"
      }
     },
     "output_type": "display_data"
    }
   ],
   "source": [
    "# df = spark.read.format(\"parquet\").load(\"/mnt/raw/data/source=eventhhub1/dataset = test-eventhub-stream/\")\n",
    "# # a = df.withColumn(\"body\", df.body.cast('string')).select(\"body\")\n",
    "\n",
    "# data = df.select(from_json(col(\"body\").cast(\"string\"), Schema).alias(\"data\")) \\\n",
    "# .select(\"data.*\")\n",
    "# data.show(truncate = False)\n"
   ]
  },
  {
   "cell_type": "markdown",
   "metadata": {
    "application/vnd.databricks.v1+cell": {
     "cellMetadata": {
      "byteLimit": 2048000,
      "rowLimit": 10000
     },
     "inputWidgets": {},
     "nuid": "6aae3fa3-def3-450a-aa08-ef7f4f23b1ea",
     "showTitle": false,
     "title": ""
    }
   },
   "source": [
    "##Install library"
   ]
  },
  {
   "cell_type": "code",
   "execution_count": 0,
   "metadata": {
    "application/vnd.databricks.v1+cell": {
     "cellMetadata": {
      "byteLimit": 2048000,
      "rowLimit": 10000
     },
     "inputWidgets": {},
     "nuid": "6b536feb-cf35-464c-8d7a-35bf074f848c",
     "showTitle": false,
     "title": ""
    }
   },
   "outputs": [
    {
     "output_type": "display_data",
     "data": {
      "text/html": [
       "<style scoped>\n",
       "  .ansiout {\n",
       "    display: block;\n",
       "    unicode-bidi: embed;\n",
       "    white-space: pre-wrap;\n",
       "    word-wrap: break-word;\n",
       "    word-break: break-all;\n",
       "    font-family: \"Source Code Pro\", \"Menlo\", monospace;;\n",
       "    font-size: 13px;\n",
       "    color: #555;\n",
       "    margin-left: 4px;\n",
       "    line-height: 19px;\n",
       "  }\n",
       "</style>\n",
       "<div class=\"ansiout\">Collecting joblib==1.2.0\r\n",
       "  Downloading joblib-1.2.0-py3-none-any.whl (297 kB)\r\n",
       "█                               | 10 kB 32.1 MB/s eta 0:00:01\r     |██▏                             | 20 kB 17.7 MB/s eta 0:00:01\r     |███▎                            | 30 kB 23.6 MB/s eta 0:00:01\r     |████▍                           | 40 kB 14.0 MB/s eta 0:00:01\r     |█████▌                          | 51 kB 16.7 MB/s eta 0:00:01\r     |██████▋                         | 61 kB 19.4 MB/s eta 0:00:01\r     |███████▊                        | 71 kB 15.6 MB/s eta 0:00:01\r     |████████▉                       | 81 kB 17.4 MB/s eta 0:00:01\r     |██████████                      | 92 kB 17.4 MB/s eta 0:00:01\r     |███████████                     | 102 kB 18.4 MB/s eta 0:00:01\r     |████████████                    | 112 kB 18.4 MB/s eta 0:00:01\r     |█████████████▏                  | 122 kB 18.4 MB/s eta 0:00:01\r     |██████████████▎                 | 133 kB 18.4 MB/s eta 0:00:01\r     |███████████████▍                | 143 kB 18.4 MB/s eta 0:00:01\r     |████████████████▌               | 153 kB 18.4 MB/s eta 0:00:01\r     |█████████████████▋              | 163 kB 18.4 MB/s eta 0:00:01\r     |██████████████████▊             | 174 kB 18.4 MB/s eta 0:00:01\r     |███████████████████▉            | 184 kB 18.4 MB/s eta 0:00:01\r     |█████████████████████           | 194 kB 18.4 MB/s eta 0:00:01\r     |██████████████████████          | 204 kB 18.4 MB/s eta 0:00:01\r     |███████████████████████         | 215 kB 18.4 MB/s eta 0:00:01\r     |████████████████████████▏       | 225 kB 18.4 MB/s eta 0:00:01\r     |█████████████████████████▎      | 235 kB 18.4 MB/s eta 0:00:01\r     |██████████████████████████▍     | 245 kB 18.4 MB/s eta 0:00:01\r     |███████████████████████████▌    | 256 kB 18.4 MB/s eta 0:00:01\r     |████████████████████████████▋   | 266 kB 18.4 MB/s eta 0:00:01\r     |█████████████████████████████▊  | 276 kB 18.4 MB/s eta 0:00:01\r     |██████████████████████████████▉ | 286 kB 18.4 MB/s eta 0:00:01\r     |████████████████████████████████| 296 kB 18.4 MB/s eta 0:00:01\r     |████████████████████████████████| 297 kB 18.4 MB/s \r\n",
       "Installing collected packages: joblib\r\n",
       "  Attempting uninstall: joblib\r\n",
       "    Found existing installation: joblib 1.0.1\r\n",
       "    Uninstalling joblib-1.0.1:\r\n",
       "      Successfully uninstalled joblib-1.0.1\r\n",
       "Successfully installed joblib-1.2.0\r\n",
       "<span class=\"ansi-yellow-fg\">WARNING: You are using pip version 21.0.1; however, version 23.2.1 is available.\r\n",
       "You should consider upgrading via the &#39;/databricks/python3/bin/python -m pip install --upgrade pip&#39; command.</span>\r\n",
       "Collecting tensorflow==2.11.0\r\n",
       "  Downloading tensorflow-2.11.0-cp38-cp38-manylinux_2_17_x86_64.manylinux2014_x86_64.whl (588.3 MB)\r\n",
       "                                | 10 kB 27.6 MB/s eta 0:00:22\r     |                                | 20 kB 22.4 MB/s eta 0:00:27\r     |                                | 30 kB 30.1 MB/s eta 0:00:20\r     |                                | 40 kB 15.1 MB/s eta 0:00:40\r     |                                | 51 kB 17.9 MB/s eta 0:00:33\r     |                                | 61 kB 20.9 MB/s eta 0:00:29\r     |                                | 71 kB 16.8 MB/s eta 0:00:35\r     |                                | 81 kB 18.7 MB/s eta 0:00:32\r     |                                | 92 kB 18.7 MB/s eta 0:00:32\r     |                                | 102 kB 19.6 MB/s eta 0:00:31\r     |                                | 112 kB 19.6 MB/s eta 0:00:31\r     |                                | 122 kB 19.6 MB/s eta 0:00:31\r     |                                | 133 kB 19.6 MB/s eta 0:00:31\r     |                                | 143 kB 19.6 MB/s eta 0:00:31\r     |                                | 153 kB 19.6 MB/s eta 0:00:31\r     |                                | 163 kB 19.6 MB/s eta 0:00:31\r     |                                | 174 kB 19.6 MB/s eta 0:00:31\r     |                                | 184 kB 19.6 MB/s eta 0:00:31\r     |                                | 194 kB 19.6 MB/s eta 0:00:31\r     |                                | 204 kB 19.6 MB/s eta 0:00:31\r     |                                | 215 kB 19.6 MB/s eta 0:00:31\r     |                                | 225 kB 19.6 MB/s eta 0:00:31\r     |                                | 235 kB 19.6 MB/s eta 0:00:31\r     |                                | 245 kB 19.6 MB/s eta 0:00:31\r     |                                | 256 kB 19.6 MB/s eta 0:00:31\r     |                                | 266 kB 19.6 MB/s eta 0:00:31\r     |                                | 276 kB 19.6 MB/s eta 0:00:31\r     |                                | 286 kB 19.6 MB/s eta 0:00:31\r     |                                | 296 kB 19.6 MB/s eta 0:00:31\r     |                                | 307 kB 19.6 MB/s eta 0:00:31\r     |                                | 317 kB 19.6 MB/s eta 0:00:31\r     |                                | 327 kB 19.6 MB/s eta 0:00:31\r     |                                | 337 kB 19.6 MB/s eta 0:00:31\r     |                                | 348 kB 19.6 MB/s eta 0:00:31\r     |                                | 358 kB 19.6 MB/s eta 0:00:31\r     |                                | 368 kB 19.6 MB/s eta 0:00:31\r     |                                | 378 kB 19.6 MB/s eta 0:00:31\r     |                                | 389 kB 19.6 MB/s eta 0:00:31\r     |                                | 399 kB 19.6 MB/s eta 0:00:31\r     |                                | 409 kB 19.6 MB/s eta 0:00:31\r     |                                | 419 kB 19.6 MB/s eta 0:00:31\r     |                                | 430 kB 19.6 MB/s eta 0:00:31\r     |                                | 440 kB 19.6 MB/s eta 0:00:31\r     |                                | 450 kB 19.6 MB/s eta 0:00:31\r     |                                | 460 kB 19.6 MB/s eta 0:00:31\r     |                                | 471 kB 19.6 MB/s eta 0:00:31\r     |                                | 481 kB 19.6 MB/s eta 0:00:31\r     |                                | 491 kB 19.6 MB/s eta 0:00:31\r     |                                | 501 kB 19.6 MB/s eta 0:00:31\r     |                                | 512 kB 19.6 MB/s eta 0:00:31\r     |                                | 522 kB 19.6 MB/s eta 0:00:31\r     |                                | 532 kB 19.6 MB/s eta 0:00:31\r     |                                | 542 kB 19.6 MB/s eta 0:00:31\r     |                                | 552 kB 19.6 MB/s eta 0:00:31\r     |                                | 563 kB 19.6 MB/s eta 0:00:31\r     |                                | 573 kB 19.6 MB/s eta 0:00:31\r     |                                | 583 kB 19.6 MB/s eta 0:00:31\r     |                                | 593 kB 19.6 MB/s eta 0:00:31\r     |                                | 604 kB 19.6 MB/s eta 0:00:31\r     |                                | 614 kB 19.6 MB/s eta 0:00:31\r     |                                | 624 kB 19.6 MB/s eta 0:00:31\r     |                                | 634 kB 19.6 MB/s eta 0:00:31\r     |                                | 645 kB 19.6 MB/s eta 0:00:31\r     |                                | 655 kB 19.6 MB/s eta 0:00:31\r     |                                | 665 kB 19.6 MB/s eta 0:00:31\r     |                                | 675 kB 19.6 MB/s eta 0:00:31\r     |                                | 686 kB 19.6 MB/s eta 0:00:31\r     |                                | 696 kB 19.6 MB/s eta 0:00:31\r     |                                | 706 kB 19.6 MB/s eta 0:00:31\r     |                                | 716 kB 19.6 MB/s eta 0:00:31\r     |                                | 727 kB 19.6 MB/s eta 0:00:31\r     |                                | 737 kB 19.6 MB/s eta 0:00:31\r     |                                | 747 kB 19.6 MB/s eta 0:00:31\r     |                                | 757 kB 19.6 MB/s eta 0:00:31\r     |                                | 768 kB 19.6 MB/s eta 0:00:31\r     |                                | 778 kB 19.6 MB/s eta 0:00:31\r     |                                | 788 kB 19.6 MB/s eta 0:00:31\r     |                                | 798 kB 19.6 MB/s eta 0:00:31\r     |                                | 808 kB 19.6 MB/s eta 0:00:31\r     |                                | 819 kB 19.6 MB/s eta 0:00:31\r     |                                | 829 kB 19.6 MB/s eta 0:00:31\r     |                                | 839 kB 19.6 MB/s eta 0:00:31\r     |                                | 849 kB 19.6 MB/s eta 0:00:31\r     |                                | 860 kB 19.6 MB/s eta 0:00:31\r     |                                | 870 kB 19.6 MB/s eta 0:00:31\r     |                                | 880 kB 19.6 MB/s eta 0:00:31\r     |                                | 890 kB 19.6 MB/s eta 0:00:31\r     |                                | 901 kB 19.6 MB/s eta 0:00:31\r     |                                | 911 kB 19.6 MB/s eta 0:00:31\r     |                                | 921 kB 19.6 MB/s eta 0:00:31\r     |                                | 931 kB 19.6 MB/s eta 0:00:31\r     |                                | 942 kB 19.6 MB/s eta 0:00:31\r     |                                | 952 kB 19.6 MB/s eta 0:00:31\r     |                                | 962 kB 19.6 MB/s eta 0:00:31\r     |                                | 972 kB 19.6 MB/s eta 0:00:31\r     |                                | 983 kB 19.6 MB/s eta 0:00:31\r     |                                | 993 kB 19.6 MB/s eta 0:00:31\r     |                                | 1.0 MB 19.6 MB/s eta 0:00:31\r     |                                | 1.0 MB 19.6 MB/s eta 0:00:31\r     |                                | 1.0 MB 19.6 MB/s eta 0:00:31\r     |                                | 1.0 MB 19.6 MB/s eta 0:00:31\r     |                                | 1.0 MB 19.6 MB/s eta 0:00:31\r     |                                | 1.1 MB 19.6 MB/s eta 0:00:31\r     |                                | 1.1 MB 19.6 MB/s eta 0:00:31\r     |                                | 1.1 MB 19.6 MB/s eta 0:00:31\r     |                                | 1.1 MB 19.6 MB/s eta 0:00:31\r     |                                | 1.1 MB 19.6 MB/s eta 0:00:31\r     |                                | 1.1 MB 19.6 MB/s eta 0:00:31\r     |                                | 1.1 MB 19.6 MB/s eta 0:00:31\r     |                                | 1.1 MB 19.6 MB/s eta 0:00:31\r     |                                | 1.1 MB 19.6 MB/s eta 0:00:31\r     |                                | 1.1 MB 19.6 MB/s eta 0:00:31\r     |                                | 1.2 MB 19.6 MB/s eta 0:00:31\r     |                                | 1.2 MB 19.6 MB/s eta 0:00:31\r     |                                | 1.2 MB 19.6 MB/s eta 0:00:31\r     |                                | 1.2 MB 19.6 MB/s eta 0:00:31\r     |                                | 1.2 MB 19.6 MB/s eta 0:00:31\r     |                                | 1.2 MB 19.6 MB/s eta 0:00:31\r     |                                | 1.2 MB 19.6 MB/s eta 0:00:31\r     |                                | 1.2 MB 19.6 MB/s eta 0:00:31\r     |                                | 1.2 MB 19.6 MB/s eta 0:00:31\r     |                                | 1.2 MB 19.6 MB/s eta 0:00:31\r     |                                | 1.3 MB 19.6 MB/s eta 0:00:31\r     |                                | 1.3 MB 19.6 MB/s eta 0:00:31\r     |                                | 1.3 MB 19.6 MB/s eta 0:00:31\r     |                                | 1.3 MB 19.6 MB/s eta 0:00:31\r     |                                | 1.3 MB 19.6 MB/s eta 0:00:31\r     |                                | 1.3 MB 19.6 MB/s eta 0:00:31\r     |                                | 1.3 MB 19.6 MB/s eta 0:00:31\r     |                                | 1.3 MB 19.6 MB/s eta 0:00:31\r     |                                | 1.3 MB 19.6 MB/s eta 0:00:31\r     |                                | 1.4 MB 19.6 MB/s eta 0:00:31\r     |                                | 1.4 MB 19.6 MB/s eta 0:00:31\r     |                                | 1.4 MB 19.6 MB/s eta 0:00:31\r     |                                | 1.4 MB 19.6 MB/s eta 0:00:31\r     |                                | 1.4 MB 19.6 MB/s eta 0:00:31\r     |                                | 1.4 MB 19.6 MB/s eta 0:00:31\r     |                                | 1.4 MB 19.6 MB/s eta 0:00:31\r     |                                | 1.4 MB 19.6 MB/s eta 0:00:31\r     |                                | 1.4 MB 19.6 MB/s eta 0:00:31\r     |                                | 1.4 MB 19.6 MB/s eta 0:00:31\r     |                                | 1.5 MB 19.6 MB/s eta 0:00:31\r     |                                | 1.5 MB 19.6 MB/s eta 0:00:31\r     |                                | 1.5 MB 19.6 MB/s eta 0:00:31\r     |                                | 1.5 MB 19.6 MB/s eta 0:00:31\r     |                                | 1.5 MB 19.6 MB/s eta 0:00:31\r     |                                | 1.5 MB 19.6 MB/s eta 0:00:30\r     |                                | 1.5 MB 19.6 MB/s eta 0:00:30\r     |                                | 1.5 MB 19.6 MB/s eta 0:00:30\r     |                                | 1.5 MB 19.6 MB/s eta 0:00:30\r     |                                | 1.5 MB 19.6 MB/s eta 0:00:30\r     |                                | 1.6 MB 19.6 MB/s eta 0:00:30\r     |                                | 1.6 MB 19.6 MB/s eta 0:00:30\r     |                                | 1.6 MB 19.6 MB/s eta 0:00:30\r     |                                | 1.6 MB 19.6 MB/s eta 0:00:30\r     |                                | 1.6 MB 19.6 MB/s eta 0:00:30\r     |                                | 1.6 MB 19.6 MB/s eta 0:00:30\r     |                                | 1.6 MB 19.6 MB/s eta 0:00:30\r     |                                | 1.6 MB 19.6 MB/s eta 0:00:30\r     |                                | 1.6 MB 19.6 MB/s eta 0:00:30\r     |                                | 1.6 MB 19.6 MB/s eta 0:00:30\r     |                                | 1.7 MB 19.6 MB/s eta 0:00:30\r     |                                | 1.7 MB 19.6 MB/s eta 0:00:30\r     |                                | 1.7 MB 19.6 MB/s eta 0:00:30\r     |                                | 1.7 MB 19.6 MB/s eta 0:00:30\r     |                                | 1.7 MB 19.6 MB/s eta 0:00:30\r     |                                | 1.7 MB 19.6 MB/s eta 0:00:30\r     |                                | 1.7 MB 19.6 MB/s eta 0:00:30\r     |                                | 1.7 MB 19.6 MB/s eta 0:00:30\r     |                                | 1.7 MB 19.6 MB/s eta 0:00:30\r     |                                | 1.8 MB 19.6 MB/s eta 0:00:30\r     |                                | 1.8 MB 19.6 MB/s eta 0:00:30\r     |                                | 1.8 MB 19.6 MB/s eta 0:00:30\r     |                                | 1.8 MB 19.6 MB/s eta 0:00:30\r     |                                | 1.8 MB 19.6 MB/s eta 0:00:30\r     |                                | 1.8 MB 19.6 MB/s eta 0:00:30\r     |                                | 1.8 MB 19.6 MB/s eta 0:00:30\r     |                                | 1.8 MB 19.6 MB/s eta 0:00:30\r     |                                | 1.8 MB 19.6 MB/s eta 0:00:30\r     |                                | 1.8 MB 19.6 MB/s eta 0:00:30\r     |                                | 1.9 MB 19.6 MB/s eta 0:00:30\r     |                                | 1.9 MB 19.6 MB/s eta 0:00:30\r     |                                | 1.9 MB 19.6 MB/s eta 0:00:30\r     |                                | 1.9 MB 19.6 MB/s eta 0:00:30\r     |                                | 1.9 MB 19.6 MB/s eta 0:00:30\r     |                                | 1.9 MB 19.6 MB/s eta 0:00:30\r     |                                | 1.9 MB 19.6 MB/s eta 0:00:30\r     |                                | 1.9 MB 19.6 MB/s eta 0:00:30\r     |                                | 1.9 MB 19.6 MB/s eta 0:00:30\r     |                                | 1.9 MB 19.6 MB/s eta 0:00:30\r     |                                | 2.0 MB 19.6 MB/s eta 0:00:30\r     |                                | 2.0 MB 19.6 MB/s eta 0:00:30\r     |                                | 2.0 MB 19.6 MB/s eta 0:00:30\r     |                                | 2.0 MB 19.6 MB/s eta 0:00:30\r     |                                | 2.0 MB 19.6 MB/s eta 0:00:30\r     |                                | 2.0 MB 19.6 MB/s eta 0:00:30\r     |                                | 2.0 MB 19.6 MB/s eta 0:00:30\r     |                                | 2.0 MB 19.6 MB/s eta 0:00:30\r     |                                | 2.0 MB 19.6 MB/s eta 0:00:30\r     |▏                               | 2.0 MB 19.6 MB/s eta 0:00:30\r     |▏                               | 2.1 MB 19.6 MB/s eta 0:00:30\r     |▏                               | 2.1 MB 19.6 MB/s eta 0:00:30\r     |▏                               | 2.1 MB 19.6 MB/s eta 0:00:30\r     |▏                               | 2.1 MB 19.6 MB/s eta 0:00:30\r     |▏                               | 2.1 MB 19.6 MB/s eta 0:00:30\r     |▏                               | 2.1 MB 19.6 MB/s eta 0:00:30\r     |▏                               | 2.1 MB 19.6 MB/s eta 0:00:30\r     |▏                               | 2.1 MB 19.6 MB/s eta 0:00:30\r     |▏                               | 2.1 MB 19.6 MB/s eta 0:00:30\r     |▏                               | 2.2 MB 19.6 MB/s eta 0:00:30\r     |▏                               | 2.2 MB 19.6 MB/s eta 0:00:30\r     |▏                               | 2.2 MB 19.6 MB/s eta 0:00:30\r     |▏                               | 2.2 MB 19.6 MB/s eta 0:00:30\r     |▏                               | 2.2 MB 19.6 MB/s eta 0:00:30\r     |▏                               | 2.2 MB 19.6 MB/s eta 0:00:30\r     |▏                               | 2.2 MB 19.6 MB/s eta 0:00:30\r     |▏                               | 2.2 MB 19.6 MB/s eta 0:00:30\r     |▏                               | 2.2 MB 19.6 MB/s eta 0:00:30\r     |▏                               | 2.2 MB 19.6 MB/s eta 0:00:30\r     |▏                               | 2.3 MB 19.6 MB/s eta 0:00:30\r     |▏                               | 2.3 MB 19.6 MB/s eta 0:00:30\r     |▏                               | 2.3 MB 19.6 MB/s eta 0:00:30\r     |▏                               | 2.3 MB 19.6 MB/s eta 0:00:30\r     |▏                               | 2.3 MB 19.6 MB/s eta 0:00:30\r     |▏                               | 2.3 MB 19.6 MB/s eta 0:00:30\r     |▏                               | 2.3 MB 19.6 MB/s eta 0:00:30\r     |▏                               | 2.3 MB 19.6 MB/s eta 0:00:30\r     |▏                               | 2.3 MB 19.6 MB/s eta 0:00:30\r     |▏                               | 2.3 MB 19.6 MB/s eta 0:00:30\r     |▏                               | 2.4 MB 19.6 MB/s eta 0:00:30\r     |▏                               | 2.4 MB 19.6 MB/s eta 0:00:30\r     |▏                               | 2.4 MB 19.6 MB/s eta 0:00:30\r     |▏                               | 2.4 MB 19.6 MB/s eta 0:00:30\r     |▏                               | 2.4 MB 19.6 MB/s eta 0:00:30\r     |▏                               | 2.4 MB 19.6 MB/s eta 0:00:30\r     |▏                               | 2.4 MB 19.6 MB/s eta 0:00:30\r     |▏                               | 2.4 MB 19.6 MB/s eta 0:00:30\r     |▏                               | 2.4 MB 19.6 MB/s eta 0:00:30\r     |▏                               | 2.4 MB 19.6 MB/s eta 0:00:30\r     |▏                               | 2.5 MB 19.6 MB/s eta 0:00:30\r     |▏                               | 2.5 MB 19.6 MB/s eta 0:00:30\r     |▏                               | 2.5 MB 19.6 MB/s eta 0:00:30\r     |▏                               | 2.5 MB 19.6 MB/s eta 0:00:30\r     |▏                               | 2.5 MB 19.6 MB/s eta 0:00:30\r     |▏                               | 2.5 MB 19.6 MB/s eta 0:00:30\r     |▏                               | 2.5 MB 19.6 MB/s eta 0:00:30\r     |▏                               | 2.5 MB 19.6 MB/s eta 0:00:30\r     |▏                               | 2.5 MB 19.6 MB/s eta 0:00:30\r     |▏                               | 2.5 MB 19.6 MB/s eta 0:00:30\r     |▏                               | 2.6 MB 19.6 MB/s eta 0:00:30\r     |▏                               | 2.6 MB 19.6 MB/s eta 0:00:30\r     |▏                               | 2.6 MB 19.6 MB/s eta 0:00:30\r     |▏                               | 2.6 MB 19.6 MB/s eta 0:00:30\r     |▏                               | 2.6 MB 19.6 MB/s eta 0:00:30\r     |▏                               | 2.6 MB 19.6 MB/s eta 0:00:30\r     |▏                               | 2.6 MB 19.6 MB/s eta 0:00:30\r     |▏                               | 2.6 MB 19.6 MB/s eta 0:00:30\r     |▏                               | 2.6 MB 19.6 MB/s eta 0:00:30\r     |▏                               | 2.7 MB 19.6 MB/s eta 0:00:30\r     |▏                               | 2.7 MB 19.6 MB/s eta 0:00:30\r     |▏                               | 2.7 MB 19.6 MB/s eta 0:00:30\r     |▏                               | 2.7 MB 19.6 MB/s eta 0:00:30\r     |▏                               | 2.7 MB 19.6 MB/s eta 0:00:30\r     |▏                               | 2.7 MB 19.6 MB/s eta 0:00:30\r     |▏                               | 2.7 MB 19.6 MB/s eta 0:00:30\r     |▏                               | 2.7 MB 19.6 MB/s eta 0:00:30\r     |▏                               | 2.7 MB 19.6 MB/s eta 0:00:30\r     |▏                               | 2.7 MB 19.6 MB/s eta 0:00:30\r     |▏                               | 2.8 MB 19.6 MB/s eta 0:00:30\r     |▏                               | 2.8 MB 19.6 MB/s eta 0:00:30\r     |▏                               | 2.8 MB 19.6 MB/s eta 0:00:30\r     |▏                               | 2.8 MB 19.6 MB/s eta 0:00:30\r     |▏                               | 2.8 MB 19.6 MB/s eta 0:00:30\r     |▏                               | 2.8 MB 19.6 MB/s eta 0:00:30\r     |▏                               | 2.8 MB 19.6 MB/s eta 0:00:30\r     |▏                               | 2.8 MB 19.6 MB/s eta 0:00:30\r     |▏                               | 2.8 MB 19.6 MB/s eta 0:00:30\r     |▏                               | 2.8 MB 19.6 MB/s eta 0:00:30\r     |▏                               | 2.9 MB 19.6 MB/s eta 0:00:30\r     |▏                               | 2.9 MB 19.6 MB/s eta 0:00:30\r     |▏                               | 2.9 MB 19.6 MB/s eta 0:00:30\r     |▏                               | 2.9 MB 19.6 MB/s eta 0:00:30\r     |▏                               | 2.9 MB 19.6 MB/s eta 0:00:30\r     |▏                               | 2.9 MB 19.6 MB/s eta 0:00:30\r     |▏                               | 2.9 MB 19.6 MB/s eta 0:00:30\r     |▏                               | 2.9 MB 19.6 MB/s eta 0:00:30\r     |▏                               | 2.9 MB 19.6 MB/s eta 0:00:30\r     |▏                               | 2.9 MB 19.6 MB/s eta 0:00:30\r     |▏                               | 3.0 MB 19.6 MB/s eta 0:00:30\r     |▏                               | 3.0 MB 19.6 MB/s eta 0:00:30\r     |▏                               | 3.0 MB 19.6 MB/s eta 0:00:30\r     |▏                               | 3.0 MB 19.6 MB/s eta 0:00:30\r     |▏                               | 3.0 MB 19.6 MB/s eta 0:00:30\r     |▏                               | 3.0 MB 19.6 MB/s eta 0:00:30\r     |▏                               | 3.0 MB 19.6 MB/s eta 0:00:30\r     |▏                               | 3.0 MB 19.6 MB/s eta 0:00:30\r     |▏                               | 3.0 MB 19.6 MB/s eta 0:00:30\r     |▏                               | 3.1 MB 19.6 MB/s eta 0:00:30\r     |▏                               | 3.1 MB 19.6 MB/s eta 0:00:30\r     |▏                               | 3.1 MB 19.6 MB/s eta 0:00:30\r     |▏                               | 3.1 MB 19.6 MB/s eta 0:00:30\r     |▏                               | 3.1 MB 19.6 MB/s eta 0:00:30\r     |▏                               | 3.1 MB 19.6 MB/s eta 0:00:30\r     |▏                               | 3.1 MB 19.6 MB/s eta 0:00:30\r     |▏                               | 3.1 MB 19.6 MB/s eta 0:00:30\r     |▏                               | 3.1 MB 19.6 MB/s eta 0:00:30\r     |▏                               | 3.1 MB 19.6 MB/s eta 0:00:30\r     |▏                               | 3.2 MB 19.6 MB/s eta 0:00:30\r     |▏                               | 3.2 MB 19.6 MB/s eta 0:00:30\r     |▏                               | 3.2 MB 19.6 MB/s eta 0:00:30\r     |▏                               | 3.2 MB 19.6 MB/s eta 0:00:30\r     |▏                               | 3.2 MB 19.6 MB/s eta 0:00:30\r     |▏                               | 3.2 MB 19.6 MB/s eta 0:00:30\r     |▏                               | 3.2 MB 19.6 MB/s eta 0:00:30\r     |▏                               | 3.2 MB 19.6 MB/s eta 0:00:30\r     |▏                               | 3.2 MB 19.6 MB/s eta 0:00:30\r     |▏                               | 3.2 MB 19.6 MB/s eta 0:00:30\r     |▏                               | 3.3 MB 19.6 MB/s eta 0:00:30\r     |▏                               | 3.3 MB 19.6 MB/s eta 0:00:30\r     |▏                               | 3.3 MB 19.6 MB/s eta 0:00:30\r     |▏                               | 3.3 MB 19.6 MB/s eta 0:00:30\r     |▏                               | 3.3 MB 19.6 MB/s eta 0:00:30\r     |▏                               | 3.3 MB 19.6 MB/s eta 0:00:30\r     |▏                               | 3.3 MB 19.6 MB/s eta 0:00:30\r     |▏                               | 3.3 MB 19.6 MB/s eta 0:00:30\r     |▏                               | 3.3 MB 19.6 MB/s eta 0:00:30\r     |▏                               | 3.3 MB 19.6 MB/s eta 0:00:30\r     |▏                               | 3.4 MB 19.6 MB/s eta 0:00:30\r     |▏                               | 3.4 MB 19.6 MB/s eta 0:00:30\r     |▏                               | 3.4 MB 19.6 MB/s eta 0:00:30\r     |▏                               | 3.4 MB 19.6 MB/s eta 0:00:30\r     |▏                               | 3.4 MB 19.6 MB/s eta 0:00:30\r     |▏                               | 3.4 MB 19.6 MB/s eta 0:00:30\r     |▏                               | 3.4 MB 19.6 MB/s eta 0:00:30\r     |▏                               | 3.4 MB 19.6 MB/s eta 0:00:30\r     |▏                               | 3.4 MB 19.6 MB/s eta 0:00:30\r     |▏                               | 3.5 MB 19.6 MB/s eta 0:00:30\r     |▏                               | 3.5 MB 19.6 MB/s eta 0:00:30\r     |▏                               | 3.5 MB 19.6 MB/s eta 0:00:30\r     |▏                               | 3.5 MB 19.6 MB/s eta 0:00:30\r     |▏                               | 3.5 MB 19.6 MB/s eta 0:00:30\r     |▏                               | 3.5 MB 19.6 MB/s eta 0:00:30\r     |▏                               | 3.5 MB 19.6 MB/s eta 0:00:30\r     |▏                               | 3.5 MB 19.6 MB/s eta 0:00:30\r     |▏                               | 3.5 MB 19.6 MB/s eta 0:00:30\r     |▏                               | 3.5 MB 19.6 MB/s eta 0:00:30\r     |▏                               | 3.6 MB 19.6 MB/s eta 0:00:30\r     |▏                               | 3.6 MB 19.6 MB/s eta 0:00:30\r     |▏                               | 3.6 MB 19.6 MB/s eta 0:00:30\r     |▏                               | 3.6 MB 19.6 MB/s eta 0:00:30\r     |▏                               | 3.6 MB 19.6 MB/s eta 0:00:30\r     |▏                               | 3.6 MB 19.6 MB/s eta 0:00:30\r     |▏                               | 3.6 MB 19.6 MB/s eta 0:00:30\r     |▏                               | 3.6 MB 19.6 MB/s eta 0:00:30\r     |▏                               | 3.6 MB 19.6 MB/s eta 0:00:30\r     |▏                               | 3.6 MB 19.6 MB/s eta 0:00:30\r     |▏                               | 3.7 MB 19.6 MB/s eta 0:00:30\r     |▏                               | 3.7 MB 19.6 MB/s eta 0:00:30\r     |▏                               | 3.7 MB 19.6 MB/s eta 0:00:30\r     |▏                               | 3.7 MB 19.6 MB/s eta 0:00:30\r     |▏                               | 3.7 MB 19.6 MB/s eta 0:00:30\r     |▏                               | 3.7 MB 19.6 MB/s eta 0:00:30\r     |▏                               | 3.7 MB 19.6 MB/s eta 0:00:30\r     |▏                               | 3.7 MB 19.6 MB/s eta 0:00:30\r     |▏                               | 3.7 MB 19.6 MB/s eta 0:00:30\r     |▏                               | 3.7 MB 19.6 MB/s eta 0:00:30\r     |▏                               | 3.8 MB 19.6 MB/s eta 0:00:30\r     |▏                               | 3.8 MB 19.6 MB/s eta 0:00:30\r     |▏                               | 3.8 MB 19.6 MB/s eta 0:00:30\r     |▏                               | 3.8 MB 19.6 MB/s eta 0:00:30\r     |▏                               | 3.8 MB 19.6 MB/s eta 0:00:30\r     |▏                               | 3.8 MB 19.6 MB/s eta 0:00:30\r     |▏                               | 3.8 MB 19.6 MB/s eta 0:00:30\r     |▏                               | 3.8 MB 19.6 MB/s eta 0:00:30\r     |▏                               | 3.8 MB 19.6 MB/s eta 0:00:30\r     |▏                               | 3.9 MB 19.6 MB/s eta 0:00:30\r     |▏                               | 3.9 MB 19.6 MB/s eta 0:00:30\r     |▏                               | 3.9 MB 19.6 MB/s eta 0:00:30\r     |▏                               | 3.9 MB 19.6 MB/s eta 0:00:30\r     |▏                               | 3.9 MB 19.6 MB/s eta 0:00:30\r     |▏                               | 3.9 MB 19.6 MB/s eta 0:00:30\r     |▏                               | 3.9 MB 19.6 MB/s eta 0:00:30\r     |▏                               | 3.9 MB 19.6 MB/s eta 0:00:30\r     |▏                               | 3.9 MB 19.6 MB/s eta 0:00:30\r     |▏                               | 3.9 MB 19.6 MB/s eta 0:00:30\r     |▏                               | 4.0 MB 19.6 MB/s eta 0:00:30\r     |▏                               | 4.0 MB 19.6 MB/s eta 0:00:30\r     |▏                               | 4.0 MB 19.6 MB/s eta 0:00:30\r     |▏                               | 4.0 MB 19.6 MB/s eta 0:00:30\r     |▏                               | 4.0 MB 19.6 MB/s eta 0:00:30\r     |▏                               | 4.0 MB 19.6 MB/s eta 0:00:30\r     |▏                               | 4.0 MB 19.6 MB/s eta 0:00:30\r     |▏                               | 4.0 MB 19.6 MB/s eta 0:00:30\r     |▏                               | 4.0 MB 19.6 MB/s eta 0:00:30\r     |▏                               | 4.0 MB 19.6 MB/s eta 0:00:30\r     |▏                               | 4.1 MB 19.6 MB/s eta 0:00:30\r     |▏                               | 4.1 MB 19.6 MB/s eta 0:00:30\r     |▏                               | 4.1 MB 19.6 MB/s eta 0:00:30\r     |▎                               | 4.1 MB 19.6 MB/s eta 0:00:30\r     |▎                               | 4.1 MB 19.6 MB/s eta 0:00:30\r     |▎                               | 4.1 MB 19.6 MB/s eta 0:00:30\r     |▎                               | 4.1 MB 19.6 MB/s eta 0:00:30\r     |▎                               | 4.1 MB 19.6 MB/s eta 0:00:30\r     |▎                               | 4.1 MB 19.6 MB/s eta 0:00:30\r     |▎                               | 4.1 MB 19.6 MB/s eta 0:00:30\r     |▎                               | 4.2 MB 19.6 MB/s eta 0:00:30\r     |▎                               | 4.2 MB 19.6 MB/s eta 0:00:30\r     |▎                               | 4.2 MB 19.6 MB/s eta 0:00:30\r     |▎                               | 4.2 MB 19.6 MB/s eta 0:00:30\r     |▎                               | 4.2 MB 19.6 MB/s eta 0:00:30\r     |▎                               | 4.2 MB 19.6 MB/s eta 0:00:30\r     |▎                               | 4.2 MB 19.6 MB/s eta 0:00:30\r     |▎                               | 4.2 MB 19.6 MB/s eta 0:00:30\r     |▎                               | 4.2 MB 19.6 MB/s eta 0:00:30\r     |▎                               | 4.2 MB 19.6 MB/s eta 0:00:30\r     |▎                               | 4.3 MB 19.6 MB/s eta 0:00:30\r     |▎                               | 4.3 MB 19.6 MB/s eta 0:00:30\r     |▎                               | 4.3 MB 19.6 MB/s eta 0:00:30\r     |▎                               | 4.3 MB 19.6 MB/s eta 0:00:30\r     |▎                               | 4.3 MB 19.6 MB/s eta 0:00:30\r     |▎                               | 4.3 MB 19.6 MB/s eta 0:00:30\r     |▎                               | 4.3 MB 19.6 MB/s eta 0:00:30\r     |▎                               | 4.3 MB 19.6 MB/s eta 0:00:30\r     |▎                               | 4.3 MB 19.6 MB/s eta 0:00:30\r     |▎                               | 4.4 MB 19.6 MB/s eta 0:00:30\r     |▎                               | 4.4 MB 19.6 MB/s eta 0:00:30\r     |▎                               | 4.4 MB 19.6 MB/s eta 0:00:30\r     |▎                               | 4.4 MB 19.6 MB/s eta 0:00:30\r     |▎                               | 4.4 MB 19.6 MB/s eta 0:00:30\r     |▎                               | 4.4 MB 19.6 MB/s eta 0:00:30\r     |▎                               | 4.4 MB 19.6 MB/s eta 0:00:30\r     |▎                               | 4.4 MB 19.6 MB/s eta 0:00:30\r     |▎                               | 4.4 MB 19.6 MB/s eta 0:00:30\r     |▎                               | 4.4 MB 19.6 MB/s eta 0:00:30\r     |▎                               | 4.5 MB 19.6 MB/s eta 0:00:30\r     |▎                               | 4.5 MB 19.6 MB/s eta 0:00:30\r     |▎                               | 4.5 MB 19.6 MB/s eta 0:00:30\r     |▎                               | 4.5 MB 19.6 MB/s eta 0:00:30\r     |▎                               | 4.5 MB 19.6 MB/s eta 0:00:30\r     |▎                               | 4.5 MB 19.6 MB/s eta 0:00:30\r     |▎                               | 4.5 MB 19.6 MB/s eta 0:00:30\r     |▎                               | 4.5 MB 19.6 MB/s eta 0:00:30\r     |▎                               | 4.5 MB 19.6 MB/s eta 0:00:30\r     |▎                               | 4.5 MB 19.6 MB/s eta 0:00:30\r     |▎                               | 4.6 MB 19.6 MB/s eta 0:00:30\r     |▎                               | 4.6 MB 19.6 MB/s eta 0:00:30\r     |▎                               | 4.6 MB 19.6 MB/s eta 0:00:30\r     |▎                               | 4.6 MB 19.6 MB/s eta 0:00:30\r     |▎                               | 4.6 MB 19.6 MB/s eta 0:00:30\r     |▎                               | 4.6 MB 19.6 MB/s eta 0:00:30\r     |▎                               | 4.6 MB 19.6 MB/s eta 0:00:30\r     |▎                               | 4.6 MB 19.6 MB/s eta 0:00:30\r     |▎                               | 4.6 MB 19.6 MB/s eta 0:00:30\r     |▎                               | 4.6 MB 19.6 MB/s eta 0:00:30\r     |▎                               | 4.7 MB 19.6 MB/s eta 0:00:30\r     |▎                               | 4.7 MB 19.6 MB/s eta 0:00:30\r     |▎                               | 4.7 MB 19.6 MB/s eta 0:00:30\r     |▎                               | 4.7 MB 19.6 MB/s eta 0:00:30\r     |▎                               | 4.7 MB 19.6 MB/s eta 0:00:30\r     |▎                               | 4.7 MB 19.6 MB/s eta 0:00:30\r     |▎                               | 4.7 MB 19.6 MB/s eta 0:00:30\r     |▎                               | 4.7 MB 19.6 MB/s eta 0:00:30\r     |▎                               | 4.7 MB 19.6 MB/s eta 0:00:30\r     |▎                               | 4.8 MB 19.6 MB/s eta 0:00:30\r     |▎                               | 4.8 MB 19.6 MB/s eta 0:00:30\r     |▎                               | 4.8 MB 19.6 MB/s eta 0:00:30\r     |▎                               | 4.8 MB 19.6 MB/s eta 0:00:30\r     |▎                               | 4.8 MB 19.6 MB/s eta 0:00:30\r     |▎                               | 4.8 MB 19.6 MB/s eta 0:00:30\r     |▎                               | 4.8 MB 19.6 MB/s eta 0:00:30\r     |▎                               | 4.8 MB 19.6 MB/s eta 0:00:30\r     |▎                               | 4.8 MB 19.6 MB/s eta 0:00:30\r     |▎                               | 4.8 MB 19.6 MB/s eta 0:00:30\r     |▎                               | 4.9 MB 19.6 MB/s eta 0:00:30\r     |▎                               | 4.9 MB 19.6 MB/s eta 0:00:30\r     |▎                               | 4.9 MB 19.6 MB/s eta 0:00:30\r     |▎                               | 4.9 MB 19.6 MB/s eta 0:00:30\r     |▎                               | 4.9 MB 19.6 MB/s eta 0:00:30\r     |▎                               | 4.9 MB 19.6 MB/s eta 0:00:30\r     |▎                               | 4.9 MB 19.6 MB/s eta 0:00:30\r     |▎                               | 4.9 MB 19.6 MB/s eta 0:00:30\r     |▎                               | 4.9 MB 19.6 MB/s eta 0:00:30\r     |▎                               | 4.9 MB 19.6 MB/s eta 0:00:30\r     |▎                               | 5.0 MB 19.6 MB/s eta 0:00:30\r     |▎                               | 5.0 MB 19.6 MB/s eta 0:00:30\r     |▎                               | 5.0 MB 19.6 MB/s eta 0:00:30\r     |▎                               | 5.0 MB 19.6 MB/s eta 0:00:30\r     |▎                               | 5.0 MB 19.6 MB/s eta 0:00:30\r     |▎                               | 5.0 MB 19.6 MB/s eta 0:00:30\r     |▎                               | 5.0 MB 19.6 MB/s eta 0:00:30\r     |▎                               | 5.0 MB 19.6 MB/s eta 0:00:30\r     |▎                               | 5.0 MB 19.6 MB/s eta 0:00:30\r     |▎                               | 5.0 MB 19.6 MB/s eta 0:00:30\r     |▎                               | 5.1 MB 19.6 MB/s eta 0:00:30\r     |▎                               | 5.1 MB 19.6 MB/s eta 0:00:30\r     |▎                               | 5.1 MB 19.6 MB/s eta 0:00:30\r     |▎                               | 5.1 MB 19.6 MB/s eta 0:00:30\r     |▎                               | 5.1 MB 19.6 MB/s eta 0:00:30\r     |▎                               | 5.1 MB 19.6 MB/s eta 0:00:30\r     |▎                               | 5.1 MB 19.6 MB/s eta 0:00:30\r     |▎                               | 5.1 MB 19.6 MB/s eta 0:00:30\r     |▎                               | 5.1 MB 19.6 MB/s eta 0:00:30\r     |▎                               | 5.2 MB 19.6 MB/s eta 0:00:30\r     |▎                               | 5.2 MB 19.6 MB/s eta 0:00:30\r     |▎                               | 5.2 MB 19.6 MB/s eta 0:00:30\r     |▎                               | 5.2 MB 19.6 MB/s eta 0:00:30\r     |▎                               | 5.2 MB 19.6 MB/s eta 0:00:30\r     |▎                               | 5.2 MB 19.6 MB/s eta 0:00:30\r     |▎                               | 5.2 MB 19.6 MB/s eta 0:00:30\r     |▎                               | 5.2 MB 19.6 MB/s eta 0:00:30\r     |▎                               | 5.2 MB 19.6 MB/s eta 0:00:30\r     |▎                               | 5.2 MB 19.6 MB/s eta 0:00:30\r     |▎                               | 5.3 MB 19.6 MB/s eta 0:00:30\r     |▎                               | 5.3 MB 19.6 MB/s eta 0:00:30\r     |▎                               | 5.3 MB 19.6 MB/s eta 0:00:30\r     |▎                               | 5.3 MB 19.6 MB/s eta 0:00:30\r     |▎                               | 5.3 MB 19.6 MB/s eta 0:00:30\r     |▎                               | 5.3 MB 19.6 MB/s eta 0:00:30\r     |▎                               | 5.3 MB 19.6 MB/s eta 0:00:30\r     |▎                               | 5.3 MB 19.6 MB/s eta 0:00:30\r     |▎                               | 5.3 MB 19.6 MB/s eta 0:00:30\r     |▎                               | 5.3 MB 19.6 MB/s eta 0:00:30\r     |▎                               | 5.4 MB 19.6 MB/s eta 0:00:30\r     |▎                               | 5.4 MB 19.6 MB/s eta 0:00:30\r     |▎                               | 5.4 MB 19.6 MB/s eta 0:00:30\r     |▎                               | 5.4 MB 19.6 MB/s eta 0:00:30\r     |▎                               | 5.4 MB 19.6 MB/s eta 0:00:30\r     |▎                               | 5.4 MB 19.6 MB/s eta 0:00:30\r     |▎                               | 5.4 MB 19.6 MB/s eta 0:00:30\r     |▎                               | 5.4 MB 19.6 MB/s eta 0:00:30\r     |▎                               | 5.4 MB 19.6 MB/s eta 0:00:30\r     |▎                               | 5.4 MB 19.6 MB/s eta 0:00:30\r     |▎                               | 5.5 MB 19.6 MB/s eta 0:00:30\r     |▎                               | 5.5 MB 19.6 MB/s eta 0:00:30\r     |▎                               | 5.5 MB 19.6 MB/s eta 0:00:30\r     |▎                               | 5.5 MB 19.6 MB/s eta 0:00:30\r     |▎                               | 5.5 MB 19.6 MB/s eta 0:00:30\r     |▎                               | 5.5 MB 19.6 MB/s eta 0:00:30\r     |▎                               | 5.5 MB 19.6 MB/s eta 0:00:30\r     |▎                               | 5.5 MB 19.6 MB/s eta 0:00:30\r     |▎                               | 5.5 MB 19.6 MB/s eta 0:00:30\r     |▎                               | 5.6 MB 19.6 MB/s eta 0:00:30\r     |▎                               | 5.6 MB 19.6 MB/s eta 0:00:30\r     |▎                               | 5.6 MB 19.6 MB/s eta 0:00:30\r     |▎                               | 5.6 MB 19.6 MB/s eta 0:00:30\r     |▎                               | 5.6 MB 19.6 MB/s eta 0:00:30\r     |▎                               | 5.6 MB 19.6 MB/s eta 0:00:30\r     |▎                               | 5.6 MB 19.6 MB/s eta 0:00:30\r     |▎                               | 5.6 MB 19.6 MB/s eta 0:00:30\r     |▎                               | 5.6 MB 19.6 MB/s eta 0:00:30\r     |▎                               | 5.6 MB 19.6 MB/s eta 0:00:30\r     |▎                               | 5.7 MB 19.6 MB/s eta 0:00:30\r     |▎                               | 5.7 MB 19.6 MB/s eta 0:00:30\r     |▎                               | 5.7 MB 19.6 MB/s eta 0:00:30\r     |▎                               | 5.7 MB 19.6 MB/s eta 0:00:30\r     |▎                               | 5.7 MB 19.6 MB/s eta 0:00:30\r     |▎                               | 5.7 MB 19.6 MB/s eta 0:00:30\r     |▎                               | 5.7 MB 19.6 MB/s eta 0:00:30\r     |▎                               | 5.7 MB 19.6 MB/s eta 0:00:30\r     |▎                               | 5.7 MB 19.6 MB/s eta 0:00:30\r     |▎                               | 5.7 MB 19.6 MB/s eta 0:00:30\r     |▎                               | 5.8 MB 19.6 MB/s eta 0:00:30\r     |▎                               | 5.8 MB 19.6 MB/s eta 0:00:30\r     |▎                               | 5.8 MB 19.6 MB/s eta 0:00:30\r     |▎                               | 5.8 MB 19.6 MB/s eta 0:00:30\r     |▎                               | 5.8 MB 19.6 MB/s eta 0:00:30\r     |▎                               | 5.8 MB 19.6 MB/s eta 0:00:30\r     |▎                               | 5.8 MB 19.6 MB/s eta 0:00:30\r     |▎                               | 5.8 MB 19.6 MB/s eta 0:00:30\r     |▎                               | 5.8 MB 19.6 MB/s eta 0:00:30\r     |▎                               | 5.8 MB 19.6 MB/s eta 0:00:30\r     |▎                               | 5.9 MB 19.6 MB/s eta 0:00:30\r     |▎                               | 5.9 MB 19.6 MB/s eta 0:00:30\r     |▎                               | 5.9 MB 19.6 MB/s eta 0:00:30\r     |▎                               | 5.9 MB 19.6 MB/s eta 0:00:30\r     |▎                               | 5.9 MB 19.6 MB/s eta 0:00:30\r     |▎                               | 5.9 MB 19.6 MB/s eta 0:00:30\r     |▎                               | 5.9 MB 19.6 MB/s eta 0:00:30\r     |▎                               | 5.9 MB 19.6 MB/s eta 0:00:30\r     |▎                               | 5.9 MB 19.6 MB/s eta 0:00:30\r     |▎                               | 5.9 MB 19.6 MB/s eta 0:00:30\r     |▎                               | 6.0 MB 19.6 MB/s eta 0:00:30\r     |▎                               | 6.0 MB 19.6 MB/s eta 0:00:30\r     |▎                               | 6.0 MB 19.6 MB/s eta 0:00:30\r     |▎                               | 6.0 MB 19.6 MB/s eta 0:00:30\r     |▎                               | 6.0 MB 19.6 MB/s eta 0:00:30\r     |▎                               | 6.0 MB 19.6 MB/s eta 0:00:30\r     |▎                               | 6.0 MB 19.6 MB/s eta 0:00:30\r     |▎                               | 6.0 MB 19.6 MB/s eta 0:00:30\r     |▎                               | 6.0 MB 19.6 MB/s eta 0:00:30\r     |▎                               | 6.1 MB 19.6 MB/s eta 0:00:30\r     |▎                               | 6.1 MB 19.6 MB/s eta 0:00:30\r     |▎                               | 6.1 MB 19.6 MB/s eta 0:00:30\r     |▎                               | 6.1 MB 19.6 MB/s eta 0:00:30\r     |▎                               | 6.1 MB 19.6 MB/s eta 0:00:30\r     |▎                               | 6.1 MB 19.6 MB/s eta 0:00:30\r     |▎                               | 6.1 MB 19.6 MB/s eta 0:00:30\r     |▎                               | 6.1 MB 19.6 MB/s eta 0:00:30\r     |▍                               | 6.1 MB 19.6 MB/s eta 0:00:30\r     |▍                               | 6.1 MB 19.6 MB/s eta 0:00:30\r     |▍                               | 6.2 MB 19.6 MB/s eta 0:00:30\r     |▍                               | 6.2 MB 19.6 MB/s eta 0:00:30\r     |▍                               | 6.2 MB 19.6 MB/s eta 0:00:30\r     |▍                               | 6.2 MB 19.6 MB/s eta 0:00:30\r     |▍                               | 6.2 MB 19.6 MB/s eta 0:00:30\r     |▍                               | 6.2 MB 19.6 MB/s eta 0:00:30\r     |▍                               | 6.2 MB 19.6 MB/s eta 0:00:30\r     |▍                               | 6.2 MB 19.6 MB/s eta 0:00:30\r     |▍                               | 6.2 MB 19.6 MB/s eta 0:00:30\r     |▍                               | 6.2 MB 19.6 MB/s eta 0:00:30\r     |▍                               | 6.3 MB 19.6 MB/s eta 0:00:30\r     |▍                               | 6.3 MB 19.6 MB/s eta 0:00:30\r     |▍                               | 6.3 MB 19.6 MB/s eta 0:00:30\r     |▍                               | 6.3 MB 19.6 MB/s eta 0:00:30\r     |▍                               | 6.3 MB 19.6 MB/s eta 0:00:30\r     |▍                               | 6.3 MB 19.6 MB/s eta 0:00:30\r     |▍                               | 6.3 MB 19.6 MB/s eta 0:00:30\r     |▍                               | 6.3 MB 19.6 MB/s eta 0:00:30\r     |▍                               | 6.3 MB 19.6 MB/s eta 0:00:30\r     |▍                               | 6.3 MB 19.6 MB/s eta 0:00:30\r     |▍                               | 6.4 MB 19.6 MB/s eta 0:00:30\r     |▍                               | 6.4 MB 19.6 MB/s eta 0:00:30\r     |▍                               | 6.4 MB 19.6 MB/s eta 0:00:30\r     |▍                               | 6.4 MB 19.6 MB/s eta 0:00:30\r     |▍                               | 6.4 MB 19.6 MB/s eta 0:00:30\r     |▍                               | 6.4 MB 19.6 MB/s eta 0:00:30\r     |▍                               | 6.4 MB 19.6 MB/s eta 0:00:30\r     |▍                               | 6.4 MB 19.6 MB/s eta 0:00:30\r     |▍                               | 6.4 MB 19.6 MB/s eta 0:00:30\r     |▍                               | 6.5 MB 19.6 MB/s eta 0:00:30\r     |▍                               | 6.5 MB 19.6 MB/s eta 0:00:30\r     |▍                               | 6.5 MB 19.6 MB/s eta 0:00:30\r     |▍                               | 6.5 MB 19.6 MB/s eta 0:00:30\r     |▍                               | 6.5 MB 19.6 MB/s eta 0:00:30\r     |▍                               | 6.5 MB 19.6 MB/s eta 0:00:30\r     |▍                               | 6.5 MB 19.6 MB/s eta 0:00:30\r     |▍                               | 6.5 MB 19.6 MB/s eta 0:00:30\r     |▍                               | 6.5 MB 19.6 MB/s eta 0:00:30\r     |▍                               | 6.5 MB 19.6 MB/s eta 0:00:30\r     |▍                               | 6.6 MB 19.6 MB/s eta 0:00:30\r     |▍                               | 6.6 MB 19.6 MB/s eta 0:00:30\r     |▍                               | 6.6 MB 19.6 MB/s eta 0:00:30\r     |▍                               | 6.6 MB 19.6 MB/s eta 0:00:30\r     |▍                               | 6.6 MB 19.6 MB/s eta 0:00:30\r     |▍                               | 6.6 MB 19.6 MB/s eta 0:00:30\r     |▍                               | 6.6 MB 19.6 MB/s eta 0:00:30\r     |▍                               | 6.6 MB 19.6 MB/s eta 0:00:30\r     |▍                               | 6.6 MB 19.6 MB/s eta 0:00:30\r     |▍                               | 6.6 MB 19.6 MB/s eta 0:00:30\r     |▍                               | 6.7 MB 19.6 MB/s eta 0:00:30\r     |▍                               | 6.7 MB 19.6 MB/s eta 0:00:30\r     |▍                               | 6.7 MB 19.6 MB/s eta 0:00:30\r     |▍                               | 6.7 MB 19.6 MB/s eta 0:00:30\r     |▍                               | 6.7 MB 19.6 MB/s eta 0:00:30\r     |▍                               | 6.7 MB 19.6 MB/s eta 0:00:30\r     |▍                               | \n",
       "*** WARNING: skipped 4590017 bytes of output ***\n",
       "\n",
       "Collecting isodate&gt;=0.6.1\r\n",
       "  Downloading isodate-0.6.1-py2.py3-none-any.whl (41 kB)\r\n",
       "███████▉                        | 10 kB 30.6 MB/s eta 0:00:01\r     |███████████████▊                | 20 kB 40.0 MB/s eta 0:00:01\r     |███████████████████████▋        | 30 kB 50.4 MB/s eta 0:00:01\r     |███████████████████████████████▍| 40 kB 57.2 MB/s eta 0:00:01\r     |████████████████████████████████| 41 kB 333 kB/s \r\n",
       "Collecting azure-core&lt;2.0.0,&gt;=1.28.0\r\n",
       "  Downloading azure_core-1.28.0-py3-none-any.whl (185 kB)\r\n",
       "█▊                              | 10 kB 29.9 MB/s eta 0:00:01\r     |███▌                            | 20 kB 33.5 MB/s eta 0:00:01\r     |█████▎                          | 30 kB 42.4 MB/s eta 0:00:01\r     |███████                         | 40 kB 49.5 MB/s eta 0:00:01\r     |████████▉                       | 51 kB 54.7 MB/s eta 0:00:01\r     |██████████▋                     | 61 kB 60.5 MB/s eta 0:00:01\r     |████████████▍                   | 71 kB 64.7 MB/s eta 0:00:01\r     |██████████████▏                 | 81 kB 69.4 MB/s eta 0:00:01\r     |████████████████                | 92 kB 72.2 MB/s eta 0:00:01\r     |█████████████████▊              | 102 kB 74.8 MB/s eta 0:00:01\r     |███████████████████▍            | 112 kB 74.8 MB/s eta 0:00:01\r     |█████████████████████▏          | 122 kB 74.8 MB/s eta 0:00:01\r     |███████████████████████         | 133 kB 74.8 MB/s eta 0:00:01\r     |████████████████████████▊       | 143 kB 74.8 MB/s eta 0:00:01\r     |██████████████████████████▌     | 153 kB 74.8 MB/s eta 0:00:01\r     |████████████████████████████▎   | 163 kB 74.8 MB/s eta 0:00:01\r     |██████████████████████████████  | 174 kB 74.8 MB/s eta 0:00:01\r     |███████████████████████████████▉| 184 kB 74.8 MB/s eta 0:00:01\r     |████████████████████████████████| 185 kB 74.8 MB/s \r\n",
       "Requirement already satisfied: requests&gt;=2.18.4 in /databricks/python3/lib/python3.8/site-packages (from azure-core&lt;2.0.0,&gt;=1.28.0-&gt;azure-storage-blob) (2.25.1)\r\n",
       "Requirement already satisfied: six&gt;=1.11.0 in /databricks/python3/lib/python3.8/site-packages (from azure-core&lt;2.0.0,&gt;=1.28.0-&gt;azure-storage-blob) (1.15.0)\r\n",
       "Requirement already satisfied: cffi&gt;=1.12 in /databricks/python3/lib/python3.8/site-packages (from cryptography&gt;=2.1.4-&gt;azure-storage-blob) (1.14.5)\r\n",
       "Requirement already satisfied: pycparser in /databricks/python3/lib/python3.8/site-packages (from cffi&gt;=1.12-&gt;cryptography&gt;=2.1.4-&gt;azure-storage-blob) (2.20)\r\n",
       "Requirement already satisfied: urllib3&lt;1.27,&gt;=1.21.1 in /databricks/python3/lib/python3.8/site-packages (from requests&gt;=2.18.4-&gt;azure-core&lt;2.0.0,&gt;=1.28.0-&gt;azure-storage-blob) (1.25.11)\r\n",
       "Requirement already satisfied: certifi&gt;=2017.4.17 in /databricks/python3/lib/python3.8/site-packages (from requests&gt;=2.18.4-&gt;azure-core&lt;2.0.0,&gt;=1.28.0-&gt;azure-storage-blob) (2020.12.5)\r\n",
       "Requirement already satisfied: chardet&lt;5,&gt;=3.0.2 in /databricks/python3/lib/python3.8/site-packages (from requests&gt;=2.18.4-&gt;azure-core&lt;2.0.0,&gt;=1.28.0-&gt;azure-storage-blob) (4.0.0)\r\n",
       "Requirement already satisfied: idna&lt;3,&gt;=2.5 in /databricks/python3/lib/python3.8/site-packages (from requests&gt;=2.18.4-&gt;azure-core&lt;2.0.0,&gt;=1.28.0-&gt;azure-storage-blob) (2.10)\r\n",
       "Installing collected packages: isodate, cryptography, azure-core, azure-storage-blob\r\n",
       "Successfully installed azure-core-1.28.0 azure-storage-blob-12.17.0 cryptography-41.0.2 isodate-0.6.1\r\n",
       "<span class=\"ansi-yellow-fg\">WARNING: You are using pip version 21.0.1; however, version 23.2.1 is available.\r\n",
       "You should consider upgrading via the &#39;/databricks/python3/bin/python -m pip install --upgrade pip&#39; command.</span>\r\n",
       "</div>"
      ]
     },
     "metadata": {
      "application/vnd.databricks.v1+output": {
       "addedWidgets": {},
       "arguments": {},
       "data": "<div class=\"ansiout\">Collecting joblib==1.2.0\r\n  Downloading joblib-1.2.0-py3-none-any.whl (297 kB)\r\n\r     |█                               | 10 kB 32.1 MB/s eta 0:00:01\r     |██▏                             | 20 kB 17.7 MB/s eta 0:00:01\r     |███▎                            | 30 kB 23.6 MB/s eta 0:00:01\r     |████▍                           | 40 kB 14.0 MB/s eta 0:00:01\r     |█████▌                          | 51 kB 16.7 MB/s eta 0:00:01\r     |██████▋                         | 61 kB 19.4 MB/s eta 0:00:01\r     |███████▊                        | 71 kB 15.6 MB/s eta 0:00:01\r     |████████▉                       | 81 kB 17.4 MB/s eta 0:00:01\r     |██████████                      | 92 kB 17.4 MB/s eta 0:00:01\r     |███████████                     | 102 kB 18.4 MB/s eta 0:00:01\r     |████████████                    | 112 kB 18.4 MB/s eta 0:00:01\r     |█████████████▏                  | 122 kB 18.4 MB/s eta 0:00:01\r     |██████████████▎                 | 133 kB 18.4 MB/s eta 0:00:01\r     |███████████████▍                | 143 kB 18.4 MB/s eta 0:00:01\r     |████████████████▌               | 153 kB 18.4 MB/s eta 0:00:01\r     |█████████████████▋              | 163 kB 18.4 MB/s eta 0:00:01\r     |██████████████████▊             | 174 kB 18.4 MB/s eta 0:00:01\r     |███████████████████▉            | 184 kB 18.4 MB/s eta 0:00:01\r     |█████████████████████           | 194 kB 18.4 MB/s eta 0:00:01\r     |██████████████████████          | 204 kB 18.4 MB/s eta 0:00:01\r     |███████████████████████         | 215 kB 18.4 MB/s eta 0:00:01\r     |████████████████████████▏       | 225 kB 18.4 MB/s eta 0:00:01\r     |█████████████████████████▎      | 235 kB 18.4 MB/s eta 0:00:01\r     |██████████████████████████▍     | 245 kB 18.4 MB/s eta 0:00:01\r     |███████████████████████████▌    | 256 kB 18.4 MB/s eta 0:00:01\r     |████████████████████████████▋   | 266 kB 18.4 MB/s eta 0:00:01\r     |█████████████████████████████▊  | 276 kB 18.4 MB/s eta 0:00:01\r     |██████████████████████████████▉ | 286 kB 18.4 MB/s eta 0:00:01\r     |████████████████████████████████| 296 kB 18.4 MB/s eta 0:00:01\r     |████████████████████████████████| 297 kB 18.4 MB/s \r\nInstalling collected packages: joblib\r\n  Attempting uninstall: joblib\r\n    Found existing installation: joblib 1.0.1\r\n    Uninstalling joblib-1.0.1:\r\n      Successfully uninstalled joblib-1.0.1\r\nSuccessfully installed joblib-1.2.0\r\n<span class=\"ansi-yellow-fg\">WARNING: You are using pip version 21.0.1; however, version 23.2.1 is available.\r\nYou should consider upgrading via the &#39;/databricks/python3/bin/python -m pip install --upgrade pip&#39; command.</span>\r\nCollecting tensorflow==2.11.0\r\n  Downloading tensorflow-2.11.0-cp38-cp38-manylinux_2_17_x86_64.manylinux2014_x86_64.whl (588.3 MB)\r\n\r     |                                | 10 kB 27.6 MB/s eta 0:00:22\r     |                                | 20 kB 22.4 MB/s eta 0:00:27\r     |                                | 30 kB 30.1 MB/s eta 0:00:20\r     |                                | 40 kB 15.1 MB/s eta 0:00:40\r     |                                | 51 kB 17.9 MB/s eta 0:00:33\r     |                                | 61 kB 20.9 MB/s eta 0:00:29\r     |                                | 71 kB 16.8 MB/s eta 0:00:35\r     |                                | 81 kB 18.7 MB/s eta 0:00:32\r     |                                | 92 kB 18.7 MB/s eta 0:00:32\r     |                                | 102 kB 19.6 MB/s eta 0:00:31\r     |                                | 112 kB 19.6 MB/s eta 0:00:31\r     |                                | 122 kB 19.6 MB/s eta 0:00:31\r     |                                | 133 kB 19.6 MB/s eta 0:00:31\r     |                                | 143 kB 19.6 MB/s eta 0:00:31\r     |                                | 153 kB 19.6 MB/s eta 0:00:31\r     |                                | 163 kB 19.6 MB/s eta 0:00:31\r     |                                | 174 kB 19.6 MB/s eta 0:00:31\r     |                                | 184 kB 19.6 MB/s eta 0:00:31\r     |                                | 194 kB 19.6 MB/s eta 0:00:31\r     |                                | 204 kB 19.6 MB/s eta 0:00:31\r     |                                | 215 kB 19.6 MB/s eta 0:00:31\r     |                                | 225 kB 19.6 MB/s eta 0:00:31\r     |                                | 235 kB 19.6 MB/s eta 0:00:31\r     |                                | 245 kB 19.6 MB/s eta 0:00:31\r     |                                | 256 kB 19.6 MB/s eta 0:00:31\r     |                                | 266 kB 19.6 MB/s eta 0:00:31\r     |                                | 276 kB 19.6 MB/s eta 0:00:31\r     |                                | 286 kB 19.6 MB/s eta 0:00:31\r     |                                | 296 kB 19.6 MB/s eta 0:00:31\r     |                                | 307 kB 19.6 MB/s eta 0:00:31\r     |                                | 317 kB 19.6 MB/s eta 0:00:31\r     |                                | 327 kB 19.6 MB/s eta 0:00:31\r     |                                | 337 kB 19.6 MB/s eta 0:00:31\r     |                                | 348 kB 19.6 MB/s eta 0:00:31\r     |                                | 358 kB 19.6 MB/s eta 0:00:31\r     |                                | 368 kB 19.6 MB/s eta 0:00:31\r     |                                | 378 kB 19.6 MB/s eta 0:00:31\r     |                                | 389 kB 19.6 MB/s eta 0:00:31\r     |                                | 399 kB 19.6 MB/s eta 0:00:31\r     |                                | 409 kB 19.6 MB/s eta 0:00:31\r     |                                | 419 kB 19.6 MB/s eta 0:00:31\r     |                                | 430 kB 19.6 MB/s eta 0:00:31\r     |                                | 440 kB 19.6 MB/s eta 0:00:31\r     |                                | 450 kB 19.6 MB/s eta 0:00:31\r     |                                | 460 kB 19.6 MB/s eta 0:00:31\r     |                                | 471 kB 19.6 MB/s eta 0:00:31\r     |                                | 481 kB 19.6 MB/s eta 0:00:31\r     |                                | 491 kB 19.6 MB/s eta 0:00:31\r     |                                | 501 kB 19.6 MB/s eta 0:00:31\r     |                                | 512 kB 19.6 MB/s eta 0:00:31\r     |                                | 522 kB 19.6 MB/s eta 0:00:31\r     |                                | 532 kB 19.6 MB/s eta 0:00:31\r     |                                | 542 kB 19.6 MB/s eta 0:00:31\r     |                                | 552 kB 19.6 MB/s eta 0:00:31\r     |                                | 563 kB 19.6 MB/s eta 0:00:31\r     |                                | 573 kB 19.6 MB/s eta 0:00:31\r     |                                | 583 kB 19.6 MB/s eta 0:00:31\r     |                                | 593 kB 19.6 MB/s eta 0:00:31\r     |                                | 604 kB 19.6 MB/s eta 0:00:31\r     |                                | 614 kB 19.6 MB/s eta 0:00:31\r     |                                | 624 kB 19.6 MB/s eta 0:00:31\r     |                                | 634 kB 19.6 MB/s eta 0:00:31\r     |                                | 645 kB 19.6 MB/s eta 0:00:31\r     |                                | 655 kB 19.6 MB/s eta 0:00:31\r     |                                | 665 kB 19.6 MB/s eta 0:00:31\r     |                                | 675 kB 19.6 MB/s eta 0:00:31\r     |                                | 686 kB 19.6 MB/s eta 0:00:31\r     |                                | 696 kB 19.6 MB/s eta 0:00:31\r     |                                | 706 kB 19.6 MB/s eta 0:00:31\r     |                                | 716 kB 19.6 MB/s eta 0:00:31\r     |                                | 727 kB 19.6 MB/s eta 0:00:31\r     |                                | 737 kB 19.6 MB/s eta 0:00:31\r     |                                | 747 kB 19.6 MB/s eta 0:00:31\r     |                                | 757 kB 19.6 MB/s eta 0:00:31\r     |                                | 768 kB 19.6 MB/s eta 0:00:31\r     |                                | 778 kB 19.6 MB/s eta 0:00:31\r     |                                | 788 kB 19.6 MB/s eta 0:00:31\r     |                                | 798 kB 19.6 MB/s eta 0:00:31\r     |                                | 808 kB 19.6 MB/s eta 0:00:31\r     |                                | 819 kB 19.6 MB/s eta 0:00:31\r     |                                | 829 kB 19.6 MB/s eta 0:00:31\r     |                                | 839 kB 19.6 MB/s eta 0:00:31\r     |                                | 849 kB 19.6 MB/s eta 0:00:31\r     |                                | 860 kB 19.6 MB/s eta 0:00:31\r     |                                | 870 kB 19.6 MB/s eta 0:00:31\r     |                                | 880 kB 19.6 MB/s eta 0:00:31\r     |                                | 890 kB 19.6 MB/s eta 0:00:31\r     |                                | 901 kB 19.6 MB/s eta 0:00:31\r     |                                | 911 kB 19.6 MB/s eta 0:00:31\r     |                                | 921 kB 19.6 MB/s eta 0:00:31\r     |                                | 931 kB 19.6 MB/s eta 0:00:31\r     |                                | 942 kB 19.6 MB/s eta 0:00:31\r     |                                | 952 kB 19.6 MB/s eta 0:00:31\r     |                                | 962 kB 19.6 MB/s eta 0:00:31\r     |                                | 972 kB 19.6 MB/s eta 0:00:31\r     |                                | 983 kB 19.6 MB/s eta 0:00:31\r     |                                | 993 kB 19.6 MB/s eta 0:00:31\r     |                                | 1.0 MB 19.6 MB/s eta 0:00:31\r     |                                | 1.0 MB 19.6 MB/s eta 0:00:31\r     |                                | 1.0 MB 19.6 MB/s eta 0:00:31\r     |                                | 1.0 MB 19.6 MB/s eta 0:00:31\r     |                                | 1.0 MB 19.6 MB/s eta 0:00:31\r     |                                | 1.1 MB 19.6 MB/s eta 0:00:31\r     |                                | 1.1 MB 19.6 MB/s eta 0:00:31\r     |                                | 1.1 MB 19.6 MB/s eta 0:00:31\r     |                                | 1.1 MB 19.6 MB/s eta 0:00:31\r     |                                | 1.1 MB 19.6 MB/s eta 0:00:31\r     |                                | 1.1 MB 19.6 MB/s eta 0:00:31\r     |                                | 1.1 MB 19.6 MB/s eta 0:00:31\r     |                                | 1.1 MB 19.6 MB/s eta 0:00:31\r     |                                | 1.1 MB 19.6 MB/s eta 0:00:31\r     |                                | 1.1 MB 19.6 MB/s eta 0:00:31\r     |                                | 1.2 MB 19.6 MB/s eta 0:00:31\r     |                                | 1.2 MB 19.6 MB/s eta 0:00:31\r     |                                | 1.2 MB 19.6 MB/s eta 0:00:31\r     |                                | 1.2 MB 19.6 MB/s eta 0:00:31\r     |                                | 1.2 MB 19.6 MB/s eta 0:00:31\r     |                                | 1.2 MB 19.6 MB/s eta 0:00:31\r     |                                | 1.2 MB 19.6 MB/s eta 0:00:31\r     |                                | 1.2 MB 19.6 MB/s eta 0:00:31\r     |                                | 1.2 MB 19.6 MB/s eta 0:00:31\r     |                                | 1.2 MB 19.6 MB/s eta 0:00:31\r     |                                | 1.3 MB 19.6 MB/s eta 0:00:31\r     |                                | 1.3 MB 19.6 MB/s eta 0:00:31\r     |                                | 1.3 MB 19.6 MB/s eta 0:00:31\r     |                                | 1.3 MB 19.6 MB/s eta 0:00:31\r     |                                | 1.3 MB 19.6 MB/s eta 0:00:31\r     |                                | 1.3 MB 19.6 MB/s eta 0:00:31\r     |                                | 1.3 MB 19.6 MB/s eta 0:00:31\r     |                                | 1.3 MB 19.6 MB/s eta 0:00:31\r     |                                | 1.3 MB 19.6 MB/s eta 0:00:31\r     |                                | 1.4 MB 19.6 MB/s eta 0:00:31\r     |                                | 1.4 MB 19.6 MB/s eta 0:00:31\r     |                                | 1.4 MB 19.6 MB/s eta 0:00:31\r     |                                | 1.4 MB 19.6 MB/s eta 0:00:31\r     |                                | 1.4 MB 19.6 MB/s eta 0:00:31\r     |                                | 1.4 MB 19.6 MB/s eta 0:00:31\r     |                                | 1.4 MB 19.6 MB/s eta 0:00:31\r     |                                | 1.4 MB 19.6 MB/s eta 0:00:31\r     |                                | 1.4 MB 19.6 MB/s eta 0:00:31\r     |                                | 1.4 MB 19.6 MB/s eta 0:00:31\r     |                                | 1.5 MB 19.6 MB/s eta 0:00:31\r     |                                | 1.5 MB 19.6 MB/s eta 0:00:31\r     |                                | 1.5 MB 19.6 MB/s eta 0:00:31\r     |                                | 1.5 MB 19.6 MB/s eta 0:00:31\r     |                                | 1.5 MB 19.6 MB/s eta 0:00:31\r     |                                | 1.5 MB 19.6 MB/s eta 0:00:30\r     |                                | 1.5 MB 19.6 MB/s eta 0:00:30\r     |                                | 1.5 MB 19.6 MB/s eta 0:00:30\r     |                                | 1.5 MB 19.6 MB/s eta 0:00:30\r     |                                | 1.5 MB 19.6 MB/s eta 0:00:30\r     |                                | 1.6 MB 19.6 MB/s eta 0:00:30\r     |                                | 1.6 MB 19.6 MB/s eta 0:00:30\r     |                                | 1.6 MB 19.6 MB/s eta 0:00:30\r     |                                | 1.6 MB 19.6 MB/s eta 0:00:30\r     |                                | 1.6 MB 19.6 MB/s eta 0:00:30\r     |                                | 1.6 MB 19.6 MB/s eta 0:00:30\r     |                                | 1.6 MB 19.6 MB/s eta 0:00:30\r     |                                | 1.6 MB 19.6 MB/s eta 0:00:30\r     |                                | 1.6 MB 19.6 MB/s eta 0:00:30\r     |                                | 1.6 MB 19.6 MB/s eta 0:00:30\r     |                                | 1.7 MB 19.6 MB/s eta 0:00:30\r     |                                | 1.7 MB 19.6 MB/s eta 0:00:30\r     |                                | 1.7 MB 19.6 MB/s eta 0:00:30\r     |                                | 1.7 MB 19.6 MB/s eta 0:00:30\r     |                                | 1.7 MB 19.6 MB/s eta 0:00:30\r     |                                | 1.7 MB 19.6 MB/s eta 0:00:30\r     |                                | 1.7 MB 19.6 MB/s eta 0:00:30\r     |                                | 1.7 MB 19.6 MB/s eta 0:00:30\r     |                                | 1.7 MB 19.6 MB/s eta 0:00:30\r     |                                | 1.8 MB 19.6 MB/s eta 0:00:30\r     |                                | 1.8 MB 19.6 MB/s eta 0:00:30\r     |                                | 1.8 MB 19.6 MB/s eta 0:00:30\r     |                                | 1.8 MB 19.6 MB/s eta 0:00:30\r     |                                | 1.8 MB 19.6 MB/s eta 0:00:30\r     |                                | 1.8 MB 19.6 MB/s eta 0:00:30\r     |                                | 1.8 MB 19.6 MB/s eta 0:00:30\r     |                                | 1.8 MB 19.6 MB/s eta 0:00:30\r     |                                | 1.8 MB 19.6 MB/s eta 0:00:30\r     |                                | 1.8 MB 19.6 MB/s eta 0:00:30\r     |                                | 1.9 MB 19.6 MB/s eta 0:00:30\r     |                                | 1.9 MB 19.6 MB/s eta 0:00:30\r     |                                | 1.9 MB 19.6 MB/s eta 0:00:30\r     |                                | 1.9 MB 19.6 MB/s eta 0:00:30\r     |                                | 1.9 MB 19.6 MB/s eta 0:00:30\r     |                                | 1.9 MB 19.6 MB/s eta 0:00:30\r     |                                | 1.9 MB 19.6 MB/s eta 0:00:30\r     |                                | 1.9 MB 19.6 MB/s eta 0:00:30\r     |                                | 1.9 MB 19.6 MB/s eta 0:00:30\r     |                                | 1.9 MB 19.6 MB/s eta 0:00:30\r     |                                | 2.0 MB 19.6 MB/s eta 0:00:30\r     |                                | 2.0 MB 19.6 MB/s eta 0:00:30\r     |                                | 2.0 MB 19.6 MB/s eta 0:00:30\r     |                                | 2.0 MB 19.6 MB/s eta 0:00:30\r     |                                | 2.0 MB 19.6 MB/s eta 0:00:30\r     |                                | 2.0 MB 19.6 MB/s eta 0:00:30\r     |                                | 2.0 MB 19.6 MB/s eta 0:00:30\r     |                                | 2.0 MB 19.6 MB/s eta 0:00:30\r     |                                | 2.0 MB 19.6 MB/s eta 0:00:30\r     |▏                               | 2.0 MB 19.6 MB/s eta 0:00:30\r     |▏                               | 2.1 MB 19.6 MB/s eta 0:00:30\r     |▏                               | 2.1 MB 19.6 MB/s eta 0:00:30\r     |▏                               | 2.1 MB 19.6 MB/s eta 0:00:30\r     |▏                               | 2.1 MB 19.6 MB/s eta 0:00:30\r     |▏                               | 2.1 MB 19.6 MB/s eta 0:00:30\r     |▏                               | 2.1 MB 19.6 MB/s eta 0:00:30\r     |▏                               | 2.1 MB 19.6 MB/s eta 0:00:30\r     |▏                               | 2.1 MB 19.6 MB/s eta 0:00:30\r     |▏                               | 2.1 MB 19.6 MB/s eta 0:00:30\r     |▏                               | 2.2 MB 19.6 MB/s eta 0:00:30\r     |▏                               | 2.2 MB 19.6 MB/s eta 0:00:30\r     |▏                               | 2.2 MB 19.6 MB/s eta 0:00:30\r     |▏                               | 2.2 MB 19.6 MB/s eta 0:00:30\r     |▏                               | 2.2 MB 19.6 MB/s eta 0:00:30\r     |▏                               | 2.2 MB 19.6 MB/s eta 0:00:30\r     |▏                               | 2.2 MB 19.6 MB/s eta 0:00:30\r     |▏                               | 2.2 MB 19.6 MB/s eta 0:00:30\r     |▏                               | 2.2 MB 19.6 MB/s eta 0:00:30\r     |▏                               | 2.2 MB 19.6 MB/s eta 0:00:30\r     |▏                               | 2.3 MB 19.6 MB/s eta 0:00:30\r     |▏                               | 2.3 MB 19.6 MB/s eta 0:00:30\r     |▏                               | 2.3 MB 19.6 MB/s eta 0:00:30\r     |▏                               | 2.3 MB 19.6 MB/s eta 0:00:30\r     |▏                               | 2.3 MB 19.6 MB/s eta 0:00:30\r     |▏                               | 2.3 MB 19.6 MB/s eta 0:00:30\r     |▏                               | 2.3 MB 19.6 MB/s eta 0:00:30\r     |▏                               | 2.3 MB 19.6 MB/s eta 0:00:30\r     |▏                               | 2.3 MB 19.6 MB/s eta 0:00:30\r     |▏                               | 2.3 MB 19.6 MB/s eta 0:00:30\r     |▏                               | 2.4 MB 19.6 MB/s eta 0:00:30\r     |▏                               | 2.4 MB 19.6 MB/s eta 0:00:30\r     |▏                               | 2.4 MB 19.6 MB/s eta 0:00:30\r     |▏                               | 2.4 MB 19.6 MB/s eta 0:00:30\r     |▏                               | 2.4 MB 19.6 MB/s eta 0:00:30\r     |▏                               | 2.4 MB 19.6 MB/s eta 0:00:30\r     |▏                               | 2.4 MB 19.6 MB/s eta 0:00:30\r     |▏                               | 2.4 MB 19.6 MB/s eta 0:00:30\r     |▏                               | 2.4 MB 19.6 MB/s eta 0:00:30\r     |▏                               | 2.4 MB 19.6 MB/s eta 0:00:30\r     |▏                               | 2.5 MB 19.6 MB/s eta 0:00:30\r     |▏                               | 2.5 MB 19.6 MB/s eta 0:00:30\r     |▏                               | 2.5 MB 19.6 MB/s eta 0:00:30\r     |▏                               | 2.5 MB 19.6 MB/s eta 0:00:30\r     |▏                               | 2.5 MB 19.6 MB/s eta 0:00:30\r     |▏                               | 2.5 MB 19.6 MB/s eta 0:00:30\r     |▏                               | 2.5 MB 19.6 MB/s eta 0:00:30\r     |▏                               | 2.5 MB 19.6 MB/s eta 0:00:30\r     |▏                               | 2.5 MB 19.6 MB/s eta 0:00:30\r     |▏                               | 2.5 MB 19.6 MB/s eta 0:00:30\r     |▏                               | 2.6 MB 19.6 MB/s eta 0:00:30\r     |▏                               | 2.6 MB 19.6 MB/s eta 0:00:30\r     |▏                               | 2.6 MB 19.6 MB/s eta 0:00:30\r     |▏                               | 2.6 MB 19.6 MB/s eta 0:00:30\r     |▏                               | 2.6 MB 19.6 MB/s eta 0:00:30\r     |▏                               | 2.6 MB 19.6 MB/s eta 0:00:30\r     |▏                               | 2.6 MB 19.6 MB/s eta 0:00:30\r     |▏                               | 2.6 MB 19.6 MB/s eta 0:00:30\r     |▏                               | 2.6 MB 19.6 MB/s eta 0:00:30\r     |▏                               | 2.7 MB 19.6 MB/s eta 0:00:30\r     |▏                               | 2.7 MB 19.6 MB/s eta 0:00:30\r     |▏                               | 2.7 MB 19.6 MB/s eta 0:00:30\r     |▏                               | 2.7 MB 19.6 MB/s eta 0:00:30\r     |▏                               | 2.7 MB 19.6 MB/s eta 0:00:30\r     |▏                               | 2.7 MB 19.6 MB/s eta 0:00:30\r     |▏                               | 2.7 MB 19.6 MB/s eta 0:00:30\r     |▏                               | 2.7 MB 19.6 MB/s eta 0:00:30\r     |▏                               | 2.7 MB 19.6 MB/s eta 0:00:30\r     |▏                               | 2.7 MB 19.6 MB/s eta 0:00:30\r     |▏                               | 2.8 MB 19.6 MB/s eta 0:00:30\r     |▏                               | 2.8 MB 19.6 MB/s eta 0:00:30\r     |▏                               | 2.8 MB 19.6 MB/s eta 0:00:30\r     |▏                               | 2.8 MB 19.6 MB/s eta 0:00:30\r     |▏                               | 2.8 MB 19.6 MB/s eta 0:00:30\r     |▏                               | 2.8 MB 19.6 MB/s eta 0:00:30\r     |▏                               | 2.8 MB 19.6 MB/s eta 0:00:30\r     |▏                               | 2.8 MB 19.6 MB/s eta 0:00:30\r     |▏                               | 2.8 MB 19.6 MB/s eta 0:00:30\r     |▏                               | 2.8 MB 19.6 MB/s eta 0:00:30\r     |▏                               | 2.9 MB 19.6 MB/s eta 0:00:30\r     |▏                               | 2.9 MB 19.6 MB/s eta 0:00:30\r     |▏                               | 2.9 MB 19.6 MB/s eta 0:00:30\r     |▏                               | 2.9 MB 19.6 MB/s eta 0:00:30\r     |▏                               | 2.9 MB 19.6 MB/s eta 0:00:30\r     |▏                               | 2.9 MB 19.6 MB/s eta 0:00:30\r     |▏                               | 2.9 MB 19.6 MB/s eta 0:00:30\r     |▏                               | 2.9 MB 19.6 MB/s eta 0:00:30\r     |▏                               | 2.9 MB 19.6 MB/s eta 0:00:30\r     |▏                               | 2.9 MB 19.6 MB/s eta 0:00:30\r     |▏                               | 3.0 MB 19.6 MB/s eta 0:00:30\r     |▏                               | 3.0 MB 19.6 MB/s eta 0:00:30\r     |▏                               | 3.0 MB 19.6 MB/s eta 0:00:30\r     |▏                               | 3.0 MB 19.6 MB/s eta 0:00:30\r     |▏                               | 3.0 MB 19.6 MB/s eta 0:00:30\r     |▏                               | 3.0 MB 19.6 MB/s eta 0:00:30\r     |▏                               | 3.0 MB 19.6 MB/s eta 0:00:30\r     |▏                               | 3.0 MB 19.6 MB/s eta 0:00:30\r     |▏                               | 3.0 MB 19.6 MB/s eta 0:00:30\r     |▏                               | 3.1 MB 19.6 MB/s eta 0:00:30\r     |▏                               | 3.1 MB 19.6 MB/s eta 0:00:30\r     |▏                               | 3.1 MB 19.6 MB/s eta 0:00:30\r     |▏                               | 3.1 MB 19.6 MB/s eta 0:00:30\r     |▏                               | 3.1 MB 19.6 MB/s eta 0:00:30\r     |▏                               | 3.1 MB 19.6 MB/s eta 0:00:30\r     |▏                               | 3.1 MB 19.6 MB/s eta 0:00:30\r     |▏                               | 3.1 MB 19.6 MB/s eta 0:00:30\r     |▏                               | 3.1 MB 19.6 MB/s eta 0:00:30\r     |▏                               | 3.1 MB 19.6 MB/s eta 0:00:30\r     |▏                               | 3.2 MB 19.6 MB/s eta 0:00:30\r     |▏                               | 3.2 MB 19.6 MB/s eta 0:00:30\r     |▏                               | 3.2 MB 19.6 MB/s eta 0:00:30\r     |▏                               | 3.2 MB 19.6 MB/s eta 0:00:30\r     |▏                               | 3.2 MB 19.6 MB/s eta 0:00:30\r     |▏                               | 3.2 MB 19.6 MB/s eta 0:00:30\r     |▏                               | 3.2 MB 19.6 MB/s eta 0:00:30\r     |▏                               | 3.2 MB 19.6 MB/s eta 0:00:30\r     |▏                               | 3.2 MB 19.6 MB/s eta 0:00:30\r     |▏                               | 3.2 MB 19.6 MB/s eta 0:00:30\r     |▏                               | 3.3 MB 19.6 MB/s eta 0:00:30\r     |▏                               | 3.3 MB 19.6 MB/s eta 0:00:30\r     |▏                               | 3.3 MB 19.6 MB/s eta 0:00:30\r     |▏                               | 3.3 MB 19.6 MB/s eta 0:00:30\r     |▏                               | 3.3 MB 19.6 MB/s eta 0:00:30\r     |▏                               | 3.3 MB 19.6 MB/s eta 0:00:30\r     |▏                               | 3.3 MB 19.6 MB/s eta 0:00:30\r     |▏                               | 3.3 MB 19.6 MB/s eta 0:00:30\r     |▏                               | 3.3 MB 19.6 MB/s eta 0:00:30\r     |▏                               | 3.3 MB 19.6 MB/s eta 0:00:30\r     |▏                               | 3.4 MB 19.6 MB/s eta 0:00:30\r     |▏                               | 3.4 MB 19.6 MB/s eta 0:00:30\r     |▏                               | 3.4 MB 19.6 MB/s eta 0:00:30\r     |▏                               | 3.4 MB 19.6 MB/s eta 0:00:30\r     |▏                               | 3.4 MB 19.6 MB/s eta 0:00:30\r     |▏                               | 3.4 MB 19.6 MB/s eta 0:00:30\r     |▏                               | 3.4 MB 19.6 MB/s eta 0:00:30\r     |▏                               | 3.4 MB 19.6 MB/s eta 0:00:30\r     |▏                               | 3.4 MB 19.6 MB/s eta 0:00:30\r     |▏                               | 3.5 MB 19.6 MB/s eta 0:00:30\r     |▏                               | 3.5 MB 19.6 MB/s eta 0:00:30\r     |▏                               | 3.5 MB 19.6 MB/s eta 0:00:30\r     |▏                               | 3.5 MB 19.6 MB/s eta 0:00:30\r     |▏                               | 3.5 MB 19.6 MB/s eta 0:00:30\r     |▏                               | 3.5 MB 19.6 MB/s eta 0:00:30\r     |▏                               | 3.5 MB 19.6 MB/s eta 0:00:30\r     |▏                               | 3.5 MB 19.6 MB/s eta 0:00:30\r     |▏                               | 3.5 MB 19.6 MB/s eta 0:00:30\r     |▏                               | 3.5 MB 19.6 MB/s eta 0:00:30\r     |▏                               | 3.6 MB 19.6 MB/s eta 0:00:30\r     |▏                               | 3.6 MB 19.6 MB/s eta 0:00:30\r     |▏                               | 3.6 MB 19.6 MB/s eta 0:00:30\r     |▏                               | 3.6 MB 19.6 MB/s eta 0:00:30\r     |▏                               | 3.6 MB 19.6 MB/s eta 0:00:30\r     |▏                               | 3.6 MB 19.6 MB/s eta 0:00:30\r     |▏                               | 3.6 MB 19.6 MB/s eta 0:00:30\r     |▏                               | 3.6 MB 19.6 MB/s eta 0:00:30\r     |▏                               | 3.6 MB 19.6 MB/s eta 0:00:30\r     |▏                               | 3.6 MB 19.6 MB/s eta 0:00:30\r     |▏                               | 3.7 MB 19.6 MB/s eta 0:00:30\r     |▏                               | 3.7 MB 19.6 MB/s eta 0:00:30\r     |▏                               | 3.7 MB 19.6 MB/s eta 0:00:30\r     |▏                               | 3.7 MB 19.6 MB/s eta 0:00:30\r     |▏                               | 3.7 MB 19.6 MB/s eta 0:00:30\r     |▏                               | 3.7 MB 19.6 MB/s eta 0:00:30\r     |▏                               | 3.7 MB 19.6 MB/s eta 0:00:30\r     |▏                               | 3.7 MB 19.6 MB/s eta 0:00:30\r     |▏                               | 3.7 MB 19.6 MB/s eta 0:00:30\r     |▏                               | 3.7 MB 19.6 MB/s eta 0:00:30\r     |▏                               | 3.8 MB 19.6 MB/s eta 0:00:30\r     |▏                               | 3.8 MB 19.6 MB/s eta 0:00:30\r     |▏                               | 3.8 MB 19.6 MB/s eta 0:00:30\r     |▏                               | 3.8 MB 19.6 MB/s eta 0:00:30\r     |▏                               | 3.8 MB 19.6 MB/s eta 0:00:30\r     |▏                               | 3.8 MB 19.6 MB/s eta 0:00:30\r     |▏                               | 3.8 MB 19.6 MB/s eta 0:00:30\r     |▏                               | 3.8 MB 19.6 MB/s eta 0:00:30\r     |▏                               | 3.8 MB 19.6 MB/s eta 0:00:30\r     |▏                               | 3.9 MB 19.6 MB/s eta 0:00:30\r     |▏                               | 3.9 MB 19.6 MB/s eta 0:00:30\r     |▏                               | 3.9 MB 19.6 MB/s eta 0:00:30\r     |▏                               | 3.9 MB 19.6 MB/s eta 0:00:30\r     |▏                               | 3.9 MB 19.6 MB/s eta 0:00:30\r     |▏                               | 3.9 MB 19.6 MB/s eta 0:00:30\r     |▏                               | 3.9 MB 19.6 MB/s eta 0:00:30\r     |▏                               | 3.9 MB 19.6 MB/s eta 0:00:30\r     |▏                               | 3.9 MB 19.6 MB/s eta 0:00:30\r     |▏                               | 3.9 MB 19.6 MB/s eta 0:00:30\r     |▏                               | 4.0 MB 19.6 MB/s eta 0:00:30\r     |▏                               | 4.0 MB 19.6 MB/s eta 0:00:30\r     |▏                               | 4.0 MB 19.6 MB/s eta 0:00:30\r     |▏                               | 4.0 MB 19.6 MB/s eta 0:00:30\r     |▏                               | 4.0 MB 19.6 MB/s eta 0:00:30\r     |▏                               | 4.0 MB 19.6 MB/s eta 0:00:30\r     |▏                               | 4.0 MB 19.6 MB/s eta 0:00:30\r     |▏                               | 4.0 MB 19.6 MB/s eta 0:00:30\r     |▏                               | 4.0 MB 19.6 MB/s eta 0:00:30\r     |▏                               | 4.0 MB 19.6 MB/s eta 0:00:30\r     |▏                               | 4.1 MB 19.6 MB/s eta 0:00:30\r     |▏                               | 4.1 MB 19.6 MB/s eta 0:00:30\r     |▏                               | 4.1 MB 19.6 MB/s eta 0:00:30\r     |▎                               | 4.1 MB 19.6 MB/s eta 0:00:30\r     |▎                               | 4.1 MB 19.6 MB/s eta 0:00:30\r     |▎                               | 4.1 MB 19.6 MB/s eta 0:00:30\r     |▎                               | 4.1 MB 19.6 MB/s eta 0:00:30\r     |▎                               | 4.1 MB 19.6 MB/s eta 0:00:30\r     |▎                               | 4.1 MB 19.6 MB/s eta 0:00:30\r     |▎                               | 4.1 MB 19.6 MB/s eta 0:00:30\r     |▎                               | 4.2 MB 19.6 MB/s eta 0:00:30\r     |▎                               | 4.2 MB 19.6 MB/s eta 0:00:30\r     |▎                               | 4.2 MB 19.6 MB/s eta 0:00:30\r     |▎                               | 4.2 MB 19.6 MB/s eta 0:00:30\r     |▎                               | 4.2 MB 19.6 MB/s eta 0:00:30\r     |▎                               | 4.2 MB 19.6 MB/s eta 0:00:30\r     |▎                               | 4.2 MB 19.6 MB/s eta 0:00:30\r     |▎                               | 4.2 MB 19.6 MB/s eta 0:00:30\r     |▎                               | 4.2 MB 19.6 MB/s eta 0:00:30\r     |▎                               | 4.2 MB 19.6 MB/s eta 0:00:30\r     |▎                               | 4.3 MB 19.6 MB/s eta 0:00:30\r     |▎                               | 4.3 MB 19.6 MB/s eta 0:00:30\r     |▎                               | 4.3 MB 19.6 MB/s eta 0:00:30\r     |▎                               | 4.3 MB 19.6 MB/s eta 0:00:30\r     |▎                               | 4.3 MB 19.6 MB/s eta 0:00:30\r     |▎                               | 4.3 MB 19.6 MB/s eta 0:00:30\r     |▎                               | 4.3 MB 19.6 MB/s eta 0:00:30\r     |▎                               | 4.3 MB 19.6 MB/s eta 0:00:30\r     |▎                               | 4.3 MB 19.6 MB/s eta 0:00:30\r     |▎                               | 4.4 MB 19.6 MB/s eta 0:00:30\r     |▎                               | 4.4 MB 19.6 MB/s eta 0:00:30\r     |▎                               | 4.4 MB 19.6 MB/s eta 0:00:30\r     |▎                               | 4.4 MB 19.6 MB/s eta 0:00:30\r     |▎                               | 4.4 MB 19.6 MB/s eta 0:00:30\r     |▎                               | 4.4 MB 19.6 MB/s eta 0:00:30\r     |▎                               | 4.4 MB 19.6 MB/s eta 0:00:30\r     |▎                               | 4.4 MB 19.6 MB/s eta 0:00:30\r     |▎                               | 4.4 MB 19.6 MB/s eta 0:00:30\r     |▎                               | 4.4 MB 19.6 MB/s eta 0:00:30\r     |▎                               | 4.5 MB 19.6 MB/s eta 0:00:30\r     |▎                               | 4.5 MB 19.6 MB/s eta 0:00:30\r     |▎                               | 4.5 MB 19.6 MB/s eta 0:00:30\r     |▎                               | 4.5 MB 19.6 MB/s eta 0:00:30\r     |▎                               | 4.5 MB 19.6 MB/s eta 0:00:30\r     |▎                               | 4.5 MB 19.6 MB/s eta 0:00:30\r     |▎                               | 4.5 MB 19.6 MB/s eta 0:00:30\r     |▎                               | 4.5 MB 19.6 MB/s eta 0:00:30\r     |▎                               | 4.5 MB 19.6 MB/s eta 0:00:30\r     |▎                               | 4.5 MB 19.6 MB/s eta 0:00:30\r     |▎                               | 4.6 MB 19.6 MB/s eta 0:00:30\r     |▎                               | 4.6 MB 19.6 MB/s eta 0:00:30\r     |▎                               | 4.6 MB 19.6 MB/s eta 0:00:30\r     |▎                               | 4.6 MB 19.6 MB/s eta 0:00:30\r     |▎                               | 4.6 MB 19.6 MB/s eta 0:00:30\r     |▎                               | 4.6 MB 19.6 MB/s eta 0:00:30\r     |▎                               | 4.6 MB 19.6 MB/s eta 0:00:30\r     |▎                               | 4.6 MB 19.6 MB/s eta 0:00:30\r     |▎                               | 4.6 MB 19.6 MB/s eta 0:00:30\r     |▎                               | 4.6 MB 19.6 MB/s eta 0:00:30\r     |▎                               | 4.7 MB 19.6 MB/s eta 0:00:30\r     |▎                               | 4.7 MB 19.6 MB/s eta 0:00:30\r     |▎                               | 4.7 MB 19.6 MB/s eta 0:00:30\r     |▎                               | 4.7 MB 19.6 MB/s eta 0:00:30\r     |▎                               | 4.7 MB 19.6 MB/s eta 0:00:30\r     |▎                               | 4.7 MB 19.6 MB/s eta 0:00:30\r     |▎                               | 4.7 MB 19.6 MB/s eta 0:00:30\r     |▎                               | 4.7 MB 19.6 MB/s eta 0:00:30\r     |▎                               | 4.7 MB 19.6 MB/s eta 0:00:30\r     |▎                               | 4.8 MB 19.6 MB/s eta 0:00:30\r     |▎                               | 4.8 MB 19.6 MB/s eta 0:00:30\r     |▎                               | 4.8 MB 19.6 MB/s eta 0:00:30\r     |▎                               | 4.8 MB 19.6 MB/s eta 0:00:30\r     |▎                               | 4.8 MB 19.6 MB/s eta 0:00:30\r     |▎                               | 4.8 MB 19.6 MB/s eta 0:00:30\r     |▎                               | 4.8 MB 19.6 MB/s eta 0:00:30\r     |▎                               | 4.8 MB 19.6 MB/s eta 0:00:30\r     |▎                               | 4.8 MB 19.6 MB/s eta 0:00:30\r     |▎                               | 4.8 MB 19.6 MB/s eta 0:00:30\r     |▎                               | 4.9 MB 19.6 MB/s eta 0:00:30\r     |▎                               | 4.9 MB 19.6 MB/s eta 0:00:30\r     |▎                               | 4.9 MB 19.6 MB/s eta 0:00:30\r     |▎                               | 4.9 MB 19.6 MB/s eta 0:00:30\r     |▎                               | 4.9 MB 19.6 MB/s eta 0:00:30\r     |▎                               | 4.9 MB 19.6 MB/s eta 0:00:30\r     |▎                               | 4.9 MB 19.6 MB/s eta 0:00:30\r     |▎                               | 4.9 MB 19.6 MB/s eta 0:00:30\r     |▎                               | 4.9 MB 19.6 MB/s eta 0:00:30\r     |▎                               | 4.9 MB 19.6 MB/s eta 0:00:30\r     |▎                               | 5.0 MB 19.6 MB/s eta 0:00:30\r     |▎                               | 5.0 MB 19.6 MB/s eta 0:00:30\r     |▎                               | 5.0 MB 19.6 MB/s eta 0:00:30\r     |▎                               | 5.0 MB 19.6 MB/s eta 0:00:30\r     |▎                               | 5.0 MB 19.6 MB/s eta 0:00:30\r     |▎                               | 5.0 MB 19.6 MB/s eta 0:00:30\r     |▎                               | 5.0 MB 19.6 MB/s eta 0:00:30\r     |▎                               | 5.0 MB 19.6 MB/s eta 0:00:30\r     |▎                               | 5.0 MB 19.6 MB/s eta 0:00:30\r     |▎                               | 5.0 MB 19.6 MB/s eta 0:00:30\r     |▎                               | 5.1 MB 19.6 MB/s eta 0:00:30\r     |▎                               | 5.1 MB 19.6 MB/s eta 0:00:30\r     |▎                               | 5.1 MB 19.6 MB/s eta 0:00:30\r     |▎                               | 5.1 MB 19.6 MB/s eta 0:00:30\r     |▎                               | 5.1 MB 19.6 MB/s eta 0:00:30\r     |▎                               | 5.1 MB 19.6 MB/s eta 0:00:30\r     |▎                               | 5.1 MB 19.6 MB/s eta 0:00:30\r     |▎                               | 5.1 MB 19.6 MB/s eta 0:00:30\r     |▎                               | 5.1 MB 19.6 MB/s eta 0:00:30\r     |▎                               | 5.2 MB 19.6 MB/s eta 0:00:30\r     |▎                               | 5.2 MB 19.6 MB/s eta 0:00:30\r     |▎                               | 5.2 MB 19.6 MB/s eta 0:00:30\r     |▎                               | 5.2 MB 19.6 MB/s eta 0:00:30\r     |▎                               | 5.2 MB 19.6 MB/s eta 0:00:30\r     |▎                               | 5.2 MB 19.6 MB/s eta 0:00:30\r     |▎                               | 5.2 MB 19.6 MB/s eta 0:00:30\r     |▎                               | 5.2 MB 19.6 MB/s eta 0:00:30\r     |▎                               | 5.2 MB 19.6 MB/s eta 0:00:30\r     |▎                               | 5.2 MB 19.6 MB/s eta 0:00:30\r     |▎                               | 5.3 MB 19.6 MB/s eta 0:00:30\r     |▎                               | 5.3 MB 19.6 MB/s eta 0:00:30\r     |▎                               | 5.3 MB 19.6 MB/s eta 0:00:30\r     |▎                               | 5.3 MB 19.6 MB/s eta 0:00:30\r     |▎                               | 5.3 MB 19.6 MB/s eta 0:00:30\r     |▎                               | 5.3 MB 19.6 MB/s eta 0:00:30\r     |▎                               | 5.3 MB 19.6 MB/s eta 0:00:30\r     |▎                               | 5.3 MB 19.6 MB/s eta 0:00:30\r     |▎                               | 5.3 MB 19.6 MB/s eta 0:00:30\r     |▎                               | 5.3 MB 19.6 MB/s eta 0:00:30\r     |▎                               | 5.4 MB 19.6 MB/s eta 0:00:30\r     |▎                               | 5.4 MB 19.6 MB/s eta 0:00:30\r     |▎                               | 5.4 MB 19.6 MB/s eta 0:00:30\r     |▎                               | 5.4 MB 19.6 MB/s eta 0:00:30\r     |▎                               | 5.4 MB 19.6 MB/s eta 0:00:30\r     |▎                               | 5.4 MB 19.6 MB/s eta 0:00:30\r     |▎                               | 5.4 MB 19.6 MB/s eta 0:00:30\r     |▎                               | 5.4 MB 19.6 MB/s eta 0:00:30\r     |▎                               | 5.4 MB 19.6 MB/s eta 0:00:30\r     |▎                               | 5.4 MB 19.6 MB/s eta 0:00:30\r     |▎                               | 5.5 MB 19.6 MB/s eta 0:00:30\r     |▎                               | 5.5 MB 19.6 MB/s eta 0:00:30\r     |▎                               | 5.5 MB 19.6 MB/s eta 0:00:30\r     |▎                               | 5.5 MB 19.6 MB/s eta 0:00:30\r     |▎                               | 5.5 MB 19.6 MB/s eta 0:00:30\r     |▎                               | 5.5 MB 19.6 MB/s eta 0:00:30\r     |▎                               | 5.5 MB 19.6 MB/s eta 0:00:30\r     |▎                               | 5.5 MB 19.6 MB/s eta 0:00:30\r     |▎                               | 5.5 MB 19.6 MB/s eta 0:00:30\r     |▎                               | 5.6 MB 19.6 MB/s eta 0:00:30\r     |▎                               | 5.6 MB 19.6 MB/s eta 0:00:30\r     |▎                               | 5.6 MB 19.6 MB/s eta 0:00:30\r     |▎                               | 5.6 MB 19.6 MB/s eta 0:00:30\r     |▎                               | 5.6 MB 19.6 MB/s eta 0:00:30\r     |▎                               | 5.6 MB 19.6 MB/s eta 0:00:30\r     |▎                               | 5.6 MB 19.6 MB/s eta 0:00:30\r     |▎                               | 5.6 MB 19.6 MB/s eta 0:00:30\r     |▎                               | 5.6 MB 19.6 MB/s eta 0:00:30\r     |▎                               | 5.6 MB 19.6 MB/s eta 0:00:30\r     |▎                               | 5.7 MB 19.6 MB/s eta 0:00:30\r     |▎                               | 5.7 MB 19.6 MB/s eta 0:00:30\r     |▎                               | 5.7 MB 19.6 MB/s eta 0:00:30\r     |▎                               | 5.7 MB 19.6 MB/s eta 0:00:30\r     |▎                               | 5.7 MB 19.6 MB/s eta 0:00:30\r     |▎                               | 5.7 MB 19.6 MB/s eta 0:00:30\r     |▎                               | 5.7 MB 19.6 MB/s eta 0:00:30\r     |▎                               | 5.7 MB 19.6 MB/s eta 0:00:30\r     |▎                               | 5.7 MB 19.6 MB/s eta 0:00:30\r     |▎                               | 5.7 MB 19.6 MB/s eta 0:00:30\r     |▎                               | 5.8 MB 19.6 MB/s eta 0:00:30\r     |▎                               | 5.8 MB 19.6 MB/s eta 0:00:30\r     |▎                               | 5.8 MB 19.6 MB/s eta 0:00:30\r     |▎                               | 5.8 MB 19.6 MB/s eta 0:00:30\r     |▎                               | 5.8 MB 19.6 MB/s eta 0:00:30\r     |▎                               | 5.8 MB 19.6 MB/s eta 0:00:30\r     |▎                               | 5.8 MB 19.6 MB/s eta 0:00:30\r     |▎                               | 5.8 MB 19.6 MB/s eta 0:00:30\r     |▎                               | 5.8 MB 19.6 MB/s eta 0:00:30\r     |▎                               | 5.8 MB 19.6 MB/s eta 0:00:30\r     |▎                               | 5.9 MB 19.6 MB/s eta 0:00:30\r     |▎                               | 5.9 MB 19.6 MB/s eta 0:00:30\r     |▎                               | 5.9 MB 19.6 MB/s eta 0:00:30\r     |▎                               | 5.9 MB 19.6 MB/s eta 0:00:30\r     |▎                               | 5.9 MB 19.6 MB/s eta 0:00:30\r     |▎                               | 5.9 MB 19.6 MB/s eta 0:00:30\r     |▎                               | 5.9 MB 19.6 MB/s eta 0:00:30\r     |▎                               | 5.9 MB 19.6 MB/s eta 0:00:30\r     |▎                               | 5.9 MB 19.6 MB/s eta 0:00:30\r     |▎                               | 5.9 MB 19.6 MB/s eta 0:00:30\r     |▎                               | 6.0 MB 19.6 MB/s eta 0:00:30\r     |▎                               | 6.0 MB 19.6 MB/s eta 0:00:30\r     |▎                               | 6.0 MB 19.6 MB/s eta 0:00:30\r     |▎                               | 6.0 MB 19.6 MB/s eta 0:00:30\r     |▎                               | 6.0 MB 19.6 MB/s eta 0:00:30\r     |▎                               | 6.0 MB 19.6 MB/s eta 0:00:30\r     |▎                               | 6.0 MB 19.6 MB/s eta 0:00:30\r     |▎                               | 6.0 MB 19.6 MB/s eta 0:00:30\r     |▎                               | 6.0 MB 19.6 MB/s eta 0:00:30\r     |▎                               | 6.1 MB 19.6 MB/s eta 0:00:30\r     |▎                               | 6.1 MB 19.6 MB/s eta 0:00:30\r     |▎                               | 6.1 MB 19.6 MB/s eta 0:00:30\r     |▎                               | 6.1 MB 19.6 MB/s eta 0:00:30\r     |▎                               | 6.1 MB 19.6 MB/s eta 0:00:30\r     |▎                               | 6.1 MB 19.6 MB/s eta 0:00:30\r     |▎                               | 6.1 MB 19.6 MB/s eta 0:00:30\r     |▎                               | 6.1 MB 19.6 MB/s eta 0:00:30\r     |▍                               | 6.1 MB 19.6 MB/s eta 0:00:30\r     |▍                               | 6.1 MB 19.6 MB/s eta 0:00:30\r     |▍                               | 6.2 MB 19.6 MB/s eta 0:00:30\r     |▍                               | 6.2 MB 19.6 MB/s eta 0:00:30\r     |▍                               | 6.2 MB 19.6 MB/s eta 0:00:30\r     |▍                               | 6.2 MB 19.6 MB/s eta 0:00:30\r     |▍                               | 6.2 MB 19.6 MB/s eta 0:00:30\r     |▍                               | 6.2 MB 19.6 MB/s eta 0:00:30\r     |▍                               | 6.2 MB 19.6 MB/s eta 0:00:30\r     |▍                               | 6.2 MB 19.6 MB/s eta 0:00:30\r     |▍                               | 6.2 MB 19.6 MB/s eta 0:00:30\r     |▍                               | 6.2 MB 19.6 MB/s eta 0:00:30\r     |▍                               | 6.3 MB 19.6 MB/s eta 0:00:30\r     |▍                               | 6.3 MB 19.6 MB/s eta 0:00:30\r     |▍                               | 6.3 MB 19.6 MB/s eta 0:00:30\r     |▍                               | 6.3 MB 19.6 MB/s eta 0:00:30\r     |▍                               | 6.3 MB 19.6 MB/s eta 0:00:30\r     |▍                               | 6.3 MB 19.6 MB/s eta 0:00:30\r     |▍                               | 6.3 MB 19.6 MB/s eta 0:00:30\r     |▍                               | 6.3 MB 19.6 MB/s eta 0:00:30\r     |▍                               | 6.3 MB 19.6 MB/s eta 0:00:30\r     |▍                               | 6.3 MB 19.6 MB/s eta 0:00:30\r     |▍                               | 6.4 MB 19.6 MB/s eta 0:00:30\r     |▍                               | 6.4 MB 19.6 MB/s eta 0:00:30\r     |▍                               | 6.4 MB 19.6 MB/s eta 0:00:30\r     |▍                               | 6.4 MB 19.6 MB/s eta 0:00:30\r     |▍                               | 6.4 MB 19.6 MB/s eta 0:00:30\r     |▍                               | 6.4 MB 19.6 MB/s eta 0:00:30\r     |▍                               | 6.4 MB 19.6 MB/s eta 0:00:30\r     |▍                               | 6.4 MB 19.6 MB/s eta 0:00:30\r     |▍                               | 6.4 MB 19.6 MB/s eta 0:00:30\r     |▍                               | 6.5 MB 19.6 MB/s eta 0:00:30\r     |▍                               | 6.5 MB 19.6 MB/s eta 0:00:30\r     |▍                               | 6.5 MB 19.6 MB/s eta 0:00:30\r     |▍                               | 6.5 MB 19.6 MB/s eta 0:00:30\r     |▍                               | 6.5 MB 19.6 MB/s eta 0:00:30\r     |▍                               | 6.5 MB 19.6 MB/s eta 0:00:30\r     |▍                               | 6.5 MB 19.6 MB/s eta 0:00:30\r     |▍                               | 6.5 MB 19.6 MB/s eta 0:00:30\r     |▍                               | 6.5 MB 19.6 MB/s eta 0:00:30\r     |▍                               | 6.5 MB 19.6 MB/s eta 0:00:30\r     |▍                               | 6.6 MB 19.6 MB/s eta 0:00:30\r     |▍                               | 6.6 MB 19.6 MB/s eta 0:00:30\r     |▍                               | 6.6 MB 19.6 MB/s eta 0:00:30\r     |▍                               | 6.6 MB 19.6 MB/s eta 0:00:30\r     |▍                               | 6.6 MB 19.6 MB/s eta 0:00:30\r     |▍                               | 6.6 MB 19.6 MB/s eta 0:00:30\r     |▍                               | 6.6 MB 19.6 MB/s eta 0:00:30\r     |▍                               | 6.6 MB 19.6 MB/s eta 0:00:30\r     |▍                               | 6.6 MB 19.6 MB/s eta 0:00:30\r     |▍                               | 6.6 MB 19.6 MB/s eta 0:00:30\r     |▍                               | 6.7 MB 19.6 MB/s eta 0:00:30\r     |▍                               | 6.7 MB 19.6 MB/s eta 0:00:30\r     |▍                               | 6.7 MB 19.6 MB/s eta 0:00:30\r     |▍                               | 6.7 MB 19.6 MB/s eta 0:00:30\r     |▍                               | 6.7 MB 19.6 MB/s eta 0:00:30\r     |▍                               | 6.7 MB 19.6 MB/s eta 0:00:30\r     |▍                               | \n*** WARNING: skipped 4590017 bytes of output ***\n\nCollecting isodate&gt;=0.6.1\r\n  Downloading isodate-0.6.1-py2.py3-none-any.whl (41 kB)\r\n\r     |███████▉                        | 10 kB 30.6 MB/s eta 0:00:01\r     |███████████████▊                | 20 kB 40.0 MB/s eta 0:00:01\r     |███████████████████████▋        | 30 kB 50.4 MB/s eta 0:00:01\r     |███████████████████████████████▍| 40 kB 57.2 MB/s eta 0:00:01\r     |████████████████████████████████| 41 kB 333 kB/s \r\nCollecting azure-core&lt;2.0.0,&gt;=1.28.0\r\n  Downloading azure_core-1.28.0-py3-none-any.whl (185 kB)\r\n\r     |█▊                              | 10 kB 29.9 MB/s eta 0:00:01\r     |███▌                            | 20 kB 33.5 MB/s eta 0:00:01\r     |█████▎                          | 30 kB 42.4 MB/s eta 0:00:01\r     |███████                         | 40 kB 49.5 MB/s eta 0:00:01\r     |████████▉                       | 51 kB 54.7 MB/s eta 0:00:01\r     |██████████▋                     | 61 kB 60.5 MB/s eta 0:00:01\r     |████████████▍                   | 71 kB 64.7 MB/s eta 0:00:01\r     |██████████████▏                 | 81 kB 69.4 MB/s eta 0:00:01\r     |████████████████                | 92 kB 72.2 MB/s eta 0:00:01\r     |█████████████████▊              | 102 kB 74.8 MB/s eta 0:00:01\r     |███████████████████▍            | 112 kB 74.8 MB/s eta 0:00:01\r     |█████████████████████▏          | 122 kB 74.8 MB/s eta 0:00:01\r     |███████████████████████         | 133 kB 74.8 MB/s eta 0:00:01\r     |████████████████████████▊       | 143 kB 74.8 MB/s eta 0:00:01\r     |██████████████████████████▌     | 153 kB 74.8 MB/s eta 0:00:01\r     |████████████████████████████▎   | 163 kB 74.8 MB/s eta 0:00:01\r     |██████████████████████████████  | 174 kB 74.8 MB/s eta 0:00:01\r     |███████████████████████████████▉| 184 kB 74.8 MB/s eta 0:00:01\r     |████████████████████████████████| 185 kB 74.8 MB/s \r\nRequirement already satisfied: requests&gt;=2.18.4 in /databricks/python3/lib/python3.8/site-packages (from azure-core&lt;2.0.0,&gt;=1.28.0-&gt;azure-storage-blob) (2.25.1)\r\nRequirement already satisfied: six&gt;=1.11.0 in /databricks/python3/lib/python3.8/site-packages (from azure-core&lt;2.0.0,&gt;=1.28.0-&gt;azure-storage-blob) (1.15.0)\r\nRequirement already satisfied: cffi&gt;=1.12 in /databricks/python3/lib/python3.8/site-packages (from cryptography&gt;=2.1.4-&gt;azure-storage-blob) (1.14.5)\r\nRequirement already satisfied: pycparser in /databricks/python3/lib/python3.8/site-packages (from cffi&gt;=1.12-&gt;cryptography&gt;=2.1.4-&gt;azure-storage-blob) (2.20)\r\nRequirement already satisfied: urllib3&lt;1.27,&gt;=1.21.1 in /databricks/python3/lib/python3.8/site-packages (from requests&gt;=2.18.4-&gt;azure-core&lt;2.0.0,&gt;=1.28.0-&gt;azure-storage-blob) (1.25.11)\r\nRequirement already satisfied: certifi&gt;=2017.4.17 in /databricks/python3/lib/python3.8/site-packages (from requests&gt;=2.18.4-&gt;azure-core&lt;2.0.0,&gt;=1.28.0-&gt;azure-storage-blob) (2020.12.5)\r\nRequirement already satisfied: chardet&lt;5,&gt;=3.0.2 in /databricks/python3/lib/python3.8/site-packages (from requests&gt;=2.18.4-&gt;azure-core&lt;2.0.0,&gt;=1.28.0-&gt;azure-storage-blob) (4.0.0)\r\nRequirement already satisfied: idna&lt;3,&gt;=2.5 in /databricks/python3/lib/python3.8/site-packages (from requests&gt;=2.18.4-&gt;azure-core&lt;2.0.0,&gt;=1.28.0-&gt;azure-storage-blob) (2.10)\r\nInstalling collected packages: isodate, cryptography, azure-core, azure-storage-blob\r\nSuccessfully installed azure-core-1.28.0 azure-storage-blob-12.17.0 cryptography-41.0.2 isodate-0.6.1\r\n<span class=\"ansi-yellow-fg\">WARNING: You are using pip version 21.0.1; however, version 23.2.1 is available.\r\nYou should consider upgrading via the &#39;/databricks/python3/bin/python -m pip install --upgrade pip&#39; command.</span>\r\n</div>",
       "datasetInfos": [],
       "metadata": {},
       "removedWidgets": [],
       "type": "html"
      }
     },
     "output_type": "display_data"
    }
   ],
   "source": [
    "# # COMMAND ----------\n",
    "\n",
    "!pip install joblib==1.2.0\n",
    "!pip install tensorflow==2.11.0\n",
    "!pip install azure-storage-blob\n"
   ]
  },
  {
   "cell_type": "markdown",
   "metadata": {
    "application/vnd.databricks.v1+cell": {
     "cellMetadata": {
      "byteLimit": 2048000,
      "rowLimit": 10000
     },
     "inputWidgets": {},
     "nuid": "85719312-b5e6-435e-a97b-84c94420688c",
     "showTitle": false,
     "title": ""
    }
   },
   "source": [
    "## Load model"
   ]
  },
  {
   "cell_type": "code",
   "execution_count": 0,
   "metadata": {
    "application/vnd.databricks.v1+cell": {
     "cellMetadata": {
      "byteLimit": 2048000,
      "rowLimit": 10000
     },
     "inputWidgets": {},
     "nuid": "7c774f9a-ed24-4b33-acd6-bde029492e3f",
     "showTitle": false,
     "title": ""
    }
   },
   "outputs": [
    {
     "output_type": "display_data",
     "data": {
      "text/html": [
       "<style scoped>\n",
       "  .ansiout {\n",
       "    display: block;\n",
       "    unicode-bidi: embed;\n",
       "    white-space: pre-wrap;\n",
       "    word-wrap: break-word;\n",
       "    word-break: break-all;\n",
       "    font-family: \"Source Code Pro\", \"Menlo\", monospace;;\n",
       "    font-size: 13px;\n",
       "    color: #555;\n",
       "    margin-left: 4px;\n",
       "    line-height: 19px;\n",
       "  }\n",
       "</style>\n",
       "<div class=\"ansiout\">Out[9]: True</div>"
      ]
     },
     "metadata": {
      "application/vnd.databricks.v1+output": {
       "addedWidgets": {},
       "arguments": {},
       "data": "<div class=\"ansiout\">Out[9]: True</div>",
       "datasetInfos": [],
       "metadata": {},
       "removedWidgets": [],
       "type": "html"
      }
     },
     "output_type": "display_data"
    }
   ],
   "source": [
    "import joblib\n",
    "from keras.models import load_model\n",
    "dbutils.fs.cp(\"dbfs:/FileStore/shared_uploads/sfazuretest@gmail.com/scale.pkl\", \"file:/tmp/scale-2.pkl\")\n",
    "dbutils.fs.cp(\"dbfs:/FileStore/shared_uploads/sfazuretest@gmail.com/network.h5\", \"file:/tmp/network-2.h5\")\n"
   ]
  },
  {
   "cell_type": "code",
   "execution_count": 0,
   "metadata": {
    "application/vnd.databricks.v1+cell": {
     "cellMetadata": {
      "byteLimit": 2048000,
      "rowLimit": 10000
     },
     "inputWidgets": {},
     "nuid": "591e9085-7d91-4fa7-9e89-4447f3cc7a3e",
     "showTitle": false,
     "title": ""
    }
   },
   "outputs": [
    {
     "output_type": "display_data",
     "data": {
      "text/html": [
       "<style scoped>\n",
       "  .ansiout {\n",
       "    display: block;\n",
       "    unicode-bidi: embed;\n",
       "    white-space: pre-wrap;\n",
       "    word-wrap: break-word;\n",
       "    word-break: break-all;\n",
       "    font-family: \"Source Code Pro\", \"Menlo\", monospace;;\n",
       "    font-size: 13px;\n",
       "    color: #555;\n",
       "    margin-left: 4px;\n",
       "    line-height: 19px;\n",
       "  }\n",
       "</style>\n",
       "<div class=\"ansiout\">/databricks/python/lib/python3.8/site-packages/sklearn/base.py:310: UserWarning: Trying to unpickle estimator StandardScaler from version 1.0.2 when using version 0.24.1. This might lead to breaking code or invalid results. Use at your own risk.\n",
       "  warnings.warn(\n",
       "</div>"
      ]
     },
     "metadata": {
      "application/vnd.databricks.v1+output": {
       "addedWidgets": {},
       "arguments": {},
       "data": "<div class=\"ansiout\">/databricks/python/lib/python3.8/site-packages/sklearn/base.py:310: UserWarning: Trying to unpickle estimator StandardScaler from version 1.0.2 when using version 0.24.1. This might lead to breaking code or invalid results. Use at your own risk.\n  warnings.warn(\n</div>",
       "datasetInfos": [],
       "metadata": {},
       "removedWidgets": [],
       "type": "html"
      }
     },
     "output_type": "display_data"
    }
   ],
   "source": [
    "\n",
    "def load_model_resource():\n",
    "    # Đọc model nếu chưa được đọc\n",
    "    ann_model_process = load_model(\"/tmp/network-2.h5\")\n",
    "\n",
    "    scale = joblib.load(\"/tmp/scale-2.pkl\")\n",
    "    return scale,ann_model_process\n",
    "scale,ann_model_process = load_model_resource()\n"
   ]
  },
  {
   "cell_type": "markdown",
   "metadata": {
    "application/vnd.databricks.v1+cell": {
     "cellMetadata": {
      "byteLimit": 2048000,
      "rowLimit": 10000
     },
     "inputWidgets": {},
     "nuid": "bcd55bd9-4a30-4a66-ae8f-58728dee7500",
     "showTitle": false,
     "title": ""
    }
   },
   "source": [
    "#Create delta lake"
   ]
  },
  {
   "cell_type": "code",
   "execution_count": 0,
   "metadata": {
    "application/vnd.databricks.v1+cell": {
     "cellMetadata": {
      "byteLimit": 2048000,
      "rowLimit": 10000
     },
     "inputWidgets": {},
     "nuid": "622a78c0-ce25-4f66-bbf9-b794b7d2f66e",
     "showTitle": false,
     "title": ""
    }
   },
   "outputs": [],
   "source": []
  },
  {
   "cell_type": "code",
   "execution_count": 0,
   "metadata": {
    "application/vnd.databricks.v1+cell": {
     "cellMetadata": {
      "byteLimit": 2048000,
      "rowLimit": 10000
     },
     "inputWidgets": {},
     "nuid": "01038011-52e6-42f0-a88f-95a17eed749b",
     "showTitle": false,
     "title": ""
    }
   },
   "outputs": [
    {
     "output_type": "display_data",
     "data": {
      "text/html": [
       "<style scoped>\n",
       "  .ansiout {\n",
       "    display: block;\n",
       "    unicode-bidi: embed;\n",
       "    white-space: pre-wrap;\n",
       "    word-wrap: break-word;\n",
       "    word-break: break-all;\n",
       "    font-family: \"Source Code Pro\", \"Menlo\", monospace;;\n",
       "    font-size: 13px;\n",
       "    color: #555;\n",
       "    margin-left: 4px;\n",
       "    line-height: 19px;\n",
       "  }\n",
       "</style>\n",
       "<div class=\"ansiout\"></div>"
      ]
     },
     "metadata": {
      "application/vnd.databricks.v1+output": {
       "addedWidgets": {},
       "arguments": {},
       "data": "<div class=\"ansiout\"></div>",
       "datasetInfos": [],
       "metadata": {},
       "removedWidgets": [],
       "type": "html"
      }
     },
     "output_type": "display_data"
    }
   ],
   "source": [
    "def createDeltaTable(database_name,table_name, table_schema, table_location):\n",
    "    df = spark.createDataFrame(spark.sparkContext.emptyRDD(), table_schema)\n",
    "    df.printSchema()\n",
    "\n",
    "    #create the underlying storage\n",
    "    try:\n",
    "        df.write.format(\"delta\").option(\"delta.columnMapping.mode\", \"name\")\\\n",
    "                         .option(\"path\", table_location).saveAsTable(table_name)\n",
    "    except:\n",
    "        #Drop if exist\n",
    "        spark.sql(f'DROP TABLE IF EXISTS {database_name}.{table_name} ')\n",
    "        spark.sql(f'DROP DATABASE IF EXISTS {database_name} CASCADE')\n",
    "        spark.sql(f'CREATE DATABASE {database_name}')\n",
    "        #re create table\n",
    "        spark.sql(f\"CREATE TABLE {database_name}.{table_name} USING DELTA LOCATION '{table_location}'\")\n",
    "        #verify that everything work\n",
    "        emptyDF = spark.sql(f'SELECT * FROM {database_name}.{table_name}')\n",
    "        display(emptyDF)\n",
    "        #list detail of table\n",
    "        describe_df = spark.sql(f\"DESCRIBE {database_name}.{table_name}\")\n",
    "        display(describe_df)"
   ]
  },
  {
   "cell_type": "code",
   "execution_count": 0,
   "metadata": {
    "application/vnd.databricks.v1+cell": {
     "cellMetadata": {
      "byteLimit": 2048000,
      "rowLimit": 10000
     },
     "inputWidgets": {},
     "nuid": "b854f903-6d44-42b3-aa9c-4d5bf331d136",
     "showTitle": false,
     "title": ""
    }
   },
   "outputs": [
    {
     "output_type": "display_data",
     "data": {
      "text/html": [
       "<style scoped>\n",
       "  .ansiout {\n",
       "    display: block;\n",
       "    unicode-bidi: embed;\n",
       "    white-space: pre-wrap;\n",
       "    word-wrap: break-word;\n",
       "    word-break: break-all;\n",
       "    font-family: \"Source Code Pro\", \"Menlo\", monospace;;\n",
       "    font-size: 13px;\n",
       "    color: #555;\n",
       "    margin-left: 4px;\n",
       "    line-height: 19px;\n",
       "  }\n",
       "</style>\n",
       "<div class=\"ansiout\">root\n",
       "-- Time (h): timestamp (nullable = true)\n",
       "-- Sugar mass flow: double (nullable = true)\n",
       "-- Water for injection/dilution(Fw:L/h): double (nullable = true)\n",
       "-- pH(pH:pH): double (nullable = true)\n",
       "-- Temperature(T:K): double (nullable = true)\n",
       "-- Dissolved oxygen concentration(DO2:mg/L): double (nullable = true)\n",
       "-- Vessel Volume(V:L): double (nullable = true)\n",
       "-- Temp: double (nullable = true)\n",
       "-- Predict: double (nullable = true)\n",
       "\n",
       "</div>"
      ]
     },
     "metadata": {
      "application/vnd.databricks.v1+output": {
       "addedWidgets": {},
       "arguments": {},
       "data": "<div class=\"ansiout\">root\n |-- Time (h): timestamp (nullable = true)\n |-- Sugar mass flow: double (nullable = true)\n |-- Water for injection/dilution(Fw:L/h): double (nullable = true)\n |-- pH(pH:pH): double (nullable = true)\n |-- Temperature(T:K): double (nullable = true)\n |-- Dissolved oxygen concentration(DO2:mg/L): double (nullable = true)\n |-- Vessel Volume(V:L): double (nullable = true)\n |-- Temp: double (nullable = true)\n |-- Predict: double (nullable = true)\n\n</div>",
       "datasetInfos": [],
       "metadata": {},
       "removedWidgets": [],
       "type": "html"
      }
     },
     "output_type": "display_data"
    },
    {
     "output_type": "display_data",
     "data": {
      "text/html": [
       "<style scoped>\n",
       "  .table-result-container {\n",
       "    max-height: 300px;\n",
       "    overflow: auto;\n",
       "  }\n",
       "  table, th, td {\n",
       "    border: 1px solid black;\n",
       "    border-collapse: collapse;\n",
       "  }\n",
       "  th, td {\n",
       "    padding: 5px;\n",
       "  }\n",
       "  th {\n",
       "    text-align: left;\n",
       "  }\n",
       "</style><div class='table-result-container'><table class='table-result'><thead style='background-color: white'><tr><th>Time (h)</th><th>Sugar mass flow</th><th>Water for injection/dilution(Fw:L/h)</th><th>pH(pH:pH)</th><th>Temperature(T:K)</th><th>Dissolved oxygen concentration(DO2:mg/L)</th><th>Vessel Volume(V:L)</th><th>Temp</th><th>Predict</th></tr></thead><tbody><tr><td>2023-07-28T23:21:29.000+0000</td><td>0.40568296487328526</td><td>253.0</td><td>5.142756158733616</td><td>296.0</td><td>13.87591373591667</td><td>73408.0</td><td>296.0</td><td>35.18834686279297</td></tr><tr><td>2023-07-28T23:21:29.000+0000</td><td>0.40568296487328526</td><td>253.0</td><td>5.142756158733616</td><td>296.0</td><td>13.87591373591667</td><td>73408.0</td><td>296.0</td><td>30.545326232910156</td></tr><tr><td>2023-07-28T23:21:29.000+0000</td><td>0.40568296487328526</td><td>253.0</td><td>5.142756158733616</td><td>296.0</td><td>13.87591373591667</td><td>73408.0</td><td>296.0</td><td>35.404991149902344</td></tr><tr><td>2023-07-28T23:21:29.000+0000</td><td>0.40568296487328526</td><td>253.0</td><td>5.142756158733616</td><td>296.0</td><td>13.87591373591667</td><td>73408.0</td><td>296.0</td><td>27.93621253967285</td></tr><tr><td>2023-07-28T23:21:31.000+0000</td><td>0.4399079241242732</td><td>254.0</td><td>5.142295682186881</td><td>299.0</td><td>13.76150272929197</td><td>69861.0</td><td>299.0</td><td>35.18834686279297</td></tr><tr><td>2023-07-28T23:21:31.000+0000</td><td>0.4399079241242732</td><td>254.0</td><td>5.142295682186881</td><td>299.0</td><td>13.76150272929197</td><td>69861.0</td><td>299.0</td><td>30.545326232910156</td></tr><tr><td>2023-07-28T23:21:31.000+0000</td><td>0.4399079241242732</td><td>254.0</td><td>5.142295682186881</td><td>299.0</td><td>13.76150272929197</td><td>69861.0</td><td>299.0</td><td>35.404991149902344</td></tr><tr><td>2023-07-28T23:21:31.000+0000</td><td>0.4399079241242732</td><td>254.0</td><td>5.142295682186881</td><td>299.0</td><td>13.76150272929197</td><td>69861.0</td><td>299.0</td><td>27.93621253967285</td></tr><tr><td>2023-07-28T23:21:33.000+0000</td><td>0.3956748537471171</td><td>257.0</td><td>5.547607885846936</td><td>295.0</td><td>13.224229487358535</td><td>65720.0</td><td>295.0</td><td>35.18834686279297</td></tr><tr><td>2023-07-28T23:21:33.000+0000</td><td>0.3956748537471171</td><td>257.0</td><td>5.547607885846936</td><td>295.0</td><td>13.224229487358535</td><td>65720.0</td><td>295.0</td><td>30.545326232910156</td></tr><tr><td>2023-07-28T23:21:33.000+0000</td><td>0.3956748537471171</td><td>257.0</td><td>5.547607885846936</td><td>295.0</td><td>13.224229487358535</td><td>65720.0</td><td>295.0</td><td>35.404991149902344</td></tr><tr><td>2023-07-28T23:21:33.000+0000</td><td>0.3956748537471171</td><td>257.0</td><td>5.547607885846936</td><td>295.0</td><td>13.224229487358535</td><td>65720.0</td><td>295.0</td><td>27.93621253967285</td></tr><tr><td>2023-07-28T23:21:35.000+0000</td><td>0.5145377274511094</td><td>256.0</td><td>5.458146210078821</td><td>295.0</td><td>13.265032260775834</td><td>72222.0</td><td>295.0</td><td>35.18834686279297</td></tr><tr><td>2023-07-28T23:21:35.000+0000</td><td>0.5145377274511094</td><td>256.0</td><td>5.458146210078821</td><td>295.0</td><td>13.265032260775834</td><td>72222.0</td><td>295.0</td><td>30.545326232910156</td></tr><tr><td>2023-07-28T23:21:35.000+0000</td><td>0.5145377274511094</td><td>256.0</td><td>5.458146210078821</td><td>295.0</td><td>13.265032260775834</td><td>72222.0</td><td>295.0</td><td>35.404991149902344</td></tr><tr><td>2023-07-28T23:21:35.000+0000</td><td>0.5145377274511094</td><td>256.0</td><td>5.458146210078821</td><td>295.0</td><td>13.265032260775834</td><td>72222.0</td><td>295.0</td><td>27.93621253967285</td></tr><tr><td>2023-07-28T23:21:37.000+0000</td><td>0.37169616146286666</td><td>253.0</td><td>5.349713672043689</td><td>298.0</td><td>13.97581253602539</td><td>73316.0</td><td>298.0</td><td>35.18834686279297</td></tr><tr><td>2023-07-28T23:21:37.000+0000</td><td>0.37169616146286666</td><td>253.0</td><td>5.349713672043689</td><td>298.0</td><td>13.97581253602539</td><td>73316.0</td><td>298.0</td><td>30.545326232910156</td></tr><tr><td>2023-07-28T23:21:37.000+0000</td><td>0.37169616146286666</td><td>253.0</td><td>5.349713672043689</td><td>298.0</td><td>13.97581253602539</td><td>73316.0</td><td>298.0</td><td>35.404991149902344</td></tr><tr><td>2023-07-28T23:21:37.000+0000</td><td>0.37169616146286666</td><td>253.0</td><td>5.349713672043689</td><td>298.0</td><td>13.97581253602539</td><td>73316.0</td><td>298.0</td><td>27.93621253967285</td></tr><tr><td>2023-07-28T23:21:39.000+0000</td><td>0.40108884286847857</td><td>256.0</td><td>5.450392113351348</td><td>297.0</td><td>13.315434295806872</td><td>73246.0</td><td>297.0</td><td>35.18834686279297</td></tr><tr><td>2023-07-28T23:21:39.000+0000</td><td>0.40108884286847857</td><td>256.0</td><td>5.450392113351348</td><td>297.0</td><td>13.315434295806872</td><td>73246.0</td><td>297.0</td><td>30.545326232910156</td></tr><tr><td>2023-07-28T23:21:39.000+0000</td><td>0.40108884286847857</td><td>256.0</td><td>5.450392113351348</td><td>297.0</td><td>13.315434295806872</td><td>73246.0</td><td>297.0</td><td>35.404991149902344</td></tr><tr><td>2023-07-28T23:21:39.000+0000</td><td>0.40108884286847857</td><td>256.0</td><td>5.450392113351348</td><td>297.0</td><td>13.315434295806872</td><td>73246.0</td><td>297.0</td><td>27.93621253967285</td></tr><tr><td>2023-07-28T23:21:41.000+0000</td><td>0.37829118369264353</td><td>257.0</td><td>5.94005177565741</td><td>296.0</td><td>13.106208185381858</td><td>66079.0</td><td>296.0</td><td>35.18834686279297</td></tr><tr><td>2023-07-28T23:21:41.000+0000</td><td>0.37829118369264353</td><td>257.0</td><td>5.94005177565741</td><td>296.0</td><td>13.106208185381858</td><td>66079.0</td><td>296.0</td><td>30.545326232910156</td></tr><tr><td>2023-07-28T23:21:41.000+0000</td><td>0.37829118369264353</td><td>257.0</td><td>5.94005177565741</td><td>296.0</td><td>13.106208185381858</td><td>66079.0</td><td>296.0</td><td>35.404991149902344</td></tr><tr><td>2023-07-28T23:21:41.000+0000</td><td>0.37829118369264353</td><td>257.0</td><td>5.94005177565741</td><td>296.0</td><td>13.106208185381858</td><td>66079.0</td><td>296.0</td><td>27.93621253967285</td></tr><tr><td>2023-07-28T23:21:43.000+0000</td><td>0.5112887881447998</td><td>258.0</td><td>5.060933165240338</td><td>300.0</td><td>13.403018381047145</td><td>73547.0</td><td>300.0</td><td>35.18834686279297</td></tr><tr><td>2023-07-28T23:21:43.000+0000</td><td>0.5112887881447998</td><td>258.0</td><td>5.060933165240338</td><td>300.0</td><td>13.403018381047145</td><td>73547.0</td><td>300.0</td><td>30.545326232910156</td></tr><tr><td>2023-07-28T23:21:43.000+0000</td><td>0.5112887881447998</td><td>258.0</td><td>5.060933165240338</td><td>300.0</td><td>13.403018381047145</td><td>73547.0</td><td>300.0</td><td>35.404991149902344</td></tr><tr><td>2023-07-28T23:21:43.000+0000</td><td>0.5112887881447998</td><td>258.0</td><td>5.060933165240338</td><td>300.0</td><td>13.403018381047145</td><td>73547.0</td><td>300.0</td><td>27.93621253967285</td></tr><tr><td>2023-07-28T23:21:45.000+0000</td><td>0.37500616567125605</td><td>255.0</td><td>5.354915277031502</td><td>297.0</td><td>13.99164824081627</td><td>72811.0</td><td>297.0</td><td>35.18834686279297</td></tr><tr><td>2023-07-28T23:21:45.000+0000</td><td>0.37500616567125605</td><td>255.0</td><td>5.354915277031502</td><td>297.0</td><td>13.99164824081627</td><td>72811.0</td><td>297.0</td><td>30.545326232910156</td></tr><tr><td>2023-07-28T23:21:45.000+0000</td><td>0.37500616567125605</td><td>255.0</td><td>5.354915277031502</td><td>297.0</td><td>13.99164824081627</td><td>72811.0</td><td>297.0</td><td>35.404991149902344</td></tr><tr><td>2023-07-28T23:21:45.000+0000</td><td>0.37500616567125605</td><td>255.0</td><td>5.354915277031502</td><td>297.0</td><td>13.99164824081627</td><td>72811.0</td><td>297.0</td><td>27.93621253967285</td></tr><tr><td>2023-07-28T23:21:47.000+0000</td><td>0.4001981428189989</td><td>252.0</td><td>5.84891941512647</td><td>296.0</td><td>13.223637243025083</td><td>73243.0</td><td>296.0</td><td>35.18834686279297</td></tr><tr><td>2023-07-28T23:21:47.000+0000</td><td>0.4001981428189989</td><td>252.0</td><td>5.84891941512647</td><td>296.0</td><td>13.223637243025083</td><td>73243.0</td><td>296.0</td><td>30.545326232910156</td></tr><tr><td>2023-07-28T23:21:47.000+0000</td><td>0.4001981428189989</td><td>252.0</td><td>5.84891941512647</td><td>296.0</td><td>13.223637243025083</td><td>73243.0</td><td>296.0</td><td>35.404991149902344</td></tr><tr><td>2023-07-28T23:21:47.000+0000</td><td>0.4001981428189989</td><td>252.0</td><td>5.84891941512647</td><td>296.0</td><td>13.223637243025083</td><td>73243.0</td><td>296.0</td><td>27.93621253967285</td></tr><tr><td>2023-07-28T23:21:29.000+0000</td><td>0.40568296487328526</td><td>253.0</td><td>5.142756158733616</td><td>296.0</td><td>13.87591373591667</td><td>73408.0</td><td>296.0</td><td>33.857032775878906</td></tr><tr><td>2023-07-28T23:21:29.000+0000</td><td>0.40568296487328526</td><td>253.0</td><td>5.142756158733616</td><td>296.0</td><td>13.87591373591667</td><td>73408.0</td><td>296.0</td><td>33.42036437988281</td></tr><tr><td>2023-07-28T23:21:31.000+0000</td><td>0.4399079241242732</td><td>254.0</td><td>5.142295682186881</td><td>299.0</td><td>13.76150272929197</td><td>69861.0</td><td>299.0</td><td>33.857032775878906</td></tr><tr><td>2023-07-28T23:21:31.000+0000</td><td>0.4399079241242732</td><td>254.0</td><td>5.142295682186881</td><td>299.0</td><td>13.76150272929197</td><td>69861.0</td><td>299.0</td><td>33.42036437988281</td></tr><tr><td>2023-07-28T23:21:33.000+0000</td><td>0.3956748537471171</td><td>257.0</td><td>5.547607885846936</td><td>295.0</td><td>13.224229487358535</td><td>65720.0</td><td>295.0</td><td>33.857032775878906</td></tr><tr><td>2023-07-28T23:21:33.000+0000</td><td>0.3956748537471171</td><td>257.0</td><td>5.547607885846936</td><td>295.0</td><td>13.224229487358535</td><td>65720.0</td><td>295.0</td><td>33.42036437988281</td></tr><tr><td>2023-07-28T23:21:35.000+0000</td><td>0.5145377274511094</td><td>256.0</td><td>5.458146210078821</td><td>295.0</td><td>13.265032260775834</td><td>72222.0</td><td>295.0</td><td>33.857032775878906</td></tr><tr><td>2023-07-28T23:21:35.000+0000</td><td>0.5145377274511094</td><td>256.0</td><td>5.458146210078821</td><td>295.0</td><td>13.265032260775834</td><td>72222.0</td><td>295.0</td><td>33.42036437988281</td></tr><tr><td>2023-07-28T23:21:37.000+0000</td><td>0.37169616146286666</td><td>253.0</td><td>5.349713672043689</td><td>298.0</td><td>13.97581253602539</td><td>73316.0</td><td>298.0</td><td>33.857032775878906</td></tr><tr><td>2023-07-28T23:21:37.000+0000</td><td>0.37169616146286666</td><td>253.0</td><td>5.349713672043689</td><td>298.0</td><td>13.97581253602539</td><td>73316.0</td><td>298.0</td><td>33.42036437988281</td></tr><tr><td>2023-07-28T23:21:39.000+0000</td><td>0.40108884286847857</td><td>256.0</td><td>5.450392113351348</td><td>297.0</td><td>13.315434295806872</td><td>73246.0</td><td>297.0</td><td>33.857032775878906</td></tr><tr><td>2023-07-28T23:21:39.000+0000</td><td>0.40108884286847857</td><td>256.0</td><td>5.450392113351348</td><td>297.0</td><td>13.315434295806872</td><td>73246.0</td><td>297.0</td><td>33.42036437988281</td></tr><tr><td>2023-07-28T23:21:41.000+0000</td><td>0.37829118369264353</td><td>257.0</td><td>5.94005177565741</td><td>296.0</td><td>13.106208185381858</td><td>66079.0</td><td>296.0</td><td>33.857032775878906</td></tr><tr><td>2023-07-28T23:21:41.000+0000</td><td>0.37829118369264353</td><td>257.0</td><td>5.94005177565741</td><td>296.0</td><td>13.106208185381858</td><td>66079.0</td><td>296.0</td><td>33.42036437988281</td></tr><tr><td>2023-07-28T23:21:43.000+0000</td><td>0.5112887881447998</td><td>258.0</td><td>5.060933165240338</td><td>300.0</td><td>13.403018381047145</td><td>73547.0</td><td>300.0</td><td>33.857032775878906</td></tr><tr><td>2023-07-28T23:21:43.000+0000</td><td>0.5112887881447998</td><td>258.0</td><td>5.060933165240338</td><td>300.0</td><td>13.403018381047145</td><td>73547.0</td><td>300.0</td><td>33.42036437988281</td></tr><tr><td>2023-07-28T23:21:45.000+0000</td><td>0.37500616567125605</td><td>255.0</td><td>5.354915277031502</td><td>297.0</td><td>13.99164824081627</td><td>72811.0</td><td>297.0</td><td>33.857032775878906</td></tr><tr><td>2023-07-28T23:21:45.000+0000</td><td>0.37500616567125605</td><td>255.0</td><td>5.354915277031502</td><td>297.0</td><td>13.99164824081627</td><td>72811.0</td><td>297.0</td><td>33.42036437988281</td></tr><tr><td>2023-07-28T23:21:47.000+0000</td><td>0.4001981428189989</td><td>252.0</td><td>5.84891941512647</td><td>296.0</td><td>13.223637243025083</td><td>73243.0</td><td>296.0</td><td>33.857032775878906</td></tr><tr><td>2023-07-28T23:21:47.000+0000</td><td>0.4001981428189989</td><td>252.0</td><td>5.84891941512647</td><td>296.0</td><td>13.223637243025083</td><td>73243.0</td><td>296.0</td><td>33.42036437988281</td></tr><tr><td>2023-07-28T23:21:29.000+0000</td><td>0.40568296487328526</td><td>253.0</td><td>5.142756158733616</td><td>296.0</td><td>13.87591373591667</td><td>73408.0</td><td>296.0</td><td>32.30409622192383</td></tr><tr><td>2023-07-28T23:21:29.000+0000</td><td>0.40568296487328526</td><td>253.0</td><td>5.142756158733616</td><td>296.0</td><td>13.87591373591667</td><td>73408.0</td><td>296.0</td><td>26.960285186767578</td></tr><tr><td>2023-07-28T23:21:31.000+0000</td><td>0.4399079241242732</td><td>254.0</td><td>5.142295682186881</td><td>299.0</td><td>13.76150272929197</td><td>69861.0</td><td>299.0</td><td>32.30409622192383</td></tr><tr><td>2023-07-28T23:21:31.000+0000</td><td>0.4399079241242732</td><td>254.0</td><td>5.142295682186881</td><td>299.0</td><td>13.76150272929197</td><td>69861.0</td><td>299.0</td><td>26.960285186767578</td></tr><tr><td>2023-07-28T23:21:33.000+0000</td><td>0.3956748537471171</td><td>257.0</td><td>5.547607885846936</td><td>295.0</td><td>13.224229487358535</td><td>65720.0</td><td>295.0</td><td>32.30409622192383</td></tr><tr><td>2023-07-28T23:21:33.000+0000</td><td>0.3956748537471171</td><td>257.0</td><td>5.547607885846936</td><td>295.0</td><td>13.224229487358535</td><td>65720.0</td><td>295.0</td><td>26.960285186767578</td></tr><tr><td>2023-07-28T23:21:35.000+0000</td><td>0.5145377274511094</td><td>256.0</td><td>5.458146210078821</td><td>295.0</td><td>13.265032260775834</td><td>72222.0</td><td>295.0</td><td>32.30409622192383</td></tr><tr><td>2023-07-28T23:21:35.000+0000</td><td>0.5145377274511094</td><td>256.0</td><td>5.458146210078821</td><td>295.0</td><td>13.265032260775834</td><td>72222.0</td><td>295.0</td><td>26.960285186767578</td></tr><tr><td>2023-07-28T23:21:37.000+0000</td><td>0.37169616146286666</td><td>253.0</td><td>5.349713672043689</td><td>298.0</td><td>13.97581253602539</td><td>73316.0</td><td>298.0</td><td>32.30409622192383</td></tr><tr><td>2023-07-28T23:21:37.000+0000</td><td>0.37169616146286666</td><td>253.0</td><td>5.349713672043689</td><td>298.0</td><td>13.97581253602539</td><td>73316.0</td><td>298.0</td><td>26.960285186767578</td></tr><tr><td>2023-07-28T23:21:39.000+0000</td><td>0.40108884286847857</td><td>256.0</td><td>5.450392113351348</td><td>297.0</td><td>13.315434295806872</td><td>73246.0</td><td>297.0</td><td>32.30409622192383</td></tr><tr><td>2023-07-28T23:21:39.000+0000</td><td>0.40108884286847857</td><td>256.0</td><td>5.450392113351348</td><td>297.0</td><td>13.315434295806872</td><td>73246.0</td><td>297.0</td><td>26.960285186767578</td></tr><tr><td>2023-07-28T23:21:41.000+0000</td><td>0.37829118369264353</td><td>257.0</td><td>5.94005177565741</td><td>296.0</td><td>13.106208185381858</td><td>66079.0</td><td>296.0</td><td>32.30409622192383</td></tr><tr><td>2023-07-28T23:21:41.000+0000</td><td>0.37829118369264353</td><td>257.0</td><td>5.94005177565741</td><td>296.0</td><td>13.106208185381858</td><td>66079.0</td><td>296.0</td><td>26.960285186767578</td></tr><tr><td>2023-07-28T23:21:43.000+0000</td><td>0.5112887881447998</td><td>258.0</td><td>5.060933165240338</td><td>300.0</td><td>13.403018381047145</td><td>73547.0</td><td>300.0</td><td>32.30409622192383</td></tr><tr><td>2023-07-28T23:21:43.000+0000</td><td>0.5112887881447998</td><td>258.0</td><td>5.060933165240338</td><td>300.0</td><td>13.403018381047145</td><td>73547.0</td><td>300.0</td><td>26.960285186767578</td></tr><tr><td>2023-07-28T23:21:45.000+0000</td><td>0.37500616567125605</td><td>255.0</td><td>5.354915277031502</td><td>297.0</td><td>13.99164824081627</td><td>72811.0</td><td>297.0</td><td>32.30409622192383</td></tr><tr><td>2023-07-28T23:21:45.000+0000</td><td>0.37500616567125605</td><td>255.0</td><td>5.354915277031502</td><td>297.0</td><td>13.99164824081627</td><td>72811.0</td><td>297.0</td><td>26.960285186767578</td></tr><tr><td>2023-07-28T23:21:47.000+0000</td><td>0.4001981428189989</td><td>252.0</td><td>5.84891941512647</td><td>296.0</td><td>13.223637243025083</td><td>73243.0</td><td>296.0</td><td>32.30409622192383</td></tr><tr><td>2023-07-28T23:21:47.000+0000</td><td>0.4001981428189989</td><td>252.0</td><td>5.84891941512647</td><td>296.0</td><td>13.223637243025083</td><td>73243.0</td><td>296.0</td><td>26.960285186767578</td></tr><tr><td>2023-07-28T23:21:29.000+0000</td><td>0.40568296487328526</td><td>253.0</td><td>5.142756158733616</td><td>296.0</td><td>13.87591373591667</td><td>73408.0</td><td>296.0</td><td>32.48750305175781</td></tr><tr><td>2023-07-28T23:21:29.000+0000</td><td>0.40568296487328526</td><td>253.0</td><td>5.142756158733616</td><td>296.0</td><td>13.87591373591667</td><td>73408.0</td><td>296.0</td><td>36.56707000732422</td></tr><tr><td>2023-07-28T23:21:31.000+0000</td><td>0.4399079241242732</td><td>254.0</td><td>5.142295682186881</td><td>299.0</td><td>13.76150272929197</td><td>69861.0</td><td>299.0</td><td>32.48750305175781</td></tr><tr><td>2023-07-28T23:21:31.000+0000</td><td>0.4399079241242732</td><td>254.0</td><td>5.142295682186881</td><td>299.0</td><td>13.76150272929197</td><td>69861.0</td><td>299.0</td><td>36.56707000732422</td></tr><tr><td>2023-07-28T23:21:33.000+0000</td><td>0.3956748537471171</td><td>257.0</td><td>5.547607885846936</td><td>295.0</td><td>13.224229487358535</td><td>65720.0</td><td>295.0</td><td>32.48750305175781</td></tr><tr><td>2023-07-28T23:21:33.000+0000</td><td>0.3956748537471171</td><td>257.0</td><td>5.547607885846936</td><td>295.0</td><td>13.224229487358535</td><td>65720.0</td><td>295.0</td><td>36.56707000732422</td></tr><tr><td>2023-07-28T23:21:35.000+0000</td><td>0.5145377274511094</td><td>256.0</td><td>5.458146210078821</td><td>295.0</td><td>13.265032260775834</td><td>72222.0</td><td>295.0</td><td>32.48750305175781</td></tr><tr><td>2023-07-28T23:21:35.000+0000</td><td>0.5145377274511094</td><td>256.0</td><td>5.458146210078821</td><td>295.0</td><td>13.265032260775834</td><td>72222.0</td><td>295.0</td><td>36.56707000732422</td></tr><tr><td>2023-07-28T23:21:37.000+0000</td><td>0.37169616146286666</td><td>253.0</td><td>5.349713672043689</td><td>298.0</td><td>13.97581253602539</td><td>73316.0</td><td>298.0</td><td>32.48750305175781</td></tr><tr><td>2023-07-28T23:21:37.000+0000</td><td>0.37169616146286666</td><td>253.0</td><td>5.349713672043689</td><td>298.0</td><td>13.97581253602539</td><td>73316.0</td><td>298.0</td><td>36.56707000732422</td></tr><tr><td>2023-07-28T23:21:39.000+0000</td><td>0.40108884286847857</td><td>256.0</td><td>5.450392113351348</td><td>297.0</td><td>13.315434295806872</td><td>73246.0</td><td>297.0</td><td>32.48750305175781</td></tr><tr><td>2023-07-28T23:21:39.000+0000</td><td>0.40108884286847857</td><td>256.0</td><td>5.450392113351348</td><td>297.0</td><td>13.315434295806872</td><td>73246.0</td><td>297.0</td><td>36.56707000732422</td></tr><tr><td>2023-07-28T23:21:41.000+0000</td><td>0.37829118369264353</td><td>257.0</td><td>5.94005177565741</td><td>296.0</td><td>13.106208185381858</td><td>66079.0</td><td>296.0</td><td>32.48750305175781</td></tr><tr><td>2023-07-28T23:21:41.000+0000</td><td>0.37829118369264353</td><td>257.0</td><td>5.94005177565741</td><td>296.0</td><td>13.106208185381858</td><td>66079.0</td><td>296.0</td><td>36.56707000732422</td></tr><tr><td>2023-07-28T23:21:43.000+0000</td><td>0.5112887881447998</td><td>258.0</td><td>5.060933165240338</td><td>300.0</td><td>13.403018381047145</td><td>73547.0</td><td>300.0</td><td>32.48750305175781</td></tr><tr><td>2023-07-28T23:21:43.000+0000</td><td>0.5112887881447998</td><td>258.0</td><td>5.060933165240338</td><td>300.0</td><td>13.403018381047145</td><td>73547.0</td><td>300.0</td><td>36.56707000732422</td></tr><tr><td>2023-07-28T23:21:45.000+0000</td><td>0.37500616567125605</td><td>255.0</td><td>5.354915277031502</td><td>297.0</td><td>13.99164824081627</td><td>72811.0</td><td>297.0</td><td>32.48750305175781</td></tr><tr><td>2023-07-28T23:21:45.000+0000</td><td>0.37500616567125605</td><td>255.0</td><td>5.354915277031502</td><td>297.0</td><td>13.99164824081627</td><td>72811.0</td><td>297.0</td><td>36.56707000732422</td></tr><tr><td>2023-07-28T23:21:47.000+0000</td><td>0.4001981428189989</td><td>252.0</td><td>5.84891941512647</td><td>296.0</td><td>13.223637243025083</td><td>73243.0</td><td>296.0</td><td>32.48750305175781</td></tr><tr><td>2023-07-28T23:21:47.000+0000</td><td>0.4001981428189989</td><td>252.0</td><td>5.84891941512647</td><td>296.0</td><td>13.223637243025083</td><td>73243.0</td><td>296.0</td><td>36.56707000732422</td></tr></tbody></table></div>"
      ]
     },
     "metadata": {
      "application/vnd.databricks.v1+output": {
       "addedWidgets": {},
       "aggData": [],
       "aggError": "",
       "aggOverflow": false,
       "aggSchema": [],
       "aggSeriesLimitReached": false,
       "aggType": "",
       "arguments": {},
       "columnCustomDisplayInfos": {},
       "data": [
        [
         "2023-07-28T23:21:29.000+0000",
         0.40568296487328526,
         253.0,
         5.142756158733616,
         296.0,
         13.87591373591667,
         73408.0,
         296.0,
         35.18834686279297
        ],
        [
         "2023-07-28T23:21:29.000+0000",
         0.40568296487328526,
         253.0,
         5.142756158733616,
         296.0,
         13.87591373591667,
         73408.0,
         296.0,
         30.545326232910156
        ],
        [
         "2023-07-28T23:21:29.000+0000",
         0.40568296487328526,
         253.0,
         5.142756158733616,
         296.0,
         13.87591373591667,
         73408.0,
         296.0,
         35.404991149902344
        ],
        [
         "2023-07-28T23:21:29.000+0000",
         0.40568296487328526,
         253.0,
         5.142756158733616,
         296.0,
         13.87591373591667,
         73408.0,
         296.0,
         27.93621253967285
        ],
        [
         "2023-07-28T23:21:31.000+0000",
         0.4399079241242732,
         254.0,
         5.142295682186881,
         299.0,
         13.76150272929197,
         69861.0,
         299.0,
         35.18834686279297
        ],
        [
         "2023-07-28T23:21:31.000+0000",
         0.4399079241242732,
         254.0,
         5.142295682186881,
         299.0,
         13.76150272929197,
         69861.0,
         299.0,
         30.545326232910156
        ],
        [
         "2023-07-28T23:21:31.000+0000",
         0.4399079241242732,
         254.0,
         5.142295682186881,
         299.0,
         13.76150272929197,
         69861.0,
         299.0,
         35.404991149902344
        ],
        [
         "2023-07-28T23:21:31.000+0000",
         0.4399079241242732,
         254.0,
         5.142295682186881,
         299.0,
         13.76150272929197,
         69861.0,
         299.0,
         27.93621253967285
        ],
        [
         "2023-07-28T23:21:33.000+0000",
         0.3956748537471171,
         257.0,
         5.547607885846936,
         295.0,
         13.224229487358535,
         65720.0,
         295.0,
         35.18834686279297
        ],
        [
         "2023-07-28T23:21:33.000+0000",
         0.3956748537471171,
         257.0,
         5.547607885846936,
         295.0,
         13.224229487358535,
         65720.0,
         295.0,
         30.545326232910156
        ],
        [
         "2023-07-28T23:21:33.000+0000",
         0.3956748537471171,
         257.0,
         5.547607885846936,
         295.0,
         13.224229487358535,
         65720.0,
         295.0,
         35.404991149902344
        ],
        [
         "2023-07-28T23:21:33.000+0000",
         0.3956748537471171,
         257.0,
         5.547607885846936,
         295.0,
         13.224229487358535,
         65720.0,
         295.0,
         27.93621253967285
        ],
        [
         "2023-07-28T23:21:35.000+0000",
         0.5145377274511094,
         256.0,
         5.458146210078821,
         295.0,
         13.265032260775834,
         72222.0,
         295.0,
         35.18834686279297
        ],
        [
         "2023-07-28T23:21:35.000+0000",
         0.5145377274511094,
         256.0,
         5.458146210078821,
         295.0,
         13.265032260775834,
         72222.0,
         295.0,
         30.545326232910156
        ],
        [
         "2023-07-28T23:21:35.000+0000",
         0.5145377274511094,
         256.0,
         5.458146210078821,
         295.0,
         13.265032260775834,
         72222.0,
         295.0,
         35.404991149902344
        ],
        [
         "2023-07-28T23:21:35.000+0000",
         0.5145377274511094,
         256.0,
         5.458146210078821,
         295.0,
         13.265032260775834,
         72222.0,
         295.0,
         27.93621253967285
        ],
        [
         "2023-07-28T23:21:37.000+0000",
         0.37169616146286666,
         253.0,
         5.349713672043689,
         298.0,
         13.97581253602539,
         73316.0,
         298.0,
         35.18834686279297
        ],
        [
         "2023-07-28T23:21:37.000+0000",
         0.37169616146286666,
         253.0,
         5.349713672043689,
         298.0,
         13.97581253602539,
         73316.0,
         298.0,
         30.545326232910156
        ],
        [
         "2023-07-28T23:21:37.000+0000",
         0.37169616146286666,
         253.0,
         5.349713672043689,
         298.0,
         13.97581253602539,
         73316.0,
         298.0,
         35.404991149902344
        ],
        [
         "2023-07-28T23:21:37.000+0000",
         0.37169616146286666,
         253.0,
         5.349713672043689,
         298.0,
         13.97581253602539,
         73316.0,
         298.0,
         27.93621253967285
        ],
        [
         "2023-07-28T23:21:39.000+0000",
         0.40108884286847857,
         256.0,
         5.450392113351348,
         297.0,
         13.315434295806872,
         73246.0,
         297.0,
         35.18834686279297
        ],
        [
         "2023-07-28T23:21:39.000+0000",
         0.40108884286847857,
         256.0,
         5.450392113351348,
         297.0,
         13.315434295806872,
         73246.0,
         297.0,
         30.545326232910156
        ],
        [
         "2023-07-28T23:21:39.000+0000",
         0.40108884286847857,
         256.0,
         5.450392113351348,
         297.0,
         13.315434295806872,
         73246.0,
         297.0,
         35.404991149902344
        ],
        [
         "2023-07-28T23:21:39.000+0000",
         0.40108884286847857,
         256.0,
         5.450392113351348,
         297.0,
         13.315434295806872,
         73246.0,
         297.0,
         27.93621253967285
        ],
        [
         "2023-07-28T23:21:41.000+0000",
         0.37829118369264353,
         257.0,
         5.94005177565741,
         296.0,
         13.106208185381858,
         66079.0,
         296.0,
         35.18834686279297
        ],
        [
         "2023-07-28T23:21:41.000+0000",
         0.37829118369264353,
         257.0,
         5.94005177565741,
         296.0,
         13.106208185381858,
         66079.0,
         296.0,
         30.545326232910156
        ],
        [
         "2023-07-28T23:21:41.000+0000",
         0.37829118369264353,
         257.0,
         5.94005177565741,
         296.0,
         13.106208185381858,
         66079.0,
         296.0,
         35.404991149902344
        ],
        [
         "2023-07-28T23:21:41.000+0000",
         0.37829118369264353,
         257.0,
         5.94005177565741,
         296.0,
         13.106208185381858,
         66079.0,
         296.0,
         27.93621253967285
        ],
        [
         "2023-07-28T23:21:43.000+0000",
         0.5112887881447998,
         258.0,
         5.060933165240338,
         300.0,
         13.403018381047145,
         73547.0,
         300.0,
         35.18834686279297
        ],
        [
         "2023-07-28T23:21:43.000+0000",
         0.5112887881447998,
         258.0,
         5.060933165240338,
         300.0,
         13.403018381047145,
         73547.0,
         300.0,
         30.545326232910156
        ],
        [
         "2023-07-28T23:21:43.000+0000",
         0.5112887881447998,
         258.0,
         5.060933165240338,
         300.0,
         13.403018381047145,
         73547.0,
         300.0,
         35.404991149902344
        ],
        [
         "2023-07-28T23:21:43.000+0000",
         0.5112887881447998,
         258.0,
         5.060933165240338,
         300.0,
         13.403018381047145,
         73547.0,
         300.0,
         27.93621253967285
        ],
        [
         "2023-07-28T23:21:45.000+0000",
         0.37500616567125605,
         255.0,
         5.354915277031502,
         297.0,
         13.99164824081627,
         72811.0,
         297.0,
         35.18834686279297
        ],
        [
         "2023-07-28T23:21:45.000+0000",
         0.37500616567125605,
         255.0,
         5.354915277031502,
         297.0,
         13.99164824081627,
         72811.0,
         297.0,
         30.545326232910156
        ],
        [
         "2023-07-28T23:21:45.000+0000",
         0.37500616567125605,
         255.0,
         5.354915277031502,
         297.0,
         13.99164824081627,
         72811.0,
         297.0,
         35.404991149902344
        ],
        [
         "2023-07-28T23:21:45.000+0000",
         0.37500616567125605,
         255.0,
         5.354915277031502,
         297.0,
         13.99164824081627,
         72811.0,
         297.0,
         27.93621253967285
        ],
        [
         "2023-07-28T23:21:47.000+0000",
         0.4001981428189989,
         252.0,
         5.84891941512647,
         296.0,
         13.223637243025083,
         73243.0,
         296.0,
         35.18834686279297
        ],
        [
         "2023-07-28T23:21:47.000+0000",
         0.4001981428189989,
         252.0,
         5.84891941512647,
         296.0,
         13.223637243025083,
         73243.0,
         296.0,
         30.545326232910156
        ],
        [
         "2023-07-28T23:21:47.000+0000",
         0.4001981428189989,
         252.0,
         5.84891941512647,
         296.0,
         13.223637243025083,
         73243.0,
         296.0,
         35.404991149902344
        ],
        [
         "2023-07-28T23:21:47.000+0000",
         0.4001981428189989,
         252.0,
         5.84891941512647,
         296.0,
         13.223637243025083,
         73243.0,
         296.0,
         27.93621253967285
        ],
        [
         "2023-07-28T23:21:29.000+0000",
         0.40568296487328526,
         253.0,
         5.142756158733616,
         296.0,
         13.87591373591667,
         73408.0,
         296.0,
         33.857032775878906
        ],
        [
         "2023-07-28T23:21:29.000+0000",
         0.40568296487328526,
         253.0,
         5.142756158733616,
         296.0,
         13.87591373591667,
         73408.0,
         296.0,
         33.42036437988281
        ],
        [
         "2023-07-28T23:21:31.000+0000",
         0.4399079241242732,
         254.0,
         5.142295682186881,
         299.0,
         13.76150272929197,
         69861.0,
         299.0,
         33.857032775878906
        ],
        [
         "2023-07-28T23:21:31.000+0000",
         0.4399079241242732,
         254.0,
         5.142295682186881,
         299.0,
         13.76150272929197,
         69861.0,
         299.0,
         33.42036437988281
        ],
        [
         "2023-07-28T23:21:33.000+0000",
         0.3956748537471171,
         257.0,
         5.547607885846936,
         295.0,
         13.224229487358535,
         65720.0,
         295.0,
         33.857032775878906
        ],
        [
         "2023-07-28T23:21:33.000+0000",
         0.3956748537471171,
         257.0,
         5.547607885846936,
         295.0,
         13.224229487358535,
         65720.0,
         295.0,
         33.42036437988281
        ],
        [
         "2023-07-28T23:21:35.000+0000",
         0.5145377274511094,
         256.0,
         5.458146210078821,
         295.0,
         13.265032260775834,
         72222.0,
         295.0,
         33.857032775878906
        ],
        [
         "2023-07-28T23:21:35.000+0000",
         0.5145377274511094,
         256.0,
         5.458146210078821,
         295.0,
         13.265032260775834,
         72222.0,
         295.0,
         33.42036437988281
        ],
        [
         "2023-07-28T23:21:37.000+0000",
         0.37169616146286666,
         253.0,
         5.349713672043689,
         298.0,
         13.97581253602539,
         73316.0,
         298.0,
         33.857032775878906
        ],
        [
         "2023-07-28T23:21:37.000+0000",
         0.37169616146286666,
         253.0,
         5.349713672043689,
         298.0,
         13.97581253602539,
         73316.0,
         298.0,
         33.42036437988281
        ],
        [
         "2023-07-28T23:21:39.000+0000",
         0.40108884286847857,
         256.0,
         5.450392113351348,
         297.0,
         13.315434295806872,
         73246.0,
         297.0,
         33.857032775878906
        ],
        [
         "2023-07-28T23:21:39.000+0000",
         0.40108884286847857,
         256.0,
         5.450392113351348,
         297.0,
         13.315434295806872,
         73246.0,
         297.0,
         33.42036437988281
        ],
        [
         "2023-07-28T23:21:41.000+0000",
         0.37829118369264353,
         257.0,
         5.94005177565741,
         296.0,
         13.106208185381858,
         66079.0,
         296.0,
         33.857032775878906
        ],
        [
         "2023-07-28T23:21:41.000+0000",
         0.37829118369264353,
         257.0,
         5.94005177565741,
         296.0,
         13.106208185381858,
         66079.0,
         296.0,
         33.42036437988281
        ],
        [
         "2023-07-28T23:21:43.000+0000",
         0.5112887881447998,
         258.0,
         5.060933165240338,
         300.0,
         13.403018381047145,
         73547.0,
         300.0,
         33.857032775878906
        ],
        [
         "2023-07-28T23:21:43.000+0000",
         0.5112887881447998,
         258.0,
         5.060933165240338,
         300.0,
         13.403018381047145,
         73547.0,
         300.0,
         33.42036437988281
        ],
        [
         "2023-07-28T23:21:45.000+0000",
         0.37500616567125605,
         255.0,
         5.354915277031502,
         297.0,
         13.99164824081627,
         72811.0,
         297.0,
         33.857032775878906
        ],
        [
         "2023-07-28T23:21:45.000+0000",
         0.37500616567125605,
         255.0,
         5.354915277031502,
         297.0,
         13.99164824081627,
         72811.0,
         297.0,
         33.42036437988281
        ],
        [
         "2023-07-28T23:21:47.000+0000",
         0.4001981428189989,
         252.0,
         5.84891941512647,
         296.0,
         13.223637243025083,
         73243.0,
         296.0,
         33.857032775878906
        ],
        [
         "2023-07-28T23:21:47.000+0000",
         0.4001981428189989,
         252.0,
         5.84891941512647,
         296.0,
         13.223637243025083,
         73243.0,
         296.0,
         33.42036437988281
        ],
        [
         "2023-07-28T23:21:29.000+0000",
         0.40568296487328526,
         253.0,
         5.142756158733616,
         296.0,
         13.87591373591667,
         73408.0,
         296.0,
         32.30409622192383
        ],
        [
         "2023-07-28T23:21:29.000+0000",
         0.40568296487328526,
         253.0,
         5.142756158733616,
         296.0,
         13.87591373591667,
         73408.0,
         296.0,
         26.960285186767578
        ],
        [
         "2023-07-28T23:21:31.000+0000",
         0.4399079241242732,
         254.0,
         5.142295682186881,
         299.0,
         13.76150272929197,
         69861.0,
         299.0,
         32.30409622192383
        ],
        [
         "2023-07-28T23:21:31.000+0000",
         0.4399079241242732,
         254.0,
         5.142295682186881,
         299.0,
         13.76150272929197,
         69861.0,
         299.0,
         26.960285186767578
        ],
        [
         "2023-07-28T23:21:33.000+0000",
         0.3956748537471171,
         257.0,
         5.547607885846936,
         295.0,
         13.224229487358535,
         65720.0,
         295.0,
         32.30409622192383
        ],
        [
         "2023-07-28T23:21:33.000+0000",
         0.3956748537471171,
         257.0,
         5.547607885846936,
         295.0,
         13.224229487358535,
         65720.0,
         295.0,
         26.960285186767578
        ],
        [
         "2023-07-28T23:21:35.000+0000",
         0.5145377274511094,
         256.0,
         5.458146210078821,
         295.0,
         13.265032260775834,
         72222.0,
         295.0,
         32.30409622192383
        ],
        [
         "2023-07-28T23:21:35.000+0000",
         0.5145377274511094,
         256.0,
         5.458146210078821,
         295.0,
         13.265032260775834,
         72222.0,
         295.0,
         26.960285186767578
        ],
        [
         "2023-07-28T23:21:37.000+0000",
         0.37169616146286666,
         253.0,
         5.349713672043689,
         298.0,
         13.97581253602539,
         73316.0,
         298.0,
         32.30409622192383
        ],
        [
         "2023-07-28T23:21:37.000+0000",
         0.37169616146286666,
         253.0,
         5.349713672043689,
         298.0,
         13.97581253602539,
         73316.0,
         298.0,
         26.960285186767578
        ],
        [
         "2023-07-28T23:21:39.000+0000",
         0.40108884286847857,
         256.0,
         5.450392113351348,
         297.0,
         13.315434295806872,
         73246.0,
         297.0,
         32.30409622192383
        ],
        [
         "2023-07-28T23:21:39.000+0000",
         0.40108884286847857,
         256.0,
         5.450392113351348,
         297.0,
         13.315434295806872,
         73246.0,
         297.0,
         26.960285186767578
        ],
        [
         "2023-07-28T23:21:41.000+0000",
         0.37829118369264353,
         257.0,
         5.94005177565741,
         296.0,
         13.106208185381858,
         66079.0,
         296.0,
         32.30409622192383
        ],
        [
         "2023-07-28T23:21:41.000+0000",
         0.37829118369264353,
         257.0,
         5.94005177565741,
         296.0,
         13.106208185381858,
         66079.0,
         296.0,
         26.960285186767578
        ],
        [
         "2023-07-28T23:21:43.000+0000",
         0.5112887881447998,
         258.0,
         5.060933165240338,
         300.0,
         13.403018381047145,
         73547.0,
         300.0,
         32.30409622192383
        ],
        [
         "2023-07-28T23:21:43.000+0000",
         0.5112887881447998,
         258.0,
         5.060933165240338,
         300.0,
         13.403018381047145,
         73547.0,
         300.0,
         26.960285186767578
        ],
        [
         "2023-07-28T23:21:45.000+0000",
         0.37500616567125605,
         255.0,
         5.354915277031502,
         297.0,
         13.99164824081627,
         72811.0,
         297.0,
         32.30409622192383
        ],
        [
         "2023-07-28T23:21:45.000+0000",
         0.37500616567125605,
         255.0,
         5.354915277031502,
         297.0,
         13.99164824081627,
         72811.0,
         297.0,
         26.960285186767578
        ],
        [
         "2023-07-28T23:21:47.000+0000",
         0.4001981428189989,
         252.0,
         5.84891941512647,
         296.0,
         13.223637243025083,
         73243.0,
         296.0,
         32.30409622192383
        ],
        [
         "2023-07-28T23:21:47.000+0000",
         0.4001981428189989,
         252.0,
         5.84891941512647,
         296.0,
         13.223637243025083,
         73243.0,
         296.0,
         26.960285186767578
        ],
        [
         "2023-07-28T23:21:29.000+0000",
         0.40568296487328526,
         253.0,
         5.142756158733616,
         296.0,
         13.87591373591667,
         73408.0,
         296.0,
         32.48750305175781
        ],
        [
         "2023-07-28T23:21:29.000+0000",
         0.40568296487328526,
         253.0,
         5.142756158733616,
         296.0,
         13.87591373591667,
         73408.0,
         296.0,
         36.56707000732422
        ],
        [
         "2023-07-28T23:21:31.000+0000",
         0.4399079241242732,
         254.0,
         5.142295682186881,
         299.0,
         13.76150272929197,
         69861.0,
         299.0,
         32.48750305175781
        ],
        [
         "2023-07-28T23:21:31.000+0000",
         0.4399079241242732,
         254.0,
         5.142295682186881,
         299.0,
         13.76150272929197,
         69861.0,
         299.0,
         36.56707000732422
        ],
        [
         "2023-07-28T23:21:33.000+0000",
         0.3956748537471171,
         257.0,
         5.547607885846936,
         295.0,
         13.224229487358535,
         65720.0,
         295.0,
         32.48750305175781
        ],
        [
         "2023-07-28T23:21:33.000+0000",
         0.3956748537471171,
         257.0,
         5.547607885846936,
         295.0,
         13.224229487358535,
         65720.0,
         295.0,
         36.56707000732422
        ],
        [
         "2023-07-28T23:21:35.000+0000",
         0.5145377274511094,
         256.0,
         5.458146210078821,
         295.0,
         13.265032260775834,
         72222.0,
         295.0,
         32.48750305175781
        ],
        [
         "2023-07-28T23:21:35.000+0000",
         0.5145377274511094,
         256.0,
         5.458146210078821,
         295.0,
         13.265032260775834,
         72222.0,
         295.0,
         36.56707000732422
        ],
        [
         "2023-07-28T23:21:37.000+0000",
         0.37169616146286666,
         253.0,
         5.349713672043689,
         298.0,
         13.97581253602539,
         73316.0,
         298.0,
         32.48750305175781
        ],
        [
         "2023-07-28T23:21:37.000+0000",
         0.37169616146286666,
         253.0,
         5.349713672043689,
         298.0,
         13.97581253602539,
         73316.0,
         298.0,
         36.56707000732422
        ],
        [
         "2023-07-28T23:21:39.000+0000",
         0.40108884286847857,
         256.0,
         5.450392113351348,
         297.0,
         13.315434295806872,
         73246.0,
         297.0,
         32.48750305175781
        ],
        [
         "2023-07-28T23:21:39.000+0000",
         0.40108884286847857,
         256.0,
         5.450392113351348,
         297.0,
         13.315434295806872,
         73246.0,
         297.0,
         36.56707000732422
        ],
        [
         "2023-07-28T23:21:41.000+0000",
         0.37829118369264353,
         257.0,
         5.94005177565741,
         296.0,
         13.106208185381858,
         66079.0,
         296.0,
         32.48750305175781
        ],
        [
         "2023-07-28T23:21:41.000+0000",
         0.37829118369264353,
         257.0,
         5.94005177565741,
         296.0,
         13.106208185381858,
         66079.0,
         296.0,
         36.56707000732422
        ],
        [
         "2023-07-28T23:21:43.000+0000",
         0.5112887881447998,
         258.0,
         5.060933165240338,
         300.0,
         13.403018381047145,
         73547.0,
         300.0,
         32.48750305175781
        ],
        [
         "2023-07-28T23:21:43.000+0000",
         0.5112887881447998,
         258.0,
         5.060933165240338,
         300.0,
         13.403018381047145,
         73547.0,
         300.0,
         36.56707000732422
        ],
        [
         "2023-07-28T23:21:45.000+0000",
         0.37500616567125605,
         255.0,
         5.354915277031502,
         297.0,
         13.99164824081627,
         72811.0,
         297.0,
         32.48750305175781
        ],
        [
         "2023-07-28T23:21:45.000+0000",
         0.37500616567125605,
         255.0,
         5.354915277031502,
         297.0,
         13.99164824081627,
         72811.0,
         297.0,
         36.56707000732422
        ],
        [
         "2023-07-28T23:21:47.000+0000",
         0.4001981428189989,
         252.0,
         5.84891941512647,
         296.0,
         13.223637243025083,
         73243.0,
         296.0,
         32.48750305175781
        ],
        [
         "2023-07-28T23:21:47.000+0000",
         0.4001981428189989,
         252.0,
         5.84891941512647,
         296.0,
         13.223637243025083,
         73243.0,
         296.0,
         36.56707000732422
        ]
       ],
       "datasetInfos": [],
       "dbfsResultPath": null,
       "isJsonSchema": true,
       "metadata": {},
       "overflow": false,
       "plotOptions": {
        "customPlotOptions": {},
        "displayType": "table",
        "pivotAggregation": null,
        "pivotColumns": null,
        "xColumns": null,
        "yColumns": null
       },
       "removedWidgets": [],
       "schema": [
        {
         "metadata": "{}",
         "name": "Time (h)",
         "type": "\"timestamp\""
        },
        {
         "metadata": "{}",
         "name": "Sugar mass flow",
         "type": "\"double\""
        },
        {
         "metadata": "{}",
         "name": "Water for injection/dilution(Fw:L/h)",
         "type": "\"double\""
        },
        {
         "metadata": "{}",
         "name": "pH(pH:pH)",
         "type": "\"double\""
        },
        {
         "metadata": "{}",
         "name": "Temperature(T:K)",
         "type": "\"double\""
        },
        {
         "metadata": "{}",
         "name": "Dissolved oxygen concentration(DO2:mg/L)",
         "type": "\"double\""
        },
        {
         "metadata": "{}",
         "name": "Vessel Volume(V:L)",
         "type": "\"double\""
        },
        {
         "metadata": "{}",
         "name": "Temp",
         "type": "\"double\""
        },
        {
         "metadata": "{}",
         "name": "Predict",
         "type": "\"double\""
        }
       ],
       "type": "table"
      }
     },
     "output_type": "display_data"
    },
    {
     "output_type": "display_data",
     "data": {
      "text/html": [
       "<style scoped>\n",
       "  .table-result-container {\n",
       "    max-height: 300px;\n",
       "    overflow: auto;\n",
       "  }\n",
       "  table, th, td {\n",
       "    border: 1px solid black;\n",
       "    border-collapse: collapse;\n",
       "  }\n",
       "  th, td {\n",
       "    padding: 5px;\n",
       "  }\n",
       "  th {\n",
       "    text-align: left;\n",
       "  }\n",
       "</style><div class='table-result-container'><table class='table-result'><thead style='background-color: white'><tr><th>col_name</th><th>data_type</th><th>comment</th></tr></thead><tbody><tr><td>Time (h)</td><td>timestamp</td><td></td></tr><tr><td>Sugar mass flow</td><td>double</td><td></td></tr><tr><td>Water for injection/dilution(Fw:L/h)</td><td>double</td><td></td></tr><tr><td>pH(pH:pH)</td><td>double</td><td></td></tr><tr><td>Temperature(T:K)</td><td>double</td><td></td></tr><tr><td>Dissolved oxygen concentration(DO2:mg/L)</td><td>double</td><td></td></tr><tr><td>Vessel Volume(V:L)</td><td>double</td><td></td></tr><tr><td>Temp</td><td>double</td><td></td></tr><tr><td>Predict</td><td>double</td><td></td></tr><tr><td></td><td></td><td></td></tr><tr><td># Partitioning</td><td></td><td></td></tr><tr><td>Not partitioned</td><td></td><td></td></tr></tbody></table></div>"
      ]
     },
     "metadata": {
      "application/vnd.databricks.v1+output": {
       "addedWidgets": {},
       "aggData": [],
       "aggError": "",
       "aggOverflow": false,
       "aggSchema": [],
       "aggSeriesLimitReached": false,
       "aggType": "",
       "arguments": {},
       "columnCustomDisplayInfos": {},
       "data": [
        [
         "Time (h)",
         "timestamp",
         ""
        ],
        [
         "Sugar mass flow",
         "double",
         ""
        ],
        [
         "Water for injection/dilution(Fw:L/h)",
         "double",
         ""
        ],
        [
         "pH(pH:pH)",
         "double",
         ""
        ],
        [
         "Temperature(T:K)",
         "double",
         ""
        ],
        [
         "Dissolved oxygen concentration(DO2:mg/L)",
         "double",
         ""
        ],
        [
         "Vessel Volume(V:L)",
         "double",
         ""
        ],
        [
         "Temp",
         "double",
         ""
        ],
        [
         "Predict",
         "double",
         ""
        ],
        [
         "",
         "",
         ""
        ],
        [
         "# Partitioning",
         "",
         ""
        ],
        [
         "Not partitioned",
         "",
         ""
        ]
       ],
       "datasetInfos": [],
       "dbfsResultPath": null,
       "isJsonSchema": true,
       "metadata": {},
       "overflow": false,
       "plotOptions": {
        "customPlotOptions": {},
        "displayType": "table",
        "pivotAggregation": null,
        "pivotColumns": null,
        "xColumns": null,
        "yColumns": null
       },
       "removedWidgets": [],
       "schema": [
        {
         "metadata": "{\"comment\":\"name of the column\"}",
         "name": "col_name",
         "type": "\"string\""
        },
        {
         "metadata": "{\"comment\":\"data type of the column\"}",
         "name": "data_type",
         "type": "\"string\""
        },
        {
         "metadata": "{\"comment\":\"comment of the column\"}",
         "name": "comment",
         "type": "\"string\""
        }
       ],
       "type": "table"
      }
     },
     "output_type": "display_data"
    }
   ],
   "source": [
    "database_name = 'db_test'\n",
    "delta_table_name = 'gold_stream'\n",
    "delta_location =f'/mnt/datalake/gold/gold_stream_fd/{delta_table_name}.delta'\n",
    "createDeltaTable(database_name,delta_table_name,Schema_result, delta_location)"
   ]
  },
  {
   "cell_type": "markdown",
   "metadata": {
    "application/vnd.databricks.v1+cell": {
     "cellMetadata": {
      "byteLimit": 2048000,
      "rowLimit": 10000
     },
     "inputWidgets": {},
     "nuid": "6c39ea58-7b80-4074-a6cb-ec98b17d431b",
     "showTitle": false,
     "title": ""
    }
   },
   "source": [
    "##PUSH API"
   ]
  },
  {
   "cell_type": "code",
   "execution_count": 0,
   "metadata": {
    "application/vnd.databricks.v1+cell": {
     "cellMetadata": {
      "byteLimit": 2048000,
      "rowLimit": 10000
     },
     "inputWidgets": {},
     "nuid": "3771179f-0732-4a18-83fb-92d2d3ef6dd4",
     "showTitle": false,
     "title": ""
    }
   },
   "outputs": [
    {
     "output_type": "display_data",
     "data": {
      "text/html": [
       "<style scoped>\n",
       "  .ansiout {\n",
       "    display: block;\n",
       "    unicode-bidi: embed;\n",
       "    white-space: pre-wrap;\n",
       "    word-wrap: break-word;\n",
       "    word-break: break-all;\n",
       "    font-family: \"Source Code Pro\", \"Menlo\", monospace;;\n",
       "    font-size: 13px;\n",
       "    color: #555;\n",
       "    margin-left: 4px;\n",
       "    line-height: 19px;\n",
       "  }\n",
       "</style>\n",
       "<div class=\"ansiout\"></div>"
      ]
     },
     "metadata": {
      "application/vnd.databricks.v1+output": {
       "addedWidgets": {},
       "arguments": {},
       "data": "<div class=\"ansiout\"></div>",
       "datasetInfos": [],
       "metadata": {},
       "removedWidgets": [],
       "type": "html"
      }
     },
     "output_type": "display_data"
    }
   ],
   "source": [
    "from datetime import datetime\n",
    "import requests\n",
    "import json\n",
    "\n",
    "# copy \"Push URL\" from \"API Info\" in Power BI\n",
    "url = \"https://api.powerbi.com/beta/40127cd4-45f3-49a3-b05d-315a43a9f033/datasets/c1a66ac0-464a-49be-b83b-7e9f753edd51/rows?experience=power-bi&key=E68Rojr%2B4BQqlXalDeJMZFLqWCS%2F7uJuAlekLJ09T1ANSjyOSlf7zqiI47ZqiLEnrqTCAz1B7FfqCtzbw01zGg%3D%3D\"\n",
    "\n",
    "# # timestamps should be formatted like this\n",
    "# now = datetime.strftime(\n",
    "#   datetime.now(),\n",
    "#   \"%Y-%m-%dT%H:%M:%S\"\n",
    "#   )\n",
    "\n",
    "# post/push data to the streaming API\n",
    "headers = {\n",
    "  \"Content-Type\": \"application/json\"\n",
    "  }\n",
    "# def send_PowerBI(sdf):\n",
    "#     df = sdf.toPandas()\n",
    "#     for i in range(df.shape[0]):\n",
    "#         data = df.iloc[[i]].to_dict('records')\n",
    "        \n",
    "#         print(data)\n",
    "#         response = requests.request(\n",
    "#             method=\"POST\",\n",
    "#             url=url,\n",
    "#             headers=headers,\n",
    "#             data=json.dumps(data)\n",
    "#         )\n",
    "\n",
    "def send_PowerBI(sdf):\n",
    "    df = sdf.toPandas()\n",
    "    data = df.to_dict('records')\n",
    "    response = requests.request(\n",
    "            method=\"POST\",\n",
    "            url=url,\n",
    "            headers=headers,\n",
    "            data=json.dumps(data)\n",
    "        )"
   ]
  },
  {
   "cell_type": "markdown",
   "metadata": {
    "application/vnd.databricks.v1+cell": {
     "cellMetadata": {
      "byteLimit": 2048000,
      "rowLimit": 10000
     },
     "inputWidgets": {},
     "nuid": "598599cc-772d-43bf-9c8d-fc671875c8a5",
     "showTitle": false,
     "title": ""
    }
   },
   "source": [
    "# Start ReadStream and WriteStream"
   ]
  },
  {
   "cell_type": "code",
   "execution_count": 0,
   "metadata": {
    "application/vnd.databricks.v1+cell": {
     "cellMetadata": {
      "byteLimit": 2048000,
      "rowLimit": 10000
     },
     "inputWidgets": {},
     "nuid": "3a3ec54e-74de-4fc4-85fe-14811dfeb838",
     "showTitle": false,
     "title": ""
    }
   },
   "outputs": [
    {
     "output_type": "display_data",
     "data": {
      "text/html": [
       "<style scoped>\n",
       "  .ansiout {\n",
       "    display: block;\n",
       "    unicode-bidi: embed;\n",
       "    white-space: pre-wrap;\n",
       "    word-wrap: break-word;\n",
       "    word-break: break-all;\n",
       "    font-family: \"Source Code Pro\", \"Menlo\", monospace;;\n",
       "    font-size: 13px;\n",
       "    color: #555;\n",
       "    margin-left: 4px;\n",
       "    line-height: 19px;\n",
       "  }\n",
       "</style>\n",
       "<div class=\"ansiout\">Already mounted\n",
       "</div>"
      ]
     },
     "metadata": {
      "application/vnd.databricks.v1+output": {
       "addedWidgets": {},
       "arguments": {},
       "data": "<div class=\"ansiout\">Already mounted\n</div>",
       "datasetInfos": [],
       "metadata": {},
       "removedWidgets": [],
       "type": "html"
      }
     },
     "output_type": "display_data"
    }
   ],
   "source": [
    "from pyspark.dbutils import DBUtils\n",
    "\n",
    "# Khởi tạo dbutils\n",
    "dbutils = DBUtils(spark)\n",
    "\n",
    "# Thực hiện mount\n",
    "storage_account_name = \"blobstoragev1a\"\n",
    "storage_account_key = \"f6RVwgoUU0Pcu928b7uH4ez4EmmldXJHTCZb/UoVjMPBO+DtRycPEyOmMMDJnqGjC/8JSQJ4q5hs+AStFakvvA==\"\n",
    "endpoint_suffix = \"core.windows.net\"\n",
    "source = f\"wasbs://raw@{storage_account_name}.blob.{endpoint_suffix}/\"\n",
    "mount_point = \"/mnt/data_stream\"\n",
    "\n",
    "extra_configs = {\n",
    "    \"fs.azure.account.key.\" + storage_account_name + \".blob.\" + endpoint_suffix: storage_account_key\n",
    "}\n",
    "\n",
    "# Thực hiện mount\n",
    "try:\n",
    "    dbutils.fs.mount(\n",
    "        source=source,\n",
    "        mount_point=mount_point,\n",
    "        extra_configs=extra_configs\n",
    "    )\n",
    "except :\n",
    "    print('Already mounted')"
   ]
  },
  {
   "cell_type": "code",
   "execution_count": 0,
   "metadata": {
    "application/vnd.databricks.v1+cell": {
     "cellMetadata": {
      "byteLimit": 2048000,
      "rowLimit": 10000
     },
     "inputWidgets": {},
     "nuid": "3735d668-c7fb-4897-a5b6-4708449a176d",
     "showTitle": false,
     "title": ""
    }
   },
   "outputs": [
    {
     "output_type": "display_data",
     "data": {
      "text/html": [
       "<style scoped>\n",
       "  .ansiout {\n",
       "    display: block;\n",
       "    unicode-bidi: embed;\n",
       "    white-space: pre-wrap;\n",
       "    word-wrap: break-word;\n",
       "    word-break: break-all;\n",
       "    font-family: \"Source Code Pro\", \"Menlo\", monospace;;\n",
       "    font-size: 13px;\n",
       "    color: #555;\n",
       "    margin-left: 4px;\n",
       "    line-height: 19px;\n",
       "  }\n",
       "</style>\n",
       "<div class=\"ansiout\"></div>"
      ]
     },
     "metadata": {
      "application/vnd.databricks.v1+output": {
       "addedWidgets": {},
       "arguments": {},
       "data": "<div class=\"ansiout\"></div>",
       "datasetInfos": [],
       "metadata": {},
       "removedWidgets": [],
       "type": "html"
      }
     },
     "output_type": "display_data"
    }
   ],
   "source": [
    "# Cấu hình tùy chọn compute.ops_on_diff_frames\n",
    "spark.conf.set(\"compute.ops_on_diff_frames\", True)"
   ]
  },
  {
   "cell_type": "code",
   "execution_count": 0,
   "metadata": {
    "application/vnd.databricks.v1+cell": {
     "cellMetadata": {
      "byteLimit": 2048000,
      "rowLimit": 10000
     },
     "inputWidgets": {},
     "nuid": "ee145f59-c852-4c32-827f-36013e074882",
     "showTitle": false,
     "title": ""
    }
   },
   "outputs": [
    {
     "output_type": "display_data",
     "data": {
      "text/html": [
       "<style scoped>\n",
       "  .ansiout {\n",
       "    display: block;\n",
       "    unicode-bidi: embed;\n",
       "    white-space: pre-wrap;\n",
       "    word-wrap: break-word;\n",
       "    word-break: break-all;\n",
       "    font-family: \"Source Code Pro\", \"Menlo\", monospace;;\n",
       "    font-size: 13px;\n",
       "    color: #555;\n",
       "    margin-left: 4px;\n",
       "    line-height: 19px;\n",
       "  }\n",
       "</style>\n",
       "<div class=\"ansiout\">\r1/1 [==============================] - ETA: 0s\b\b\b\b\b\b\b\b\b\b\b\b\b\b\b\b\b\b\b\b\b\b\b\b\b\b\b\b\b\b\b\b\b\b\b\b\b\b\b\b\b\b\b\b\b\b\r1/1 [==============================] - 0s 98ms/step\n",
       "+----+----------+-------+-------------------+------------------+------------------------------------+----------------+----------------------------------------+------------------+-----------------+-----+-----------------+\n",
       "Cust|Project_ID|BatchID|Time (h)           |Sugar mass flow   |Water for injection/dilution(Fw:L/h)|Temperature(T:K)|Dissolved oxygen concentration(DO2:mg/L)|Vessel Volume(V:L)|pH(pH:pH)        |Temp |Predict          |\n",
       "+----+----------+-------+-------------------+------------------+------------------------------------+----------------+----------------------------------------+------------------+-----------------+-----+-----------------+\n",
       "NGUY|LUC-01    |1      |2023-07-30T22:06:03|0.4674894991415284|255.0                               |300.0           |14.533240583907457                      |71663.0           |6.000885257019501|300.0|24.78757095336914|\n",
       "+----+----------+-------+-------------------+------------------+------------------------------------+----------------+----------------------------------------+------------------+-----------------+-----+-----------------+\n",
       "\n",
       "\r1/1 [==============================] - ETA: 0s\b\b\b\b\b\b\b\b\b\b\b\b\b\b\b\b\b\b\b\b\b\b\b\b\b\b\b\b\b\b\b\b\b\b\b\b\b\b\b\b\b\b\b\b\b\b\r1/1 [==============================] - 0s 79ms/step\n",
       "+----+----------+-------+-------------------+-------------------+------------------------------------+----------------+----------------------------------------+------------------+------------------+-----+------------------+\n",
       "Cust|Project_ID|BatchID|Time (h)           |Sugar mass flow    |Water for injection/dilution(Fw:L/h)|Temperature(T:K)|Dissolved oxygen concentration(DO2:mg/L)|Vessel Volume(V:L)|pH(pH:pH)         |Temp |Predict           |\n",
       "+----+----------+-------+-------------------+-------------------+------------------------------------+----------------+----------------------------------------+------------------+------------------+-----+------------------+\n",
       "NGUY|LUC-01    |1      |2023-07-30T22:06:04|0.42251465110741654|260.0                               |300.0           |14.93764781700278                       |68650.0           |5.987540547055512 |300.0|24.043506622314453|\n",
       "NGUY|LUC-01    |1      |2023-07-30T22:06:04|0.42251465110741654|260.0                               |300.0           |14.93764781700278                       |68650.0           |5.987540547055512 |300.0|25.352794647216797|\n",
       "NGUY|LUC-01    |1      |2023-07-30T22:06:04|0.42251465110741654|260.0                               |300.0           |14.93764781700278                       |68650.0           |5.987540547055512 |300.0|23.247953414916992|\n",
       "NGUY|LUC-01    |1      |2023-07-30T22:06:04|0.42251465110741654|260.0                               |300.0           |14.93764781700278                       |68650.0           |5.987540547055512 |300.0|27.30622673034668 |\n",
       "NGUY|LUC-01    |1      |2023-07-30T22:06:05|0.5657820491751113 |258.0                               |301.0           |14.2640721090011                        |71408.0           |6.0742688935680755|301.0|24.043506622314453|\n",
       "NGUY|LUC-01    |1      |2023-07-30T22:06:05|0.5657820491751113 |258.0                               |301.0           |14.2640721090011                        |71408.0           |6.0742688935680755|301.0|25.352794647216797|\n",
       "NGUY|LUC-01    |1      |2023-07-30T22:06:05|0.5657820491751113 |258.0                               |301.0           |14.2640721090011                        |71408.0           |6.0742688935680755|301.0|23.247953414916992|\n",
       "NGUY|LUC-01    |1      |2023-07-30T22:06:05|0.5657820491751113 |258.0                               |301.0           |14.2640721090011                        |71408.0           |6.0742688935680755|301.0|27.30622673034668 |\n",
       "NGUY|LUC-01    |1      |2023-07-30T22:06:06|0.5367396030526014 |264.0                               |300.0           |14.083722031652936                      |69545.0           |6.357084327964528 |300.0|24.043506622314453|\n",
       "NGUY|LUC-01    |1      |2023-07-30T22:06:06|0.5367396030526014 |264.0                               |300.0           |14.083722031652936                      |69545.0           |6.357084327964528 |300.0|25.352794647216797|\n",
       "NGUY|LUC-01    |1      |2023-07-30T22:06:06|0.5367396030526014 |264.0                               |300.0           |14.083722031652936                      |69545.0           |6.357084327964528 |300.0|23.247953414916992|\n",
       "NGUY|LUC-01    |1      |2023-07-30T22:06:06|0.5367396030526014 |264.0                               |300.0           |14.083722031652936                      |69545.0           |6.357084327964528 |300.0|27.30622673034668 |\n",
       "NGUY|LUC-01    |1      |2023-07-30T22:06:07|0.4890853703811814 |257.0                               |302.0           |14.714251413296985                      |74874.0           |5.682226613005032 |302.0|24.043506622314453|\n",
       "NGUY|LUC-01    |1      |2023-07-30T22:06:07|0.4890853703811814 |257.0                               |302.0           |14.714251413296985                      |74874.0           |5.682226613005032 |302.0|25.352794647216797|\n",
       "NGUY|LUC-01    |1      |2023-07-30T22:06:07|0.4890853703811814 |257.0                               |302.0           |14.714251413296985                      |74874.0           |5.682226613005032 |302.0|23.247953414916992|\n",
       "NGUY|LUC-01    |1      |2023-07-30T22:06:07|0.4890853703811814 |257.0                               |302.0           |14.714251413296985                      |74874.0           |5.682226613005032 |302.0|27.30622673034668 |\n",
       "NGUY|LUC-01    |1      |2023-07-30T22:06:08|0.4446798690126325 |263.0                               |300.0           |14.027080534708052                      |72609.0           |5.727027583994312 |300.0|24.043506622314453|\n",
       "NGUY|LUC-01    |1      |2023-07-30T22:06:08|0.4446798690126325 |263.0                               |300.0           |14.027080534708052                      |72609.0           |5.727027583994312 |300.0|25.352794647216797|\n",
       "NGUY|LUC-01    |1      |2023-07-30T22:06:08|0.4446798690126325 |263.0                               |300.0           |14.027080534708052                      |72609.0           |5.727027583994312 |300.0|23.247953414916992|\n",
       "NGUY|LUC-01    |1      |2023-07-30T22:06:08|0.4446798690126325 |263.0                               |300.0           |14.027080534708052                      |72609.0           |5.727027583994312 |300.0|27.30622673034668 |\n",
       "+----+----------+-------+-------------------+-------------------+------------------------------------+----------------+----------------------------------------+------------------+------------------+-----+------------------+\n",
       "only showing top 20 rows\n",
       "\n",
       "\r1/1 [==============================] - ETA: 0s\b\b\b\b\b\b\b\b\b\b\b\b\b\b\b\b\b\b\b\b\b\b\b\b\b\b\b\b\b\b\b\b\b\b\b\b\b\b\b\b\b\b\b\b\b\b\r1/1 [==============================] - 0s 22ms/step\n",
       "+----+----------+-------+-------------------+-------------------+------------------------------------+----------------+----------------------------------------+------------------+-----------------+-----+------------------+\n",
       "Cust|Project_ID|BatchID|Time (h)           |Sugar mass flow    |Water for injection/dilution(Fw:L/h)|Temperature(T:K)|Dissolved oxygen concentration(DO2:mg/L)|Vessel Volume(V:L)|pH(pH:pH)        |Temp |Predict           |\n",
       "+----+----------+-------+-------------------+-------------------+------------------------------------+----------------+----------------------------------------+------------------+-----------------+-----+------------------+\n",
       "NGUY|LUC-01    |1      |2023-07-30T22:06:22|0.5401631102684015 |263.0                               |304.0           |14.454439209901311                      |71931.0           |6.281662741398107|304.0|21.382190704345703|\n",
       "NGUY|LUC-01    |1      |2023-07-30T22:06:22|0.5401631102684015 |263.0                               |304.0           |14.454439209901311                      |71931.0           |6.281662741398107|304.0|22.61935043334961 |\n",
       "NGUY|LUC-01    |1      |2023-07-30T22:06:23|0.3948898580395816 |259.0                               |305.0           |14.348195268699653                      |66140.0           |5.545934369394051|305.0|21.382190704345703|\n",
       "NGUY|LUC-01    |1      |2023-07-30T22:06:23|0.3948898580395816 |259.0                               |305.0           |14.348195268699653                      |66140.0           |5.545934369394051|305.0|22.61935043334961 |\n",
       "NGUY|LUC-01    |1      |2023-07-30T22:06:24|0.520374957440781  |260.0                               |304.0           |14.83498920952905                       |74676.0           |6.445613331092884|304.0|21.382190704345703|\n",
       "NGUY|LUC-01    |1      |2023-07-30T22:06:24|0.520374957440781  |260.0                               |304.0           |14.83498920952905                       |74676.0           |6.445613331092884|304.0|22.61935043334961 |\n",
       "NGUY|LUC-01    |1      |2023-07-30T22:06:25|0.5797870266189438 |263.0                               |300.0           |14.380023941313148                      |73576.0           |6.362830270084613|300.0|21.382190704345703|\n",
       "NGUY|LUC-01    |1      |2023-07-30T22:06:25|0.5797870266189438 |263.0                               |300.0           |14.380023941313148                      |73576.0           |6.362830270084613|300.0|22.61935043334961 |\n",
       "NGUY|LUC-01    |1      |2023-07-30T22:06:26|0.42151135852871996|255.0                               |300.0           |14.621155323535207                      |69919.0           |6.15597370218603 |300.0|21.382190704345703|\n",
       "NGUY|LUC-01    |1      |2023-07-30T22:06:26|0.42151135852871996|255.0                               |300.0           |14.621155323535207                      |69919.0           |6.15597370218603 |300.0|22.61935043334961 |\n",
       "NGUY|LUC-01    |1      |2023-07-30T22:06:27|0.4228948035717006 |262.0                               |300.0           |14.112095015221039                      |69385.0           |5.860106837801287|300.0|21.382190704345703|\n",
       "NGUY|LUC-01    |1      |2023-07-30T22:06:27|0.4228948035717006 |262.0                               |300.0           |14.112095015221039                      |69385.0           |5.860106837801287|300.0|22.61935043334961 |\n",
       "NGUY|LUC-01    |1      |2023-07-30T22:06:28|0.47079056368072897|263.0                               |303.0           |14.44309453850341                       |68632.0           |5.862759901919246|303.0|21.382190704345703|\n",
       "NGUY|LUC-01    |1      |2023-07-30T22:06:28|0.47079056368072897|263.0                               |303.0           |14.44309453850341                       |68632.0           |5.862759901919246|303.0|22.61935043334961 |\n",
       "NGUY|LUC-01    |1      |2023-07-30T22:06:29|0.47832486457603196|259.0                               |302.0           |14.15715980663889                       |72687.0           |5.608534119229101|302.0|21.382190704345703|\n",
       "NGUY|LUC-01    |1      |2023-07-30T22:06:29|0.47832486457603196|259.0                               |302.0           |14.15715980663889                       |72687.0           |5.608534119229101|302.0|22.61935043334961 |\n",
       "NGUY|LUC-01    |1      |2023-07-30T22:06:30|0.4707261105259503 |263.0                               |302.0           |14.919676253309548                      |65795.0           |6.282432111955066|302.0|21.382190704345703|\n",
       "NGUY|LUC-01    |1      |2023-07-30T22:06:30|0.4707261105259503 |263.0                               |302.0           |14.919676253309548                      |65795.0           |6.282432111955066|302.0|22.61935043334961 |\n",
       "NGUY|LUC-01    |1      |2023-07-30T22:06:31|0.5266558742298253 |259.0                               |300.0           |14.865845018826958                      |69062.0           |6.394443184144399|300.0|21.382190704345703|\n",
       "NGUY|LUC-01    |1      |2023-07-30T22:06:31|0.5266558742298253 |259.0                               |300.0           |14.865845018826958                      |69062.0           |6.394443184144399|300.0|22.61935043334961 |\n",
       "+----+----------+-------+-------------------+-------------------+------------------------------------+----------------+----------------------------------------+------------------+-----------------+-----+------------------+\n",
       "only showing top 20 rows\n",
       "\n",
       "\r1/1 [==============================] - ETA: 0s\b\b\b\b\b\b\b\b\b\b\b\b\b\b\b\b\b\b\b\b\b\b\b\b\b\b\b\b\b\b\b\b\b\b\b\b\b\b\b\b\b\b\b\b\b\b\r1/1 [==============================] - 0s 20ms/step\n",
       "+----+----------+-------+-------------------+-------------------+------------------------------------+----------------+----------------------------------------+------------------+-----------------+-----+------------------+\n",
       "Cust|Project_ID|BatchID|Time (h)           |Sugar mass flow    |Water for injection/dilution(Fw:L/h)|Temperature(T:K)|Dissolved oxygen concentration(DO2:mg/L)|Vessel Volume(V:L)|pH(pH:pH)        |Temp |Predict           |\n",
       "+----+----------+-------+-------------------+-------------------+------------------------------------+----------------+----------------------------------------+------------------+-----------------+-----+------------------+\n",
       "NGUY|LUC-01    |1      |2023-07-30T22:06:32|0.43353886309116274|260.0                               |305.0           |14.365857626370708                      |66737.0           |5.802108299563105|305.0|20.30158233642578 |\n",
       "NGUY|LUC-01    |1      |2023-07-30T22:06:33|0.4586089579580538 |262.0                               |301.0           |14.671780766682726                      |68209.0           |6.172914527279814|301.0|20.30158233642578 |\n",
       "NGUY|LUC-01    |1      |2023-07-30T22:06:34|0.5757765795058546 |256.0                               |304.0           |14.558708728890922                      |67353.0           |6.407762978284879|304.0|20.30158233642578 |\n",
       "NGUY|LUC-01    |1      |2023-07-30T22:06:35|0.46610920843511516|259.0                               |305.0           |14.271592163995797                      |74569.0           |6.395886699126555|305.0|20.30158233642578 |\n",
       "NGUY|LUC-01    |1      |2023-07-30T22:06:36|0.42170626843386205|263.0                               |304.0           |14.331659524331629                      |70358.0           |6.010619774254533|304.0|20.30158233642578 |\n",
       "NGUY|LUC-01    |1      |2023-07-30T22:06:32|0.43353886309116274|260.0                               |305.0           |14.365857626370708                      |66737.0           |5.802108299563105|305.0|23.150150299072266|\n",
       "NGUY|LUC-01    |1      |2023-07-30T22:06:33|0.4586089579580538 |262.0                               |301.0           |14.671780766682726                      |68209.0           |6.172914527279814|301.0|23.150150299072266|\n",
       "NGUY|LUC-01    |1      |2023-07-30T22:06:34|0.5757765795058546 |256.0                               |304.0           |14.558708728890922                      |67353.0           |6.407762978284879|304.0|23.150150299072266|\n",
       "NGUY|LUC-01    |1      |2023-07-30T22:06:35|0.46610920843511516|259.0                               |305.0           |14.271592163995797                      |74569.0           |6.395886699126555|305.0|23.150150299072266|\n",
       "NGUY|LUC-01    |1      |2023-07-30T22:06:36|0.42170626843386205|263.0                               |304.0           |14.331659524331629                      |70358.0           |6.010619774254533|304.0|23.150150299072266|\n",
       "NGUY|LUC-01    |1      |2023-07-30T22:06:32|0.43353886309116274|260.0                               |305.0           |14.365857626370708                      |66737.0           |5.802108299563105|305.0|16.94042205810547 |\n",
       "NGUY|LUC-01    |1      |2023-07-30T22:06:33|0.4586089579580538 |262.0                               |301.0           |14.671780766682726                      |68209.0           |6.172914527279814|301.0|16.94042205810547 |\n",
       "NGUY|LUC-01    |1      |2023-07-30T22:06:34|0.5757765795058546 |256.0                               |304.0           |14.558708728890922                      |67353.0           |6.407762978284879|304.0|16.94042205810547 |\n",
       "NGUY|LUC-01    |1      |2023-07-30T22:06:35|0.46610920843511516|259.0                               |305.0           |14.271592163995797                      |74569.0           |6.395886699126555|305.0|16.94042205810547 |\n",
       "NGUY|LUC-01    |1      |2023-07-30T22:06:36|0.42170626843386205|263.0                               |304.0           |14.331659524331629                      |70358.0           |6.010619774254533|304.0|16.94042205810547 |\n",
       "NGUY|LUC-01    |1      |2023-07-30T22:06:32|0.43353886309116274|260.0                               |305.0           |14.365857626370708                      |66737.0           |5.802108299563105|305.0|22.484825134277344|\n",
       "NGUY|LUC-01    |1      |2023-07-30T22:06:32|0.43353886309116274|260.0                               |305.0           |14.365857626370708                      |66737.0           |5.802108299563105|305.0|23.300418853759766|\n",
       "NGUY|LUC-01    |1      |2023-07-30T22:06:33|0.4586089579580538 |262.0                               |301.0           |14.671780766682726                      |68209.0           |6.172914527279814|301.0|22.484825134277344|\n",
       "NGUY|LUC-01    |1      |2023-07-30T22:06:33|0.4586089579580538 |262.0                               |301.0           |14.671780766682726                      |68209.0           |6.172914527279814|301.0|23.300418853759766|\n",
       "NGUY|LUC-01    |1      |2023-07-30T22:06:34|0.5757765795058546 |256.0                               |304.0           |14.558708728890922                      |67353.0           |6.407762978284879|304.0|22.484825134277344|\n",
       "+----+----------+-------+-------------------+-------------------+------------------------------------+----------------+----------------------------------------+------------------+-----------------+-----+------------------+\n",
       "only showing top 20 rows\n",
       "\n",
       "\r1/1 [==============================] - ETA: 0s\b\b\b\b\b\b\b\b\b\b\b\b\b\b\b\b\b\b\b\b\b\b\b\b\b\b\b\b\b\b\b\b\b\b\b\b\b\b\b\b\b\b\b\b\b\b\r1/1 [==============================] - 0s 24ms/step\n",
       "+----+----------+-------+-------------------+------------------+------------------------------------+----------------+----------------------------------------+------------------+-----------------+-----+------------------+\n",
       "Cust|Project_ID|BatchID|Time (h)           |Sugar mass flow   |Water for injection/dilution(Fw:L/h)|Temperature(T:K)|Dissolved oxygen concentration(DO2:mg/L)|Vessel Volume(V:L)|pH(pH:pH)        |Temp |Predict           |\n",
       "+----+----------+-------+-------------------+------------------+------------------------------------+----------------+----------------------------------------+------------------+-----------------+-----+------------------+\n",
       "NGUY|LUC-01    |1      |2023-07-30T22:06:57|0.4857598717955937|256.0                               |300.0           |14.802517322464329                      |68795.0           |6.475295705902732|300.0|22.689311981201172|\n",
       "+----+----------+-------+-------------------+------------------+------------------------------------+----------------+----------------------------------------+------------------+-----------------+-----+------------------+\n",
       "\n",
       "\r1/1 [==============================] - ETA: 0s\b\b\b\b\b\b\b\b\b\b\b\b\b\b\b\b\b\b\b\b\b\b\b\b\b\b\b\b\b\b\b\b\b\b\b\b\b\b\b\b\b\b\b\b\b\b\r1/1 [==============================] - 0s 26ms/step\n",
       "+----+----------+-------+-------------------+-------------------+------------------------------------+----------------+----------------------------------------+------------------+------------------+-----+------------------+\n",
       "Cust|Project_ID|BatchID|Time (h)           |Sugar mass flow    |Water for injection/dilution(Fw:L/h)|Temperature(T:K)|Dissolved oxygen concentration(DO2:mg/L)|Vessel Volume(V:L)|pH(pH:pH)         |Temp |Predict           |\n",
       "+----+----------+-------+-------------------+-------------------+------------------------------------+----------------+----------------------------------------+------------------+------------------+-----+------------------+\n",
       "NGUY|LUC-01    |1      |2023-07-30T22:06:59|0.5138752279639063 |262.0                               |303.0           |14.950030276159616                      |67708.0           |6.036647541010697 |303.0|22.605785369873047|\n",
       "NGUY|LUC-01    |1      |2023-07-30T22:07:01|0.5590601077413256 |256.0                               |305.0           |14.131922988758276                      |75125.0           |6.245897786832031 |305.0|22.605785369873047|\n",
       "NGUY|LUC-01    |1      |2023-07-30T22:07:03|0.44169278709283294|259.0                               |305.0           |14.119380869331192                      |70660.0           |5.9910663722053314|305.0|22.605785369873047|\n",
       "NGUY|LUC-01    |1      |2023-07-30T22:07:05|0.5697183939898574 |260.0                               |300.0           |14.822741335660812                      |67630.0           |5.813262399032032 |300.0|22.605785369873047|\n",
       "NGUY|LUC-01    |1      |2023-07-30T22:07:07|0.4646749155953562 |259.0                               |302.0           |14.966807809279736                      |66008.0           |5.68234990473617  |302.0|22.605785369873047|\n",
       "NGUY|LUC-01    |1      |2023-07-30T22:06:59|0.5138752279639063 |262.0                               |303.0           |14.950030276159616                      |67708.0           |6.036647541010697 |303.0|22.879070281982422|\n",
       "NGUY|LUC-01    |1      |2023-07-30T22:07:01|0.5590601077413256 |256.0                               |305.0           |14.131922988758276                      |75125.0           |6.245897786832031 |305.0|22.879070281982422|\n",
       "NGUY|LUC-01    |1      |2023-07-30T22:07:03|0.44169278709283294|259.0                               |305.0           |14.119380869331192                      |70660.0           |5.9910663722053314|305.0|22.879070281982422|\n",
       "NGUY|LUC-01    |1      |2023-07-30T22:07:05|0.5697183939898574 |260.0                               |300.0           |14.822741335660812                      |67630.0           |5.813262399032032 |300.0|22.879070281982422|\n",
       "NGUY|LUC-01    |1      |2023-07-30T22:07:07|0.4646749155953562 |259.0                               |302.0           |14.966807809279736                      |66008.0           |5.68234990473617  |302.0|22.879070281982422|\n",
       "NGUY|LUC-01    |1      |2023-07-30T22:06:59|0.5138752279639063 |262.0                               |303.0           |14.950030276159616                      |67708.0           |6.036647541010697 |303.0|22.258625030517578|\n",
       "NGUY|LUC-01    |1      |2023-07-30T22:07:01|0.5590601077413256 |256.0                               |305.0           |14.131922988758276                      |75125.0           |6.245897786832031 |305.0|22.258625030517578|\n",
       "NGUY|LUC-01    |1      |2023-07-30T22:07:03|0.44169278709283294|259.0                               |305.0           |14.119380869331192                      |70660.0           |5.9910663722053314|305.0|22.258625030517578|\n",
       "NGUY|LUC-01    |1      |2023-07-30T22:07:05|0.5697183939898574 |260.0                               |300.0           |14.822741335660812                      |67630.0           |5.813262399032032 |300.0|22.258625030517578|\n",
       "NGUY|LUC-01    |1      |2023-07-30T22:07:07|0.4646749155953562 |259.0                               |302.0           |14.966807809279736                      |66008.0           |5.68234990473617  |302.0|22.258625030517578|\n",
       "NGUY|LUC-01    |1      |2023-07-30T22:06:59|0.5138752279639063 |262.0                               |303.0           |14.950030276159616                      |67708.0           |6.036647541010697 |303.0|24.714021682739258|\n",
       "NGUY|LUC-01    |1      |2023-07-30T22:06:59|0.5138752279639063 |262.0                               |303.0           |14.950030276159616                      |67708.0           |6.036647541010697 |303.0|23.83971405029297 |\n",
       "NGUY|LUC-01    |1      |2023-07-30T22:07:01|0.5590601077413256 |256.0                               |305.0           |14.131922988758276                      |75125.0           |6.245897786832031 |305.0|24.714021682739258|\n",
       "NGUY|LUC-01    |1      |2023-07-30T22:07:01|0.5590601077413256 |256.0                               |305.0           |14.131922988758276                      |75125.0           |6.245897786832031 |305.0|23.83971405029297 |\n",
       "NGUY|LUC-01    |1      |2023-07-30T22:07:03|0.44169278709283294|259.0                               |305.0           |14.119380869331192                      |70660.0           |5.9910663722053314|305.0|24.714021682739258|\n",
       "+----+----------+-------+-------------------+-------------------+------------------------------------+----------------+----------------------------------------+------------------+------------------+-----+------------------+\n",
       "only showing top 20 rows\n",
       "\n",
       "\r1/1 [==============================] - ETA: 0s\b\b\b\b\b\b\b\b\b\b\b\b\b\b\b\b\b\b\b\b\b\b\b\b\b\b\b\b\b\b\b\b\b\b\b\b\b\b\b\b\b\b\b\b\b\b\r1/1 [==============================] - 0s 25ms/step\n",
       "+----+----------+-------+-------------------+-------------------+------------------------------------+----------------+----------------------------------------+------------------+-----------------+-----+------------------+\n",
       "\n",
       "*** WARNING: skipped 3144545 bytes of output ***\n",
       "\n",
       "NGUY|LUC-01    |1      |2023-07-30T23:43:20|0.5483952923732294 |263.0                               |304.0           |14.112257717774385                      |66191.0           |5.65778627086461 |304.0|24.467498779296875|\n",
       "NGUY|LUC-01    |1      |2023-07-30T23:43:23|0.4596293416178494 |262.0                               |302.0           |14.724848669515149                      |67127.0           |6.391828757025847|302.0|24.467498779296875|\n",
       "NGUY|LUC-01    |1      |2023-07-30T23:43:25|0.44857947786080904|264.0                               |302.0           |14.889795137362599                      |72213.0           |6.196567281274296|302.0|24.467498779296875|\n",
       "+----+----------+-------+-------------------+-------------------+------------------------------------+----------------+----------------------------------------+------------------+-----------------+-----+------------------+\n",
       "\n",
       "\r1/1 [==============================] - ETA: 0s\b\b\b\b\b\b\b\b\b\b\b\b\b\b\b\b\b\b\b\b\b\b\b\b\b\b\b\b\b\b\b\b\b\b\b\b\b\b\b\b\b\b\b\b\b\b\r1/1 [==============================] - 0s 20ms/step\n",
       "+----+----------+-------+-------------------+------------------+------------------------------------+----------------+----------------------------------------+------------------+-----------------+-----+------------------+\n",
       "Cust|Project_ID|BatchID|Time (h)           |Sugar mass flow   |Water for injection/dilution(Fw:L/h)|Temperature(T:K)|Dissolved oxygen concentration(DO2:mg/L)|Vessel Volume(V:L)|pH(pH:pH)        |Temp |Predict           |\n",
       "+----+----------+-------+-------------------+------------------+------------------------------------+----------------+----------------------------------------+------------------+-----------------+-----+------------------+\n",
       "NGUY|LUC-01    |1      |2023-07-30T23:43:27|0.4192622282982107|257.0                               |304.0           |14.759191693462512                      |71298.0           |5.74633487777789 |304.0|26.063491821289062|\n",
       "NGUY|LUC-01    |1      |2023-07-30T23:43:29|0.470594204210628 |260.0                               |305.0           |14.871637714845548                      |67419.0           |6.160859464736896|305.0|26.063491821289062|\n",
       "NGUY|LUC-01    |1      |2023-07-30T23:43:31|0.5297522970284692|265.0                               |305.0           |14.203697714391888                      |69224.0           |6.445992156506862|305.0|26.063491821289062|\n",
       "NGUY|LUC-01    |1      |2023-07-30T23:43:33|0.4284121809767185|264.0                               |300.0           |14.673199367251897                      |72572.0           |6.066535493527871|300.0|26.063491821289062|\n",
       "NGUY|LUC-01    |1      |2023-07-30T23:43:27|0.4192622282982107|257.0                               |304.0           |14.759191693462512                      |71298.0           |5.74633487777789 |304.0|17.24283790588379 |\n",
       "NGUY|LUC-01    |1      |2023-07-30T23:43:29|0.470594204210628 |260.0                               |305.0           |14.871637714845548                      |67419.0           |6.160859464736896|305.0|17.24283790588379 |\n",
       "NGUY|LUC-01    |1      |2023-07-30T23:43:31|0.5297522970284692|265.0                               |305.0           |14.203697714391888                      |69224.0           |6.445992156506862|305.0|17.24283790588379 |\n",
       "NGUY|LUC-01    |1      |2023-07-30T23:43:33|0.4284121809767185|264.0                               |300.0           |14.673199367251897                      |72572.0           |6.066535493527871|300.0|17.24283790588379 |\n",
       "NGUY|LUC-01    |1      |2023-07-30T23:43:27|0.4192622282982107|257.0                               |304.0           |14.759191693462512                      |71298.0           |5.74633487777789 |304.0|16.205272674560547|\n",
       "NGUY|LUC-01    |1      |2023-07-30T23:43:29|0.470594204210628 |260.0                               |305.0           |14.871637714845548                      |67419.0           |6.160859464736896|305.0|16.205272674560547|\n",
       "NGUY|LUC-01    |1      |2023-07-30T23:43:31|0.5297522970284692|265.0                               |305.0           |14.203697714391888                      |69224.0           |6.445992156506862|305.0|16.205272674560547|\n",
       "NGUY|LUC-01    |1      |2023-07-30T23:43:33|0.4284121809767185|264.0                               |300.0           |14.673199367251897                      |72572.0           |6.066535493527871|300.0|16.205272674560547|\n",
       "NGUY|LUC-01    |1      |2023-07-30T23:43:27|0.4192622282982107|257.0                               |304.0           |14.759191693462512                      |71298.0           |5.74633487777789 |304.0|24.1944580078125  |\n",
       "NGUY|LUC-01    |1      |2023-07-30T23:43:29|0.470594204210628 |260.0                               |305.0           |14.871637714845548                      |67419.0           |6.160859464736896|305.0|24.1944580078125  |\n",
       "NGUY|LUC-01    |1      |2023-07-30T23:43:31|0.5297522970284692|265.0                               |305.0           |14.203697714391888                      |69224.0           |6.445992156506862|305.0|24.1944580078125  |\n",
       "NGUY|LUC-01    |1      |2023-07-30T23:43:33|0.4284121809767185|264.0                               |300.0           |14.673199367251897                      |72572.0           |6.066535493527871|300.0|24.1944580078125  |\n",
       "+----+----------+-------+-------------------+------------------+------------------------------------+----------------+----------------------------------------+------------------+-----------------+-----+------------------+\n",
       "\n",
       "\r1/1 [==============================] - ETA: 0s\b\b\b\b\b\b\b\b\b\b\b\b\b\b\b\b\b\b\b\b\b\b\b\b\b\b\b\b\b\b\b\b\b\b\b\b\b\b\b\b\b\b\b\b\b\b\r1/1 [==============================] - 0s 22ms/step\n",
       "+----+----------+-------+-------------------+-------------------+------------------------------------+----------------+----------------------------------------+------------------+-----------------+-----+------------------+\n",
       "Cust|Project_ID|BatchID|Time (h)           |Sugar mass flow    |Water for injection/dilution(Fw:L/h)|Temperature(T:K)|Dissolved oxygen concentration(DO2:mg/L)|Vessel Volume(V:L)|pH(pH:pH)        |Temp |Predict           |\n",
       "+----+----------+-------+-------------------+-------------------+------------------------------------+----------------+----------------------------------------+------------------+-----------------+-----+------------------+\n",
       "NGUY|LUC-01    |1      |2023-07-30T23:43:35|0.4098392855649844 |255.0                               |302.0           |14.257690805772977                      |72912.0           |5.505428290584574|302.0|29.009323120117188|\n",
       "NGUY|LUC-01    |1      |2023-07-30T23:43:37|0.4169289169672502 |263.0                               |305.0           |14.15425865649999                       |70164.0           |5.908261158237569|305.0|29.009323120117188|\n",
       "NGUY|LUC-01    |1      |2023-07-30T23:43:39|0.5566048561890905 |259.0                               |305.0           |14.43857720699128                       |67249.0           |6.443193037042661|305.0|29.009323120117188|\n",
       "NGUY|LUC-01    |1      |2023-07-30T23:43:41|0.39324578416016626|255.0                               |300.0           |14.24083815682191                       |74345.0           |6.444275314837788|300.0|29.009323120117188|\n",
       "NGUY|LUC-01    |1      |2023-07-30T23:43:43|0.5432384280553811 |264.0                               |305.0           |14.705247393373725                      |66837.0           |5.87435620509222 |305.0|29.009323120117188|\n",
       "NGUY|LUC-01    |1      |2023-07-30T23:43:35|0.4098392855649844 |255.0                               |302.0           |14.257690805772977                      |72912.0           |5.505428290584574|302.0|22.631175994873047|\n",
       "NGUY|LUC-01    |1      |2023-07-30T23:43:37|0.4169289169672502 |263.0                               |305.0           |14.15425865649999                       |70164.0           |5.908261158237569|305.0|22.631175994873047|\n",
       "NGUY|LUC-01    |1      |2023-07-30T23:43:39|0.5566048561890905 |259.0                               |305.0           |14.43857720699128                       |67249.0           |6.443193037042661|305.0|22.631175994873047|\n",
       "NGUY|LUC-01    |1      |2023-07-30T23:43:41|0.39324578416016626|255.0                               |300.0           |14.24083815682191                       |74345.0           |6.444275314837788|300.0|22.631175994873047|\n",
       "NGUY|LUC-01    |1      |2023-07-30T23:43:43|0.5432384280553811 |264.0                               |305.0           |14.705247393373725                      |66837.0           |5.87435620509222 |305.0|22.631175994873047|\n",
       "NGUY|LUC-01    |1      |2023-07-30T23:43:35|0.4098392855649844 |255.0                               |302.0           |14.257690805772977                      |72912.0           |5.505428290584574|302.0|14.369216918945312|\n",
       "NGUY|LUC-01    |1      |2023-07-30T23:43:37|0.4169289169672502 |263.0                               |305.0           |14.15425865649999                       |70164.0           |5.908261158237569|305.0|14.369216918945312|\n",
       "NGUY|LUC-01    |1      |2023-07-30T23:43:39|0.5566048561890905 |259.0                               |305.0           |14.43857720699128                       |67249.0           |6.443193037042661|305.0|14.369216918945312|\n",
       "NGUY|LUC-01    |1      |2023-07-30T23:43:41|0.39324578416016626|255.0                               |300.0           |14.24083815682191                       |74345.0           |6.444275314837788|300.0|14.369216918945312|\n",
       "NGUY|LUC-01    |1      |2023-07-30T23:43:43|0.5432384280553811 |264.0                               |305.0           |14.705247393373725                      |66837.0           |5.87435620509222 |305.0|14.369216918945312|\n",
       "NGUY|LUC-01    |1      |2023-07-30T23:43:35|0.4098392855649844 |255.0                               |302.0           |14.257690805772977                      |72912.0           |5.505428290584574|302.0|21.842998504638672|\n",
       "NGUY|LUC-01    |1      |2023-07-30T23:43:35|0.4098392855649844 |255.0                               |302.0           |14.257690805772977                      |72912.0           |5.505428290584574|302.0|19.351411819458008|\n",
       "NGUY|LUC-01    |1      |2023-07-30T23:43:37|0.4169289169672502 |263.0                               |305.0           |14.15425865649999                       |70164.0           |5.908261158237569|305.0|21.842998504638672|\n",
       "NGUY|LUC-01    |1      |2023-07-30T23:43:37|0.4169289169672502 |263.0                               |305.0           |14.15425865649999                       |70164.0           |5.908261158237569|305.0|19.351411819458008|\n",
       "NGUY|LUC-01    |1      |2023-07-30T23:43:39|0.5566048561890905 |259.0                               |305.0           |14.43857720699128                       |67249.0           |6.443193037042661|305.0|21.842998504638672|\n",
       "+----+----------+-------+-------------------+-------------------+------------------------------------+----------------+----------------------------------------+------------------+-----------------+-----+------------------+\n",
       "only showing top 20 rows\n",
       "\n",
       "\r1/1 [==============================] - ETA: 0s\b\b\b\b\b\b\b\b\b\b\b\b\b\b\b\b\b\b\b\b\b\b\b\b\b\b\b\b\b\b\b\b\b\b\b\b\b\b\b\b\b\b\b\b\b\b\r1/1 [==============================] - 0s 21ms/step\n",
       "+----+----------+-------+-------------------+-------------------+------------------------------------+----------------+----------------------------------------+------------------+------------------+-----+------------------+\n",
       "Cust|Project_ID|BatchID|Time (h)           |Sugar mass flow    |Water for injection/dilution(Fw:L/h)|Temperature(T:K)|Dissolved oxygen concentration(DO2:mg/L)|Vessel Volume(V:L)|pH(pH:pH)         |Temp |Predict           |\n",
       "+----+----------+-------+-------------------+-------------------+------------------------------------+----------------+----------------------------------------+------------------+------------------+-----+------------------+\n",
       "NGUY|LUC-01    |1      |2023-07-30T23:43:45|0.42573718312914804|255.0                               |301.0           |14.922925657550193                      |67666.0           |5.864065734949557 |301.0|24.798728942871094|\n",
       "NGUY|LUC-01    |1      |2023-07-30T23:43:48|0.4580197874268153 |264.0                               |301.0           |14.965751436572202                      |69485.0           |5.596899207543428 |301.0|24.798728942871094|\n",
       "NGUY|LUC-01    |1      |2023-07-30T23:43:50|0.43281084198065967|259.0                               |305.0           |14.215619252360199                      |74933.0           |5.5082121121291685|305.0|24.798728942871094|\n",
       "NGUY|LUC-01    |1      |2023-07-30T23:43:52|0.4003627126311868 |261.0                               |300.0           |14.571309512858145                      |72703.0           |5.660956439919019 |300.0|24.798728942871094|\n",
       "NGUY|LUC-01    |1      |2023-07-30T23:43:45|0.42573718312914804|255.0                               |301.0           |14.922925657550193                      |67666.0           |5.864065734949557 |301.0|26.481399536132812|\n",
       "NGUY|LUC-01    |1      |2023-07-30T23:43:48|0.4580197874268153 |264.0                               |301.0           |14.965751436572202                      |69485.0           |5.596899207543428 |301.0|26.481399536132812|\n",
       "NGUY|LUC-01    |1      |2023-07-30T23:43:50|0.43281084198065967|259.0                               |305.0           |14.215619252360199                      |74933.0           |5.5082121121291685|305.0|26.481399536132812|\n",
       "NGUY|LUC-01    |1      |2023-07-30T23:43:52|0.4003627126311868 |261.0                               |300.0           |14.571309512858145                      |72703.0           |5.660956439919019 |300.0|26.481399536132812|\n",
       "NGUY|LUC-01    |1      |2023-07-30T23:43:45|0.42573718312914804|255.0                               |301.0           |14.922925657550193                      |67666.0           |5.864065734949557 |301.0|29.54132843017578 |\n",
       "NGUY|LUC-01    |1      |2023-07-30T23:43:48|0.4580197874268153 |264.0                               |301.0           |14.965751436572202                      |69485.0           |5.596899207543428 |301.0|29.54132843017578 |\n",
       "NGUY|LUC-01    |1      |2023-07-30T23:43:50|0.43281084198065967|259.0                               |305.0           |14.215619252360199                      |74933.0           |5.5082121121291685|305.0|29.54132843017578 |\n",
       "NGUY|LUC-01    |1      |2023-07-30T23:43:52|0.4003627126311868 |261.0                               |300.0           |14.571309512858145                      |72703.0           |5.660956439919019 |300.0|29.54132843017578 |\n",
       "NGUY|LUC-01    |1      |2023-07-30T23:43:45|0.42573718312914804|255.0                               |301.0           |14.922925657550193                      |67666.0           |5.864065734949557 |301.0|25.775100708007812|\n",
       "NGUY|LUC-01    |1      |2023-07-30T23:43:48|0.4580197874268153 |264.0                               |301.0           |14.965751436572202                      |69485.0           |5.596899207543428 |301.0|25.775100708007812|\n",
       "NGUY|LUC-01    |1      |2023-07-30T23:43:50|0.43281084198065967|259.0                               |305.0           |14.215619252360199                      |74933.0           |5.5082121121291685|305.0|25.775100708007812|\n",
       "NGUY|LUC-01    |1      |2023-07-30T23:43:52|0.4003627126311868 |261.0                               |300.0           |14.571309512858145                      |72703.0           |5.660956439919019 |300.0|25.775100708007812|\n",
       "+----+----------+-------+-------------------+-------------------+------------------------------------+----------------+----------------------------------------+------------------+------------------+-----+------------------+\n",
       "\n",
       "\r1/1 [==============================] - ETA: 0s\b\b\b\b\b\b\b\b\b\b\b\b\b\b\b\b\b\b\b\b\b\b\b\b\b\b\b\b\b\b\b\b\b\b\b\b\b\b\b\b\b\b\b\b\b\b\r1/1 [==============================] - 0s 22ms/step\n",
       "+----+----------+-------+-------------------+------------------+------------------------------------+----------------+----------------------------------------+------------------+-----------------+-----+------------------+\n",
       "Cust|Project_ID|BatchID|Time (h)           |Sugar mass flow   |Water for injection/dilution(Fw:L/h)|Temperature(T:K)|Dissolved oxygen concentration(DO2:mg/L)|Vessel Volume(V:L)|pH(pH:pH)        |Temp |Predict           |\n",
       "+----+----------+-------+-------------------+------------------+------------------------------------+----------------+----------------------------------------+------------------+-----------------+-----+------------------+\n",
       "NGUY|LUC-01    |1      |2023-07-30T23:43:54|0.4002075861851681|261.0                               |303.0           |14.41282152254542                       |72321.0           |5.651744783688017|303.0|28.27408790588379 |\n",
       "NGUY|LUC-01    |1      |2023-07-30T23:43:56|0.408771246002131 |265.0                               |303.0           |14.680206649268282                      |74795.0           |6.040562282985828|303.0|28.27408790588379 |\n",
       "NGUY|LUC-01    |1      |2023-07-30T23:43:58|0.558422835085618 |255.0                               |303.0           |14.304173302609776                      |67265.0           |6.092594717891029|303.0|28.27408790588379 |\n",
       "NGUY|LUC-01    |1      |2023-07-30T23:44:00|0.4507351431323558|262.0                               |301.0           |14.245405646243782                      |67366.0           |5.800479603734855|301.0|28.27408790588379 |\n",
       "NGUY|LUC-01    |1      |2023-07-30T23:43:54|0.4002075861851681|261.0                               |303.0           |14.41282152254542                       |72321.0           |5.651744783688017|303.0|25.85405731201172 |\n",
       "NGUY|LUC-01    |1      |2023-07-30T23:43:56|0.408771246002131 |265.0                               |303.0           |14.680206649268282                      |74795.0           |6.040562282985828|303.0|25.85405731201172 |\n",
       "NGUY|LUC-01    |1      |2023-07-30T23:43:58|0.558422835085618 |255.0                               |303.0           |14.304173302609776                      |67265.0           |6.092594717891029|303.0|25.85405731201172 |\n",
       "NGUY|LUC-01    |1      |2023-07-30T23:44:00|0.4507351431323558|262.0                               |301.0           |14.245405646243782                      |67366.0           |5.800479603734855|301.0|25.85405731201172 |\n",
       "NGUY|LUC-01    |1      |2023-07-30T23:43:54|0.4002075861851681|261.0                               |303.0           |14.41282152254542                       |72321.0           |5.651744783688017|303.0|22.137418746948242|\n",
       "NGUY|LUC-01    |1      |2023-07-30T23:43:56|0.408771246002131 |265.0                               |303.0           |14.680206649268282                      |74795.0           |6.040562282985828|303.0|22.137418746948242|\n",
       "NGUY|LUC-01    |1      |2023-07-30T23:43:58|0.558422835085618 |255.0                               |303.0           |14.304173302609776                      |67265.0           |6.092594717891029|303.0|22.137418746948242|\n",
       "NGUY|LUC-01    |1      |2023-07-30T23:44:00|0.4507351431323558|262.0                               |301.0           |14.245405646243782                      |67366.0           |5.800479603734855|301.0|22.137418746948242|\n",
       "NGUY|LUC-01    |1      |2023-07-30T23:43:54|0.4002075861851681|261.0                               |303.0           |14.41282152254542                       |72321.0           |5.651744783688017|303.0|25.37659454345703 |\n",
       "NGUY|LUC-01    |1      |2023-07-30T23:43:56|0.408771246002131 |265.0                               |303.0           |14.680206649268282                      |74795.0           |6.040562282985828|303.0|25.37659454345703 |\n",
       "NGUY|LUC-01    |1      |2023-07-30T23:43:58|0.558422835085618 |255.0                               |303.0           |14.304173302609776                      |67265.0           |6.092594717891029|303.0|25.37659454345703 |\n",
       "NGUY|LUC-01    |1      |2023-07-30T23:44:00|0.4507351431323558|262.0                               |301.0           |14.245405646243782                      |67366.0           |5.800479603734855|301.0|25.37659454345703 |\n",
       "+----+----------+-------+-------------------+------------------+------------------------------------+----------------+----------------------------------------+------------------+-----------------+-----+------------------+\n",
       "\n",
       "\r1/1 [==============================] - ETA: 0s\b\b\b\b\b\b\b\b\b\b\b\b\b\b\b\b\b\b\b\b\b\b\b\b\b\b\b\b\b\b\b\b\b\b\b\b\b\b\b\b\b\b\b\b\b\b\r1/1 [==============================] - 0s 22ms/step\n",
       "+----+----------+-------+-------------------+-------------------+------------------------------------+----------------+----------------------------------------+------------------+------------------+-----+------------------+\n",
       "Cust|Project_ID|BatchID|Time (h)           |Sugar mass flow    |Water for injection/dilution(Fw:L/h)|Temperature(T:K)|Dissolved oxygen concentration(DO2:mg/L)|Vessel Volume(V:L)|pH(pH:pH)         |Temp |Predict           |\n",
       "+----+----------+-------+-------------------+-------------------+------------------------------------+----------------+----------------------------------------+------------------+------------------+-----+------------------+\n",
       "NGUY|LUC-01    |1      |2023-07-30T23:44:02|0.5181731122719987 |255.0                               |301.0           |14.661648498903139                      |67798.0           |6.407290098972044 |301.0|22.628463745117188|\n",
       "NGUY|LUC-01    |1      |2023-07-30T23:44:04|0.4223139756168662 |261.0                               |303.0           |14.713452896732473                      |65828.0           |5.643301399477224 |303.0|22.628463745117188|\n",
       "NGUY|LUC-01    |1      |2023-07-30T23:44:06|0.5028295703665161 |259.0                               |300.0           |14.116446552493677                      |74669.0           |6.2525962701644175|300.0|22.628463745117188|\n",
       "NGUY|LUC-01    |1      |2023-07-30T23:44:08|0.48651275128779387|261.0                               |302.0           |14.612694212297287                      |65537.0           |6.108802558054258 |302.0|22.628463745117188|\n",
       "NGUY|LUC-01    |1      |2023-07-30T23:44:02|0.5181731122719987 |255.0                               |301.0           |14.661648498903139                      |67798.0           |6.407290098972044 |301.0|23.922039031982422|\n",
       "NGUY|LUC-01    |1      |2023-07-30T23:44:04|0.4223139756168662 |261.0                               |303.0           |14.713452896732473                      |65828.0           |5.643301399477224 |303.0|23.922039031982422|\n",
       "NGUY|LUC-01    |1      |2023-07-30T23:44:06|0.5028295703665161 |259.0                               |300.0           |14.116446552493677                      |74669.0           |6.2525962701644175|300.0|23.922039031982422|\n",
       "NGUY|LUC-01    |1      |2023-07-30T23:44:08|0.48651275128779387|261.0                               |302.0           |14.612694212297287                      |65537.0           |6.108802558054258 |302.0|23.922039031982422|\n",
       "NGUY|LUC-01    |1      |2023-07-30T23:44:02|0.5181731122719987 |255.0                               |301.0           |14.661648498903139                      |67798.0           |6.407290098972044 |301.0|22.75156021118164 |\n",
       "NGUY|LUC-01    |1      |2023-07-30T23:44:04|0.4223139756168662 |261.0                               |303.0           |14.713452896732473                      |65828.0           |5.643301399477224 |303.0|22.75156021118164 |\n",
       "NGUY|LUC-01    |1      |2023-07-30T23:44:06|0.5028295703665161 |259.0                               |300.0           |14.116446552493677                      |74669.0           |6.2525962701644175|300.0|22.75156021118164 |\n",
       "NGUY|LUC-01    |1      |2023-07-30T23:44:08|0.48651275128779387|261.0                               |302.0           |14.612694212297287                      |65537.0           |6.108802558054258 |302.0|22.75156021118164 |\n",
       "NGUY|LUC-01    |1      |2023-07-30T23:44:02|0.5181731122719987 |255.0                               |301.0           |14.661648498903139                      |67798.0           |6.407290098972044 |301.0|21.041847229003906|\n",
       "NGUY|LUC-01    |1      |2023-07-30T23:44:04|0.4223139756168662 |261.0                               |303.0           |14.713452896732473                      |65828.0           |5.643301399477224 |303.0|21.041847229003906|\n",
       "NGUY|LUC-01    |1      |2023-07-30T23:44:06|0.5028295703665161 |259.0                               |300.0           |14.116446552493677                      |74669.0           |6.2525962701644175|300.0|21.041847229003906|\n",
       "NGUY|LUC-01    |1      |2023-07-30T23:44:08|0.48651275128779387|261.0                               |302.0           |14.612694212297287                      |65537.0           |6.108802558054258 |302.0|21.041847229003906|\n",
       "+----+----------+-------+-------------------+-------------------+------------------------------------+----------------+----------------------------------------+------------------+------------------+-----+------------------+\n",
       "\n",
       "</div>"
      ]
     },
     "metadata": {
      "application/vnd.databricks.v1+output": {
       "addedWidgets": {},
       "arguments": {},
       "data": "<div class=\"ansiout\">\r1/1 [==============================] - ETA: 0s\b\b\b\b\b\b\b\b\b\b\b\b\b\b\b\b\b\b\b\b\b\b\b\b\b\b\b\b\b\b\b\b\b\b\b\b\b\b\b\b\b\b\b\b\b\b\r1/1 [==============================] - 0s 98ms/step\n+----+----------+-------+-------------------+------------------+------------------------------------+----------------+----------------------------------------+------------------+-----------------+-----+-----------------+\n|Cust|Project_ID|BatchID|Time (h)           |Sugar mass flow   |Water for injection/dilution(Fw:L/h)|Temperature(T:K)|Dissolved oxygen concentration(DO2:mg/L)|Vessel Volume(V:L)|pH(pH:pH)        |Temp |Predict          |\n+----+----------+-------+-------------------+------------------+------------------------------------+----------------+----------------------------------------+------------------+-----------------+-----+-----------------+\n|NGUY|LUC-01    |1      |2023-07-30T22:06:03|0.4674894991415284|255.0                               |300.0           |14.533240583907457                      |71663.0           |6.000885257019501|300.0|24.78757095336914|\n+----+----------+-------+-------------------+------------------+------------------------------------+----------------+----------------------------------------+------------------+-----------------+-----+-----------------+\n\n\r1/1 [==============================] - ETA: 0s\b\b\b\b\b\b\b\b\b\b\b\b\b\b\b\b\b\b\b\b\b\b\b\b\b\b\b\b\b\b\b\b\b\b\b\b\b\b\b\b\b\b\b\b\b\b\r1/1 [==============================] - 0s 79ms/step\n+----+----------+-------+-------------------+-------------------+------------------------------------+----------------+----------------------------------------+------------------+------------------+-----+------------------+\n|Cust|Project_ID|BatchID|Time (h)           |Sugar mass flow    |Water for injection/dilution(Fw:L/h)|Temperature(T:K)|Dissolved oxygen concentration(DO2:mg/L)|Vessel Volume(V:L)|pH(pH:pH)         |Temp |Predict           |\n+----+----------+-------+-------------------+-------------------+------------------------------------+----------------+----------------------------------------+------------------+------------------+-----+------------------+\n|NGUY|LUC-01    |1      |2023-07-30T22:06:04|0.42251465110741654|260.0                               |300.0           |14.93764781700278                       |68650.0           |5.987540547055512 |300.0|24.043506622314453|\n|NGUY|LUC-01    |1      |2023-07-30T22:06:04|0.42251465110741654|260.0                               |300.0           |14.93764781700278                       |68650.0           |5.987540547055512 |300.0|25.352794647216797|\n|NGUY|LUC-01    |1      |2023-07-30T22:06:04|0.42251465110741654|260.0                               |300.0           |14.93764781700278                       |68650.0           |5.987540547055512 |300.0|23.247953414916992|\n|NGUY|LUC-01    |1      |2023-07-30T22:06:04|0.42251465110741654|260.0                               |300.0           |14.93764781700278                       |68650.0           |5.987540547055512 |300.0|27.30622673034668 |\n|NGUY|LUC-01    |1      |2023-07-30T22:06:05|0.5657820491751113 |258.0                               |301.0           |14.2640721090011                        |71408.0           |6.0742688935680755|301.0|24.043506622314453|\n|NGUY|LUC-01    |1      |2023-07-30T22:06:05|0.5657820491751113 |258.0                               |301.0           |14.2640721090011                        |71408.0           |6.0742688935680755|301.0|25.352794647216797|\n|NGUY|LUC-01    |1      |2023-07-30T22:06:05|0.5657820491751113 |258.0                               |301.0           |14.2640721090011                        |71408.0           |6.0742688935680755|301.0|23.247953414916992|\n|NGUY|LUC-01    |1      |2023-07-30T22:06:05|0.5657820491751113 |258.0                               |301.0           |14.2640721090011                        |71408.0           |6.0742688935680755|301.0|27.30622673034668 |\n|NGUY|LUC-01    |1      |2023-07-30T22:06:06|0.5367396030526014 |264.0                               |300.0           |14.083722031652936                      |69545.0           |6.357084327964528 |300.0|24.043506622314453|\n|NGUY|LUC-01    |1      |2023-07-30T22:06:06|0.5367396030526014 |264.0                               |300.0           |14.083722031652936                      |69545.0           |6.357084327964528 |300.0|25.352794647216797|\n|NGUY|LUC-01    |1      |2023-07-30T22:06:06|0.5367396030526014 |264.0                               |300.0           |14.083722031652936                      |69545.0           |6.357084327964528 |300.0|23.247953414916992|\n|NGUY|LUC-01    |1      |2023-07-30T22:06:06|0.5367396030526014 |264.0                               |300.0           |14.083722031652936                      |69545.0           |6.357084327964528 |300.0|27.30622673034668 |\n|NGUY|LUC-01    |1      |2023-07-30T22:06:07|0.4890853703811814 |257.0                               |302.0           |14.714251413296985                      |74874.0           |5.682226613005032 |302.0|24.043506622314453|\n|NGUY|LUC-01    |1      |2023-07-30T22:06:07|0.4890853703811814 |257.0                               |302.0           |14.714251413296985                      |74874.0           |5.682226613005032 |302.0|25.352794647216797|\n|NGUY|LUC-01    |1      |2023-07-30T22:06:07|0.4890853703811814 |257.0                               |302.0           |14.714251413296985                      |74874.0           |5.682226613005032 |302.0|23.247953414916992|\n|NGUY|LUC-01    |1      |2023-07-30T22:06:07|0.4890853703811814 |257.0                               |302.0           |14.714251413296985                      |74874.0           |5.682226613005032 |302.0|27.30622673034668 |\n|NGUY|LUC-01    |1      |2023-07-30T22:06:08|0.4446798690126325 |263.0                               |300.0           |14.027080534708052                      |72609.0           |5.727027583994312 |300.0|24.043506622314453|\n|NGUY|LUC-01    |1      |2023-07-30T22:06:08|0.4446798690126325 |263.0                               |300.0           |14.027080534708052                      |72609.0           |5.727027583994312 |300.0|25.352794647216797|\n|NGUY|LUC-01    |1      |2023-07-30T22:06:08|0.4446798690126325 |263.0                               |300.0           |14.027080534708052                      |72609.0           |5.727027583994312 |300.0|23.247953414916992|\n|NGUY|LUC-01    |1      |2023-07-30T22:06:08|0.4446798690126325 |263.0                               |300.0           |14.027080534708052                      |72609.0           |5.727027583994312 |300.0|27.30622673034668 |\n+----+----------+-------+-------------------+-------------------+------------------------------------+----------------+----------------------------------------+------------------+------------------+-----+------------------+\nonly showing top 20 rows\n\n\r1/1 [==============================] - ETA: 0s\b\b\b\b\b\b\b\b\b\b\b\b\b\b\b\b\b\b\b\b\b\b\b\b\b\b\b\b\b\b\b\b\b\b\b\b\b\b\b\b\b\b\b\b\b\b\r1/1 [==============================] - 0s 22ms/step\n+----+----------+-------+-------------------+-------------------+------------------------------------+----------------+----------------------------------------+------------------+-----------------+-----+------------------+\n|Cust|Project_ID|BatchID|Time (h)           |Sugar mass flow    |Water for injection/dilution(Fw:L/h)|Temperature(T:K)|Dissolved oxygen concentration(DO2:mg/L)|Vessel Volume(V:L)|pH(pH:pH)        |Temp |Predict           |\n+----+----------+-------+-------------------+-------------------+------------------------------------+----------------+----------------------------------------+------------------+-----------------+-----+------------------+\n|NGUY|LUC-01    |1      |2023-07-30T22:06:22|0.5401631102684015 |263.0                               |304.0           |14.454439209901311                      |71931.0           |6.281662741398107|304.0|21.382190704345703|\n|NGUY|LUC-01    |1      |2023-07-30T22:06:22|0.5401631102684015 |263.0                               |304.0           |14.454439209901311                      |71931.0           |6.281662741398107|304.0|22.61935043334961 |\n|NGUY|LUC-01    |1      |2023-07-30T22:06:23|0.3948898580395816 |259.0                               |305.0           |14.348195268699653                      |66140.0           |5.545934369394051|305.0|21.382190704345703|\n|NGUY|LUC-01    |1      |2023-07-30T22:06:23|0.3948898580395816 |259.0                               |305.0           |14.348195268699653                      |66140.0           |5.545934369394051|305.0|22.61935043334961 |\n|NGUY|LUC-01    |1      |2023-07-30T22:06:24|0.520374957440781  |260.0                               |304.0           |14.83498920952905                       |74676.0           |6.445613331092884|304.0|21.382190704345703|\n|NGUY|LUC-01    |1      |2023-07-30T22:06:24|0.520374957440781  |260.0                               |304.0           |14.83498920952905                       |74676.0           |6.445613331092884|304.0|22.61935043334961 |\n|NGUY|LUC-01    |1      |2023-07-30T22:06:25|0.5797870266189438 |263.0                               |300.0           |14.380023941313148                      |73576.0           |6.362830270084613|300.0|21.382190704345703|\n|NGUY|LUC-01    |1      |2023-07-30T22:06:25|0.5797870266189438 |263.0                               |300.0           |14.380023941313148                      |73576.0           |6.362830270084613|300.0|22.61935043334961 |\n|NGUY|LUC-01    |1      |2023-07-30T22:06:26|0.42151135852871996|255.0                               |300.0           |14.621155323535207                      |69919.0           |6.15597370218603 |300.0|21.382190704345703|\n|NGUY|LUC-01    |1      |2023-07-30T22:06:26|0.42151135852871996|255.0                               |300.0           |14.621155323535207                      |69919.0           |6.15597370218603 |300.0|22.61935043334961 |\n|NGUY|LUC-01    |1      |2023-07-30T22:06:27|0.4228948035717006 |262.0                               |300.0           |14.112095015221039                      |69385.0           |5.860106837801287|300.0|21.382190704345703|\n|NGUY|LUC-01    |1      |2023-07-30T22:06:27|0.4228948035717006 |262.0                               |300.0           |14.112095015221039                      |69385.0           |5.860106837801287|300.0|22.61935043334961 |\n|NGUY|LUC-01    |1      |2023-07-30T22:06:28|0.47079056368072897|263.0                               |303.0           |14.44309453850341                       |68632.0           |5.862759901919246|303.0|21.382190704345703|\n|NGUY|LUC-01    |1      |2023-07-30T22:06:28|0.47079056368072897|263.0                               |303.0           |14.44309453850341                       |68632.0           |5.862759901919246|303.0|22.61935043334961 |\n|NGUY|LUC-01    |1      |2023-07-30T22:06:29|0.47832486457603196|259.0                               |302.0           |14.15715980663889                       |72687.0           |5.608534119229101|302.0|21.382190704345703|\n|NGUY|LUC-01    |1      |2023-07-30T22:06:29|0.47832486457603196|259.0                               |302.0           |14.15715980663889                       |72687.0           |5.608534119229101|302.0|22.61935043334961 |\n|NGUY|LUC-01    |1      |2023-07-30T22:06:30|0.4707261105259503 |263.0                               |302.0           |14.919676253309548                      |65795.0           |6.282432111955066|302.0|21.382190704345703|\n|NGUY|LUC-01    |1      |2023-07-30T22:06:30|0.4707261105259503 |263.0                               |302.0           |14.919676253309548                      |65795.0           |6.282432111955066|302.0|22.61935043334961 |\n|NGUY|LUC-01    |1      |2023-07-30T22:06:31|0.5266558742298253 |259.0                               |300.0           |14.865845018826958                      |69062.0           |6.394443184144399|300.0|21.382190704345703|\n|NGUY|LUC-01    |1      |2023-07-30T22:06:31|0.5266558742298253 |259.0                               |300.0           |14.865845018826958                      |69062.0           |6.394443184144399|300.0|22.61935043334961 |\n+----+----------+-------+-------------------+-------------------+------------------------------------+----------------+----------------------------------------+------------------+-----------------+-----+------------------+\nonly showing top 20 rows\n\n\r1/1 [==============================] - ETA: 0s\b\b\b\b\b\b\b\b\b\b\b\b\b\b\b\b\b\b\b\b\b\b\b\b\b\b\b\b\b\b\b\b\b\b\b\b\b\b\b\b\b\b\b\b\b\b\r1/1 [==============================] - 0s 20ms/step\n+----+----------+-------+-------------------+-------------------+------------------------------------+----------------+----------------------------------------+------------------+-----------------+-----+------------------+\n|Cust|Project_ID|BatchID|Time (h)           |Sugar mass flow    |Water for injection/dilution(Fw:L/h)|Temperature(T:K)|Dissolved oxygen concentration(DO2:mg/L)|Vessel Volume(V:L)|pH(pH:pH)        |Temp |Predict           |\n+----+----------+-------+-------------------+-------------------+------------------------------------+----------------+----------------------------------------+------------------+-----------------+-----+------------------+\n|NGUY|LUC-01    |1      |2023-07-30T22:06:32|0.43353886309116274|260.0                               |305.0           |14.365857626370708                      |66737.0           |5.802108299563105|305.0|20.30158233642578 |\n|NGUY|LUC-01    |1      |2023-07-30T22:06:33|0.4586089579580538 |262.0                               |301.0           |14.671780766682726                      |68209.0           |6.172914527279814|301.0|20.30158233642578 |\n|NGUY|LUC-01    |1      |2023-07-30T22:06:34|0.5757765795058546 |256.0                               |304.0           |14.558708728890922                      |67353.0           |6.407762978284879|304.0|20.30158233642578 |\n|NGUY|LUC-01    |1      |2023-07-30T22:06:35|0.46610920843511516|259.0                               |305.0           |14.271592163995797                      |74569.0           |6.395886699126555|305.0|20.30158233642578 |\n|NGUY|LUC-01    |1      |2023-07-30T22:06:36|0.42170626843386205|263.0                               |304.0           |14.331659524331629                      |70358.0           |6.010619774254533|304.0|20.30158233642578 |\n|NGUY|LUC-01    |1      |2023-07-30T22:06:32|0.43353886309116274|260.0                               |305.0           |14.365857626370708                      |66737.0           |5.802108299563105|305.0|23.150150299072266|\n|NGUY|LUC-01    |1      |2023-07-30T22:06:33|0.4586089579580538 |262.0                               |301.0           |14.671780766682726                      |68209.0           |6.172914527279814|301.0|23.150150299072266|\n|NGUY|LUC-01    |1      |2023-07-30T22:06:34|0.5757765795058546 |256.0                               |304.0           |14.558708728890922                      |67353.0           |6.407762978284879|304.0|23.150150299072266|\n|NGUY|LUC-01    |1      |2023-07-30T22:06:35|0.46610920843511516|259.0                               |305.0           |14.271592163995797                      |74569.0           |6.395886699126555|305.0|23.150150299072266|\n|NGUY|LUC-01    |1      |2023-07-30T22:06:36|0.42170626843386205|263.0                               |304.0           |14.331659524331629                      |70358.0           |6.010619774254533|304.0|23.150150299072266|\n|NGUY|LUC-01    |1      |2023-07-30T22:06:32|0.43353886309116274|260.0                               |305.0           |14.365857626370708                      |66737.0           |5.802108299563105|305.0|16.94042205810547 |\n|NGUY|LUC-01    |1      |2023-07-30T22:06:33|0.4586089579580538 |262.0                               |301.0           |14.671780766682726                      |68209.0           |6.172914527279814|301.0|16.94042205810547 |\n|NGUY|LUC-01    |1      |2023-07-30T22:06:34|0.5757765795058546 |256.0                               |304.0           |14.558708728890922                      |67353.0           |6.407762978284879|304.0|16.94042205810547 |\n|NGUY|LUC-01    |1      |2023-07-30T22:06:35|0.46610920843511516|259.0                               |305.0           |14.271592163995797                      |74569.0           |6.395886699126555|305.0|16.94042205810547 |\n|NGUY|LUC-01    |1      |2023-07-30T22:06:36|0.42170626843386205|263.0                               |304.0           |14.331659524331629                      |70358.0           |6.010619774254533|304.0|16.94042205810547 |\n|NGUY|LUC-01    |1      |2023-07-30T22:06:32|0.43353886309116274|260.0                               |305.0           |14.365857626370708                      |66737.0           |5.802108299563105|305.0|22.484825134277344|\n|NGUY|LUC-01    |1      |2023-07-30T22:06:32|0.43353886309116274|260.0                               |305.0           |14.365857626370708                      |66737.0           |5.802108299563105|305.0|23.300418853759766|\n|NGUY|LUC-01    |1      |2023-07-30T22:06:33|0.4586089579580538 |262.0                               |301.0           |14.671780766682726                      |68209.0           |6.172914527279814|301.0|22.484825134277344|\n|NGUY|LUC-01    |1      |2023-07-30T22:06:33|0.4586089579580538 |262.0                               |301.0           |14.671780766682726                      |68209.0           |6.172914527279814|301.0|23.300418853759766|\n|NGUY|LUC-01    |1      |2023-07-30T22:06:34|0.5757765795058546 |256.0                               |304.0           |14.558708728890922                      |67353.0           |6.407762978284879|304.0|22.484825134277344|\n+----+----------+-------+-------------------+-------------------+------------------------------------+----------------+----------------------------------------+------------------+-----------------+-----+------------------+\nonly showing top 20 rows\n\n\r1/1 [==============================] - ETA: 0s\b\b\b\b\b\b\b\b\b\b\b\b\b\b\b\b\b\b\b\b\b\b\b\b\b\b\b\b\b\b\b\b\b\b\b\b\b\b\b\b\b\b\b\b\b\b\r1/1 [==============================] - 0s 24ms/step\n+----+----------+-------+-------------------+------------------+------------------------------------+----------------+----------------------------------------+------------------+-----------------+-----+------------------+\n|Cust|Project_ID|BatchID|Time (h)           |Sugar mass flow   |Water for injection/dilution(Fw:L/h)|Temperature(T:K)|Dissolved oxygen concentration(DO2:mg/L)|Vessel Volume(V:L)|pH(pH:pH)        |Temp |Predict           |\n+----+----------+-------+-------------------+------------------+------------------------------------+----------------+----------------------------------------+------------------+-----------------+-----+------------------+\n|NGUY|LUC-01    |1      |2023-07-30T22:06:57|0.4857598717955937|256.0                               |300.0           |14.802517322464329                      |68795.0           |6.475295705902732|300.0|22.689311981201172|\n+----+----------+-------+-------------------+------------------+------------------------------------+----------------+----------------------------------------+------------------+-----------------+-----+------------------+\n\n\r1/1 [==============================] - ETA: 0s\b\b\b\b\b\b\b\b\b\b\b\b\b\b\b\b\b\b\b\b\b\b\b\b\b\b\b\b\b\b\b\b\b\b\b\b\b\b\b\b\b\b\b\b\b\b\r1/1 [==============================] - 0s 26ms/step\n+----+----------+-------+-------------------+-------------------+------------------------------------+----------------+----------------------------------------+------------------+------------------+-----+------------------+\n|Cust|Project_ID|BatchID|Time (h)           |Sugar mass flow    |Water for injection/dilution(Fw:L/h)|Temperature(T:K)|Dissolved oxygen concentration(DO2:mg/L)|Vessel Volume(V:L)|pH(pH:pH)         |Temp |Predict           |\n+----+----------+-------+-------------------+-------------------+------------------------------------+----------------+----------------------------------------+------------------+------------------+-----+------------------+\n|NGUY|LUC-01    |1      |2023-07-30T22:06:59|0.5138752279639063 |262.0                               |303.0           |14.950030276159616                      |67708.0           |6.036647541010697 |303.0|22.605785369873047|\n|NGUY|LUC-01    |1      |2023-07-30T22:07:01|0.5590601077413256 |256.0                               |305.0           |14.131922988758276                      |75125.0           |6.245897786832031 |305.0|22.605785369873047|\n|NGUY|LUC-01    |1      |2023-07-30T22:07:03|0.44169278709283294|259.0                               |305.0           |14.119380869331192                      |70660.0           |5.9910663722053314|305.0|22.605785369873047|\n|NGUY|LUC-01    |1      |2023-07-30T22:07:05|0.5697183939898574 |260.0                               |300.0           |14.822741335660812                      |67630.0           |5.813262399032032 |300.0|22.605785369873047|\n|NGUY|LUC-01    |1      |2023-07-30T22:07:07|0.4646749155953562 |259.0                               |302.0           |14.966807809279736                      |66008.0           |5.68234990473617  |302.0|22.605785369873047|\n|NGUY|LUC-01    |1      |2023-07-30T22:06:59|0.5138752279639063 |262.0                               |303.0           |14.950030276159616                      |67708.0           |6.036647541010697 |303.0|22.879070281982422|\n|NGUY|LUC-01    |1      |2023-07-30T22:07:01|0.5590601077413256 |256.0                               |305.0           |14.131922988758276                      |75125.0           |6.245897786832031 |305.0|22.879070281982422|\n|NGUY|LUC-01    |1      |2023-07-30T22:07:03|0.44169278709283294|259.0                               |305.0           |14.119380869331192                      |70660.0           |5.9910663722053314|305.0|22.879070281982422|\n|NGUY|LUC-01    |1      |2023-07-30T22:07:05|0.5697183939898574 |260.0                               |300.0           |14.822741335660812                      |67630.0           |5.813262399032032 |300.0|22.879070281982422|\n|NGUY|LUC-01    |1      |2023-07-30T22:07:07|0.4646749155953562 |259.0                               |302.0           |14.966807809279736                      |66008.0           |5.68234990473617  |302.0|22.879070281982422|\n|NGUY|LUC-01    |1      |2023-07-30T22:06:59|0.5138752279639063 |262.0                               |303.0           |14.950030276159616                      |67708.0           |6.036647541010697 |303.0|22.258625030517578|\n|NGUY|LUC-01    |1      |2023-07-30T22:07:01|0.5590601077413256 |256.0                               |305.0           |14.131922988758276                      |75125.0           |6.245897786832031 |305.0|22.258625030517578|\n|NGUY|LUC-01    |1      |2023-07-30T22:07:03|0.44169278709283294|259.0                               |305.0           |14.119380869331192                      |70660.0           |5.9910663722053314|305.0|22.258625030517578|\n|NGUY|LUC-01    |1      |2023-07-30T22:07:05|0.5697183939898574 |260.0                               |300.0           |14.822741335660812                      |67630.0           |5.813262399032032 |300.0|22.258625030517578|\n|NGUY|LUC-01    |1      |2023-07-30T22:07:07|0.4646749155953562 |259.0                               |302.0           |14.966807809279736                      |66008.0           |5.68234990473617  |302.0|22.258625030517578|\n|NGUY|LUC-01    |1      |2023-07-30T22:06:59|0.5138752279639063 |262.0                               |303.0           |14.950030276159616                      |67708.0           |6.036647541010697 |303.0|24.714021682739258|\n|NGUY|LUC-01    |1      |2023-07-30T22:06:59|0.5138752279639063 |262.0                               |303.0           |14.950030276159616                      |67708.0           |6.036647541010697 |303.0|23.83971405029297 |\n|NGUY|LUC-01    |1      |2023-07-30T22:07:01|0.5590601077413256 |256.0                               |305.0           |14.131922988758276                      |75125.0           |6.245897786832031 |305.0|24.714021682739258|\n|NGUY|LUC-01    |1      |2023-07-30T22:07:01|0.5590601077413256 |256.0                               |305.0           |14.131922988758276                      |75125.0           |6.245897786832031 |305.0|23.83971405029297 |\n|NGUY|LUC-01    |1      |2023-07-30T22:07:03|0.44169278709283294|259.0                               |305.0           |14.119380869331192                      |70660.0           |5.9910663722053314|305.0|24.714021682739258|\n+----+----------+-------+-------------------+-------------------+------------------------------------+----------------+----------------------------------------+------------------+------------------+-----+------------------+\nonly showing top 20 rows\n\n\r1/1 [==============================] - ETA: 0s\b\b\b\b\b\b\b\b\b\b\b\b\b\b\b\b\b\b\b\b\b\b\b\b\b\b\b\b\b\b\b\b\b\b\b\b\b\b\b\b\b\b\b\b\b\b\r1/1 [==============================] - 0s 25ms/step\n+----+----------+-------+-------------------+-------------------+------------------------------------+----------------+----------------------------------------+------------------+-----------------+-----+------------------+\n\n*** WARNING: skipped 3144545 bytes of output ***\n\n|NGUY|LUC-01    |1      |2023-07-30T23:43:20|0.5483952923732294 |263.0                               |304.0           |14.112257717774385                      |66191.0           |5.65778627086461 |304.0|24.467498779296875|\n|NGUY|LUC-01    |1      |2023-07-30T23:43:23|0.4596293416178494 |262.0                               |302.0           |14.724848669515149                      |67127.0           |6.391828757025847|302.0|24.467498779296875|\n|NGUY|LUC-01    |1      |2023-07-30T23:43:25|0.44857947786080904|264.0                               |302.0           |14.889795137362599                      |72213.0           |6.196567281274296|302.0|24.467498779296875|\n+----+----------+-------+-------------------+-------------------+------------------------------------+----------------+----------------------------------------+------------------+-----------------+-----+------------------+\n\n\r1/1 [==============================] - ETA: 0s\b\b\b\b\b\b\b\b\b\b\b\b\b\b\b\b\b\b\b\b\b\b\b\b\b\b\b\b\b\b\b\b\b\b\b\b\b\b\b\b\b\b\b\b\b\b\r1/1 [==============================] - 0s 20ms/step\n+----+----------+-------+-------------------+------------------+------------------------------------+----------------+----------------------------------------+------------------+-----------------+-----+------------------+\n|Cust|Project_ID|BatchID|Time (h)           |Sugar mass flow   |Water for injection/dilution(Fw:L/h)|Temperature(T:K)|Dissolved oxygen concentration(DO2:mg/L)|Vessel Volume(V:L)|pH(pH:pH)        |Temp |Predict           |\n+----+----------+-------+-------------------+------------------+------------------------------------+----------------+----------------------------------------+------------------+-----------------+-----+------------------+\n|NGUY|LUC-01    |1      |2023-07-30T23:43:27|0.4192622282982107|257.0                               |304.0           |14.759191693462512                      |71298.0           |5.74633487777789 |304.0|26.063491821289062|\n|NGUY|LUC-01    |1      |2023-07-30T23:43:29|0.470594204210628 |260.0                               |305.0           |14.871637714845548                      |67419.0           |6.160859464736896|305.0|26.063491821289062|\n|NGUY|LUC-01    |1      |2023-07-30T23:43:31|0.5297522970284692|265.0                               |305.0           |14.203697714391888                      |69224.0           |6.445992156506862|305.0|26.063491821289062|\n|NGUY|LUC-01    |1      |2023-07-30T23:43:33|0.4284121809767185|264.0                               |300.0           |14.673199367251897                      |72572.0           |6.066535493527871|300.0|26.063491821289062|\n|NGUY|LUC-01    |1      |2023-07-30T23:43:27|0.4192622282982107|257.0                               |304.0           |14.759191693462512                      |71298.0           |5.74633487777789 |304.0|17.24283790588379 |\n|NGUY|LUC-01    |1      |2023-07-30T23:43:29|0.470594204210628 |260.0                               |305.0           |14.871637714845548                      |67419.0           |6.160859464736896|305.0|17.24283790588379 |\n|NGUY|LUC-01    |1      |2023-07-30T23:43:31|0.5297522970284692|265.0                               |305.0           |14.203697714391888                      |69224.0           |6.445992156506862|305.0|17.24283790588379 |\n|NGUY|LUC-01    |1      |2023-07-30T23:43:33|0.4284121809767185|264.0                               |300.0           |14.673199367251897                      |72572.0           |6.066535493527871|300.0|17.24283790588379 |\n|NGUY|LUC-01    |1      |2023-07-30T23:43:27|0.4192622282982107|257.0                               |304.0           |14.759191693462512                      |71298.0           |5.74633487777789 |304.0|16.205272674560547|\n|NGUY|LUC-01    |1      |2023-07-30T23:43:29|0.470594204210628 |260.0                               |305.0           |14.871637714845548                      |67419.0           |6.160859464736896|305.0|16.205272674560547|\n|NGUY|LUC-01    |1      |2023-07-30T23:43:31|0.5297522970284692|265.0                               |305.0           |14.203697714391888                      |69224.0           |6.445992156506862|305.0|16.205272674560547|\n|NGUY|LUC-01    |1      |2023-07-30T23:43:33|0.4284121809767185|264.0                               |300.0           |14.673199367251897                      |72572.0           |6.066535493527871|300.0|16.205272674560547|\n|NGUY|LUC-01    |1      |2023-07-30T23:43:27|0.4192622282982107|257.0                               |304.0           |14.759191693462512                      |71298.0           |5.74633487777789 |304.0|24.1944580078125  |\n|NGUY|LUC-01    |1      |2023-07-30T23:43:29|0.470594204210628 |260.0                               |305.0           |14.871637714845548                      |67419.0           |6.160859464736896|305.0|24.1944580078125  |\n|NGUY|LUC-01    |1      |2023-07-30T23:43:31|0.5297522970284692|265.0                               |305.0           |14.203697714391888                      |69224.0           |6.445992156506862|305.0|24.1944580078125  |\n|NGUY|LUC-01    |1      |2023-07-30T23:43:33|0.4284121809767185|264.0                               |300.0           |14.673199367251897                      |72572.0           |6.066535493527871|300.0|24.1944580078125  |\n+----+----------+-------+-------------------+------------------+------------------------------------+----------------+----------------------------------------+------------------+-----------------+-----+------------------+\n\n\r1/1 [==============================] - ETA: 0s\b\b\b\b\b\b\b\b\b\b\b\b\b\b\b\b\b\b\b\b\b\b\b\b\b\b\b\b\b\b\b\b\b\b\b\b\b\b\b\b\b\b\b\b\b\b\r1/1 [==============================] - 0s 22ms/step\n+----+----------+-------+-------------------+-------------------+------------------------------------+----------------+----------------------------------------+------------------+-----------------+-----+------------------+\n|Cust|Project_ID|BatchID|Time (h)           |Sugar mass flow    |Water for injection/dilution(Fw:L/h)|Temperature(T:K)|Dissolved oxygen concentration(DO2:mg/L)|Vessel Volume(V:L)|pH(pH:pH)        |Temp |Predict           |\n+----+----------+-------+-------------------+-------------------+------------------------------------+----------------+----------------------------------------+------------------+-----------------+-----+------------------+\n|NGUY|LUC-01    |1      |2023-07-30T23:43:35|0.4098392855649844 |255.0                               |302.0           |14.257690805772977                      |72912.0           |5.505428290584574|302.0|29.009323120117188|\n|NGUY|LUC-01    |1      |2023-07-30T23:43:37|0.4169289169672502 |263.0                               |305.0           |14.15425865649999                       |70164.0           |5.908261158237569|305.0|29.009323120117188|\n|NGUY|LUC-01    |1      |2023-07-30T23:43:39|0.5566048561890905 |259.0                               |305.0           |14.43857720699128                       |67249.0           |6.443193037042661|305.0|29.009323120117188|\n|NGUY|LUC-01    |1      |2023-07-30T23:43:41|0.39324578416016626|255.0                               |300.0           |14.24083815682191                       |74345.0           |6.444275314837788|300.0|29.009323120117188|\n|NGUY|LUC-01    |1      |2023-07-30T23:43:43|0.5432384280553811 |264.0                               |305.0           |14.705247393373725                      |66837.0           |5.87435620509222 |305.0|29.009323120117188|\n|NGUY|LUC-01    |1      |2023-07-30T23:43:35|0.4098392855649844 |255.0                               |302.0           |14.257690805772977                      |72912.0           |5.505428290584574|302.0|22.631175994873047|\n|NGUY|LUC-01    |1      |2023-07-30T23:43:37|0.4169289169672502 |263.0                               |305.0           |14.15425865649999                       |70164.0           |5.908261158237569|305.0|22.631175994873047|\n|NGUY|LUC-01    |1      |2023-07-30T23:43:39|0.5566048561890905 |259.0                               |305.0           |14.43857720699128                       |67249.0           |6.443193037042661|305.0|22.631175994873047|\n|NGUY|LUC-01    |1      |2023-07-30T23:43:41|0.39324578416016626|255.0                               |300.0           |14.24083815682191                       |74345.0           |6.444275314837788|300.0|22.631175994873047|\n|NGUY|LUC-01    |1      |2023-07-30T23:43:43|0.5432384280553811 |264.0                               |305.0           |14.705247393373725                      |66837.0           |5.87435620509222 |305.0|22.631175994873047|\n|NGUY|LUC-01    |1      |2023-07-30T23:43:35|0.4098392855649844 |255.0                               |302.0           |14.257690805772977                      |72912.0           |5.505428290584574|302.0|14.369216918945312|\n|NGUY|LUC-01    |1      |2023-07-30T23:43:37|0.4169289169672502 |263.0                               |305.0           |14.15425865649999                       |70164.0           |5.908261158237569|305.0|14.369216918945312|\n|NGUY|LUC-01    |1      |2023-07-30T23:43:39|0.5566048561890905 |259.0                               |305.0           |14.43857720699128                       |67249.0           |6.443193037042661|305.0|14.369216918945312|\n|NGUY|LUC-01    |1      |2023-07-30T23:43:41|0.39324578416016626|255.0                               |300.0           |14.24083815682191                       |74345.0           |6.444275314837788|300.0|14.369216918945312|\n|NGUY|LUC-01    |1      |2023-07-30T23:43:43|0.5432384280553811 |264.0                               |305.0           |14.705247393373725                      |66837.0           |5.87435620509222 |305.0|14.369216918945312|\n|NGUY|LUC-01    |1      |2023-07-30T23:43:35|0.4098392855649844 |255.0                               |302.0           |14.257690805772977                      |72912.0           |5.505428290584574|302.0|21.842998504638672|\n|NGUY|LUC-01    |1      |2023-07-30T23:43:35|0.4098392855649844 |255.0                               |302.0           |14.257690805772977                      |72912.0           |5.505428290584574|302.0|19.351411819458008|\n|NGUY|LUC-01    |1      |2023-07-30T23:43:37|0.4169289169672502 |263.0                               |305.0           |14.15425865649999                       |70164.0           |5.908261158237569|305.0|21.842998504638672|\n|NGUY|LUC-01    |1      |2023-07-30T23:43:37|0.4169289169672502 |263.0                               |305.0           |14.15425865649999                       |70164.0           |5.908261158237569|305.0|19.351411819458008|\n|NGUY|LUC-01    |1      |2023-07-30T23:43:39|0.5566048561890905 |259.0                               |305.0           |14.43857720699128                       |67249.0           |6.443193037042661|305.0|21.842998504638672|\n+----+----------+-------+-------------------+-------------------+------------------------------------+----------------+----------------------------------------+------------------+-----------------+-----+------------------+\nonly showing top 20 rows\n\n\r1/1 [==============================] - ETA: 0s\b\b\b\b\b\b\b\b\b\b\b\b\b\b\b\b\b\b\b\b\b\b\b\b\b\b\b\b\b\b\b\b\b\b\b\b\b\b\b\b\b\b\b\b\b\b\r1/1 [==============================] - 0s 21ms/step\n+----+----------+-------+-------------------+-------------------+------------------------------------+----------------+----------------------------------------+------------------+------------------+-----+------------------+\n|Cust|Project_ID|BatchID|Time (h)           |Sugar mass flow    |Water for injection/dilution(Fw:L/h)|Temperature(T:K)|Dissolved oxygen concentration(DO2:mg/L)|Vessel Volume(V:L)|pH(pH:pH)         |Temp |Predict           |\n+----+----------+-------+-------------------+-------------------+------------------------------------+----------------+----------------------------------------+------------------+------------------+-----+------------------+\n|NGUY|LUC-01    |1      |2023-07-30T23:43:45|0.42573718312914804|255.0                               |301.0           |14.922925657550193                      |67666.0           |5.864065734949557 |301.0|24.798728942871094|\n|NGUY|LUC-01    |1      |2023-07-30T23:43:48|0.4580197874268153 |264.0                               |301.0           |14.965751436572202                      |69485.0           |5.596899207543428 |301.0|24.798728942871094|\n|NGUY|LUC-01    |1      |2023-07-30T23:43:50|0.43281084198065967|259.0                               |305.0           |14.215619252360199                      |74933.0           |5.5082121121291685|305.0|24.798728942871094|\n|NGUY|LUC-01    |1      |2023-07-30T23:43:52|0.4003627126311868 |261.0                               |300.0           |14.571309512858145                      |72703.0           |5.660956439919019 |300.0|24.798728942871094|\n|NGUY|LUC-01    |1      |2023-07-30T23:43:45|0.42573718312914804|255.0                               |301.0           |14.922925657550193                      |67666.0           |5.864065734949557 |301.0|26.481399536132812|\n|NGUY|LUC-01    |1      |2023-07-30T23:43:48|0.4580197874268153 |264.0                               |301.0           |14.965751436572202                      |69485.0           |5.596899207543428 |301.0|26.481399536132812|\n|NGUY|LUC-01    |1      |2023-07-30T23:43:50|0.43281084198065967|259.0                               |305.0           |14.215619252360199                      |74933.0           |5.5082121121291685|305.0|26.481399536132812|\n|NGUY|LUC-01    |1      |2023-07-30T23:43:52|0.4003627126311868 |261.0                               |300.0           |14.571309512858145                      |72703.0           |5.660956439919019 |300.0|26.481399536132812|\n|NGUY|LUC-01    |1      |2023-07-30T23:43:45|0.42573718312914804|255.0                               |301.0           |14.922925657550193                      |67666.0           |5.864065734949557 |301.0|29.54132843017578 |\n|NGUY|LUC-01    |1      |2023-07-30T23:43:48|0.4580197874268153 |264.0                               |301.0           |14.965751436572202                      |69485.0           |5.596899207543428 |301.0|29.54132843017578 |\n|NGUY|LUC-01    |1      |2023-07-30T23:43:50|0.43281084198065967|259.0                               |305.0           |14.215619252360199                      |74933.0           |5.5082121121291685|305.0|29.54132843017578 |\n|NGUY|LUC-01    |1      |2023-07-30T23:43:52|0.4003627126311868 |261.0                               |300.0           |14.571309512858145                      |72703.0           |5.660956439919019 |300.0|29.54132843017578 |\n|NGUY|LUC-01    |1      |2023-07-30T23:43:45|0.42573718312914804|255.0                               |301.0           |14.922925657550193                      |67666.0           |5.864065734949557 |301.0|25.775100708007812|\n|NGUY|LUC-01    |1      |2023-07-30T23:43:48|0.4580197874268153 |264.0                               |301.0           |14.965751436572202                      |69485.0           |5.596899207543428 |301.0|25.775100708007812|\n|NGUY|LUC-01    |1      |2023-07-30T23:43:50|0.43281084198065967|259.0                               |305.0           |14.215619252360199                      |74933.0           |5.5082121121291685|305.0|25.775100708007812|\n|NGUY|LUC-01    |1      |2023-07-30T23:43:52|0.4003627126311868 |261.0                               |300.0           |14.571309512858145                      |72703.0           |5.660956439919019 |300.0|25.775100708007812|\n+----+----------+-------+-------------------+-------------------+------------------------------------+----------------+----------------------------------------+------------------+------------------+-----+------------------+\n\n\r1/1 [==============================] - ETA: 0s\b\b\b\b\b\b\b\b\b\b\b\b\b\b\b\b\b\b\b\b\b\b\b\b\b\b\b\b\b\b\b\b\b\b\b\b\b\b\b\b\b\b\b\b\b\b\r1/1 [==============================] - 0s 22ms/step\n+----+----------+-------+-------------------+------------------+------------------------------------+----------------+----------------------------------------+------------------+-----------------+-----+------------------+\n|Cust|Project_ID|BatchID|Time (h)           |Sugar mass flow   |Water for injection/dilution(Fw:L/h)|Temperature(T:K)|Dissolved oxygen concentration(DO2:mg/L)|Vessel Volume(V:L)|pH(pH:pH)        |Temp |Predict           |\n+----+----------+-------+-------------------+------------------+------------------------------------+----------------+----------------------------------------+------------------+-----------------+-----+------------------+\n|NGUY|LUC-01    |1      |2023-07-30T23:43:54|0.4002075861851681|261.0                               |303.0           |14.41282152254542                       |72321.0           |5.651744783688017|303.0|28.27408790588379 |\n|NGUY|LUC-01    |1      |2023-07-30T23:43:56|0.408771246002131 |265.0                               |303.0           |14.680206649268282                      |74795.0           |6.040562282985828|303.0|28.27408790588379 |\n|NGUY|LUC-01    |1      |2023-07-30T23:43:58|0.558422835085618 |255.0                               |303.0           |14.304173302609776                      |67265.0           |6.092594717891029|303.0|28.27408790588379 |\n|NGUY|LUC-01    |1      |2023-07-30T23:44:00|0.4507351431323558|262.0                               |301.0           |14.245405646243782                      |67366.0           |5.800479603734855|301.0|28.27408790588379 |\n|NGUY|LUC-01    |1      |2023-07-30T23:43:54|0.4002075861851681|261.0                               |303.0           |14.41282152254542                       |72321.0           |5.651744783688017|303.0|25.85405731201172 |\n|NGUY|LUC-01    |1      |2023-07-30T23:43:56|0.408771246002131 |265.0                               |303.0           |14.680206649268282                      |74795.0           |6.040562282985828|303.0|25.85405731201172 |\n|NGUY|LUC-01    |1      |2023-07-30T23:43:58|0.558422835085618 |255.0                               |303.0           |14.304173302609776                      |67265.0           |6.092594717891029|303.0|25.85405731201172 |\n|NGUY|LUC-01    |1      |2023-07-30T23:44:00|0.4507351431323558|262.0                               |301.0           |14.245405646243782                      |67366.0           |5.800479603734855|301.0|25.85405731201172 |\n|NGUY|LUC-01    |1      |2023-07-30T23:43:54|0.4002075861851681|261.0                               |303.0           |14.41282152254542                       |72321.0           |5.651744783688017|303.0|22.137418746948242|\n|NGUY|LUC-01    |1      |2023-07-30T23:43:56|0.408771246002131 |265.0                               |303.0           |14.680206649268282                      |74795.0           |6.040562282985828|303.0|22.137418746948242|\n|NGUY|LUC-01    |1      |2023-07-30T23:43:58|0.558422835085618 |255.0                               |303.0           |14.304173302609776                      |67265.0           |6.092594717891029|303.0|22.137418746948242|\n|NGUY|LUC-01    |1      |2023-07-30T23:44:00|0.4507351431323558|262.0                               |301.0           |14.245405646243782                      |67366.0           |5.800479603734855|301.0|22.137418746948242|\n|NGUY|LUC-01    |1      |2023-07-30T23:43:54|0.4002075861851681|261.0                               |303.0           |14.41282152254542                       |72321.0           |5.651744783688017|303.0|25.37659454345703 |\n|NGUY|LUC-01    |1      |2023-07-30T23:43:56|0.408771246002131 |265.0                               |303.0           |14.680206649268282                      |74795.0           |6.040562282985828|303.0|25.37659454345703 |\n|NGUY|LUC-01    |1      |2023-07-30T23:43:58|0.558422835085618 |255.0                               |303.0           |14.304173302609776                      |67265.0           |6.092594717891029|303.0|25.37659454345703 |\n|NGUY|LUC-01    |1      |2023-07-30T23:44:00|0.4507351431323558|262.0                               |301.0           |14.245405646243782                      |67366.0           |5.800479603734855|301.0|25.37659454345703 |\n+----+----------+-------+-------------------+------------------+------------------------------------+----------------+----------------------------------------+------------------+-----------------+-----+------------------+\n\n\r1/1 [==============================] - ETA: 0s\b\b\b\b\b\b\b\b\b\b\b\b\b\b\b\b\b\b\b\b\b\b\b\b\b\b\b\b\b\b\b\b\b\b\b\b\b\b\b\b\b\b\b\b\b\b\r1/1 [==============================] - 0s 22ms/step\n+----+----------+-------+-------------------+-------------------+------------------------------------+----------------+----------------------------------------+------------------+------------------+-----+------------------+\n|Cust|Project_ID|BatchID|Time (h)           |Sugar mass flow    |Water for injection/dilution(Fw:L/h)|Temperature(T:K)|Dissolved oxygen concentration(DO2:mg/L)|Vessel Volume(V:L)|pH(pH:pH)         |Temp |Predict           |\n+----+----------+-------+-------------------+-------------------+------------------------------------+----------------+----------------------------------------+------------------+------------------+-----+------------------+\n|NGUY|LUC-01    |1      |2023-07-30T23:44:02|0.5181731122719987 |255.0                               |301.0           |14.661648498903139                      |67798.0           |6.407290098972044 |301.0|22.628463745117188|\n|NGUY|LUC-01    |1      |2023-07-30T23:44:04|0.4223139756168662 |261.0                               |303.0           |14.713452896732473                      |65828.0           |5.643301399477224 |303.0|22.628463745117188|\n|NGUY|LUC-01    |1      |2023-07-30T23:44:06|0.5028295703665161 |259.0                               |300.0           |14.116446552493677                      |74669.0           |6.2525962701644175|300.0|22.628463745117188|\n|NGUY|LUC-01    |1      |2023-07-30T23:44:08|0.48651275128779387|261.0                               |302.0           |14.612694212297287                      |65537.0           |6.108802558054258 |302.0|22.628463745117188|\n|NGUY|LUC-01    |1      |2023-07-30T23:44:02|0.5181731122719987 |255.0                               |301.0           |14.661648498903139                      |67798.0           |6.407290098972044 |301.0|23.922039031982422|\n|NGUY|LUC-01    |1      |2023-07-30T23:44:04|0.4223139756168662 |261.0                               |303.0           |14.713452896732473                      |65828.0           |5.643301399477224 |303.0|23.922039031982422|\n|NGUY|LUC-01    |1      |2023-07-30T23:44:06|0.5028295703665161 |259.0                               |300.0           |14.116446552493677                      |74669.0           |6.2525962701644175|300.0|23.922039031982422|\n|NGUY|LUC-01    |1      |2023-07-30T23:44:08|0.48651275128779387|261.0                               |302.0           |14.612694212297287                      |65537.0           |6.108802558054258 |302.0|23.922039031982422|\n|NGUY|LUC-01    |1      |2023-07-30T23:44:02|0.5181731122719987 |255.0                               |301.0           |14.661648498903139                      |67798.0           |6.407290098972044 |301.0|22.75156021118164 |\n|NGUY|LUC-01    |1      |2023-07-30T23:44:04|0.4223139756168662 |261.0                               |303.0           |14.713452896732473                      |65828.0           |5.643301399477224 |303.0|22.75156021118164 |\n|NGUY|LUC-01    |1      |2023-07-30T23:44:06|0.5028295703665161 |259.0                               |300.0           |14.116446552493677                      |74669.0           |6.2525962701644175|300.0|22.75156021118164 |\n|NGUY|LUC-01    |1      |2023-07-30T23:44:08|0.48651275128779387|261.0                               |302.0           |14.612694212297287                      |65537.0           |6.108802558054258 |302.0|22.75156021118164 |\n|NGUY|LUC-01    |1      |2023-07-30T23:44:02|0.5181731122719987 |255.0                               |301.0           |14.661648498903139                      |67798.0           |6.407290098972044 |301.0|21.041847229003906|\n|NGUY|LUC-01    |1      |2023-07-30T23:44:04|0.4223139756168662 |261.0                               |303.0           |14.713452896732473                      |65828.0           |5.643301399477224 |303.0|21.041847229003906|\n|NGUY|LUC-01    |1      |2023-07-30T23:44:06|0.5028295703665161 |259.0                               |300.0           |14.116446552493677                      |74669.0           |6.2525962701644175|300.0|21.041847229003906|\n|NGUY|LUC-01    |1      |2023-07-30T23:44:08|0.48651275128779387|261.0                               |302.0           |14.612694212297287                      |65537.0           |6.108802558054258 |302.0|21.041847229003906|\n+----+----------+-------+-------------------+-------------------+------------------------------------+----------------+----------------------------------------+------------------+------------------+-----+------------------+\n\n</div>",
       "datasetInfos": [],
       "metadata": {},
       "removedWidgets": [],
       "type": "html"
      }
     },
     "output_type": "display_data"
    },
    {
     "output_type": "display_data",
     "data": {
      "text/html": [
       "<style scoped>\n",
       "  .ansiout {\n",
       "    display: block;\n",
       "    unicode-bidi: embed;\n",
       "    white-space: pre-wrap;\n",
       "    word-wrap: break-word;\n",
       "    word-break: break-all;\n",
       "    font-family: \"Source Code Pro\", \"Menlo\", monospace;;\n",
       "    font-size: 13px;\n",
       "    color: #555;\n",
       "    margin-left: 4px;\n",
       "    line-height: 19px;\n",
       "  }\n",
       "</style>"
      ]
     },
     "metadata": {
      "application/vnd.databricks.v1+output": {
       "arguments": {},
       "data": "",
       "errorSummary": "Cancelled",
       "errorTraceType": "html",
       "metadata": {},
       "type": "ipynbError"
      }
     },
     "output_type": "display_data"
    }
   ],
   "source": [
    "from pyspark.ml.feature import VectorAssembler\n",
    "from pyspark.ml.feature import StandardScaler\n",
    "from pyspark.sql.functions import udf\n",
    "from pyspark.ml.linalg import VectorUDT\n",
    "import numpy as np\n",
    "from datetime import datetime\n",
    "import threading\n",
    "import requests\n",
    "from pyspark.sql.functions import date_format\n",
    "\n",
    "import json\n",
    "count = 0\n",
    "def process_batch(batch_df, batch_id):\n",
    "    data = batch_df.select(from_json(col(\"body\").cast(\"string\"), Schema).alias(\"data\")) \\\n",
    "    .select(\"data.*\")\n",
    "    # data.write.format(\"parquet\").mode(\"append\").save(f\"wasbs://{container_name}@{blob_storage_account_name}.blob.core.windows.net/\")\n",
    "    data.write.format(\"parquet\").mode(\"append\").save('/mnt/data_stream/parquet/data_stream_parquet')\n",
    "    transform_sdf = data.select(\n",
    "        col(\"Cust\").cast(\"string\").alias('Cust'),\n",
    "        col(\"Project_ID\").cast(\"string\").alias('Project_ID'),\n",
    "        col(\"BatchID\").cast(\"string\").alias('BatchID'),\n",
    "\n",
    "        col(\"Time (h)\").cast(\"string\").alias('Time (h)'),\n",
    "        (col(\"Sugar feed rate(Fs:L/h)\") * col(\"Substrate concentration(S:g/L)\")).alias(\"Sugar mass flow\"),\n",
    "        col(\"Water for injection/dilution(Fw:L/h)\").cast(DoubleType()).alias(\"Water for injection/dilution(Fw:L/h)\"),\n",
    "        col(\"Temperature(T:K)\").cast(DoubleType()).alias(\"Temperature(T:K)\"),\n",
    "        col(\"Dissolved oxygen concentration(DO2:mg/L)\").cast(DoubleType()).alias(\"Dissolved oxygen concentration(DO2:mg/L)\"),\n",
    "        col(\"Vessel Volume(V:L)\").cast(DoubleType()).alias(\"Vessel Volume(V:L)\"),\n",
    "        col(\"pH(pH:pH)\").cast(DoubleType()).alias(\"pH(pH:pH)\"),\n",
    "        col(\"Temperature(T:K)\").cast(DoubleType()).alias(\"Temp\")\n",
    "\n",
    "    )\n",
    "    # data.show(truncate = False)\n",
    "\n",
    "    # Thêm định dạng vào cột \"Time (h)\" theo chuỗi \"%Y-%m-%dT%H:%M:%S\"\n",
    "    transform_sdf = transform_sdf.withColumn(\"Time (h)\", date_format(col(\"Time (h)\"), \"yyyy-MM-dd'T'HH:mm:ss\"))\n",
    "\n",
    "    # data.show(truncate = False)\n",
    "    X= np.array(transform_sdf.select(\"Sugar mass flow\",\"Water for injection/dilution(Fw:L/h)\",\"Temperature(T:K)\",\n",
    "             \"Dissolved oxygen concentration(DO2:mg/L)\",\"Vessel Volume(V:L)\",\"pH(pH:pH)\",\"Temp\").collect())\n",
    "    try:\n",
    "        scaled_data = scale.transform(X)\n",
    "    except:\n",
    "        print('There is no data from input eventhub. Please make sure the input source has data and then try again.')\n",
    "        return False\n",
    "    Predict = ann_model_process.predict(scaled_data).tolist()\n",
    "\n",
    "    transform_sdf = transform_sdf.join(spark.createDataFrame(Predict,['Predict']))\n",
    "    transform_sdf.show(truncate=False)# spark dataframe to print \n",
    "    send_PowerBI(transform_sdf)\n",
    "    # try:\n",
    "    #     send_PowerBI(transform_sdf)\n",
    "    # except:\n",
    "    #     print('WARNING IGNORE DATA. MANY DATA NOW')\n",
    "        \n",
    "    # Lưu DataFrame vào Cassandra\n",
    "    # transform_sdf.write \\\n",
    "    #     .format(\"org.apache.spark.sql.cassandra\") \\\n",
    "    #     .options(table=table, keyspace=keyspace) \\\n",
    "    #     .mode(\"append\") \\\n",
    "    #     .save()\n",
    "    # transform_sdf.write.format(\"delta\").mode(\"append\").save('dbfs:/user/hive/warehouse/data_stream')\n",
    "    # transform_sdf.write.format(\"delta\").mode(\"append\").save(delta_location)\n",
    "    # transform_sdf.write.format(\"parquet\").mode(\"append\").save('/mnt/data_stream/gold/data')\n",
    "    # spark.read.parquet(\"/mnt/data_stream/gold/data\").write.mode('overwrite').saveAsTable(\"gold_dataset\")\n",
    "    # transform_sdf.write.format(\"delta\").option(\"delta.columnMapping.mode\", \"name\").mode(\"overwrite\").saveAsTable(\"gold_dataset\")\n",
    "\n",
    "    \n",
    "stream = spark.readStream \\\n",
    "    .format(\"eventhubs\") \\\n",
    "    .options(**eventhubConfig) \\\n",
    "    .load()\n",
    "\n",
    "\n",
    "query = stream.writeStream \\\n",
    "    .foreachBatch(process_batch) \\\n",
    "    .outputMode(\"append\") \\\n",
    "    .option(\"checkpointLocation\", \"/mnt/raw/data/source=eventhhub1/dataset = test-eventhub-stream/12\") \\\n",
    "    .start()\n",
    "\n",
    "query.awaitTermination()\n",
    "\n",
    "\n"
   ]
  },
  {
   "cell_type": "code",
   "execution_count": 0,
   "metadata": {
    "application/vnd.databricks.v1+cell": {
     "cellMetadata": {
      "byteLimit": 2048000,
      "rowLimit": 10000
     },
     "inputWidgets": {},
     "nuid": "bcd34130-bcb6-43db-b489-3520e40d03fe",
     "showTitle": false,
     "title": ""
    }
   },
   "outputs": [
    {
     "output_type": "display_data",
     "data": {
      "text/html": [
       "<style scoped>\n",
       "  .ansiout {\n",
       "    display: block;\n",
       "    unicode-bidi: embed;\n",
       "    white-space: pre-wrap;\n",
       "    word-wrap: break-word;\n",
       "    word-break: break-all;\n",
       "    font-family: \"Source Code Pro\", \"Menlo\", monospace;;\n",
       "    font-size: 13px;\n",
       "    color: #555;\n",
       "    margin-left: 4px;\n",
       "    line-height: 19px;\n",
       "  }\n",
       "</style>"
      ]
     },
     "metadata": {
      "application/vnd.databricks.v1+output": {
       "arguments": {},
       "data": "",
       "errorSummary": "Command skipped",
       "errorTraceType": "html",
       "metadata": {},
       "type": "ipynbError"
      }
     },
     "output_type": "display_data"
    }
   ],
   "source": [
    "newdf = spark.read.format('parquet').load('/mnt/data_stream/parquet/data_stream_parquet')\n",
    "display(newdf)"
   ]
  },
  {
   "cell_type": "code",
   "execution_count": 0,
   "metadata": {
    "application/vnd.databricks.v1+cell": {
     "cellMetadata": {
      "byteLimit": 2048000,
      "rowLimit": 10000
     },
     "inputWidgets": {},
     "nuid": "1b873641-be66-437f-bc47-6656235589e9",
     "showTitle": false,
     "title": ""
    }
   },
   "outputs": [
    {
     "output_type": "display_data",
     "data": {
      "text/html": [
       "<style scoped>\n",
       "  .ansiout {\n",
       "    display: block;\n",
       "    unicode-bidi: embed;\n",
       "    white-space: pre-wrap;\n",
       "    word-wrap: break-word;\n",
       "    word-break: break-all;\n",
       "    font-family: \"Source Code Pro\", \"Menlo\", monospace;;\n",
       "    font-size: 13px;\n",
       "    color: #555;\n",
       "    margin-left: 4px;\n",
       "    line-height: 19px;\n",
       "  }\n",
       "</style>"
      ]
     },
     "metadata": {
      "application/vnd.databricks.v1+output": {
       "arguments": {},
       "data": "",
       "errorSummary": "Command skipped",
       "errorTraceType": "html",
       "metadata": {},
       "type": "ipynbError"
      }
     },
     "output_type": "display_data"
    }
   ],
   "source": [
    "newdf = spark.read.format('delta').load(delta_location)\n",
    "display(newdf)"
   ]
  }
 ],
 "metadata": {
  "application/vnd.databricks.v1+notebook": {
   "dashboards": [],
   "language": "python",
   "notebookMetadata": {
    "mostRecentlyExecutedCommandWithImplicitDF": {
     "commandId": -1,
     "dataframes": [
      "_sqldf"
     ]
    },
    "pythonIndentUnit": 4
   },
   "notebookName": "evhub_stream_spark_parquet_cosmos_schedule",
   "widgets": {}
  }
 },
 "nbformat": 4,
 "nbformat_minor": 0
}
